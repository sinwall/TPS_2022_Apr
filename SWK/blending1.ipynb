{
 "cells": [
  {
   "cell_type": "markdown",
   "id": "029d4de7",
   "metadata": {
    "papermill": {
     "duration": 0.005965,
     "end_time": "2022-10-19T13:58:37.182349",
     "exception": false,
     "start_time": "2022-10-19T13:58:37.176384",
     "status": "completed"
    },
    "tags": []
   },
   "source": [
    "#BLENDING"
   ]
  },
  {
   "cell_type": "code",
   "execution_count": 1,
   "id": "b2da786b",
   "metadata": {
    "execution": {
     "iopub.execute_input": "2022-10-19T13:58:37.193546Z",
     "iopub.status.busy": "2022-10-19T13:58:37.192572Z",
     "iopub.status.idle": "2022-10-19T13:58:37.204554Z",
     "shell.execute_reply": "2022-10-19T13:58:37.203491Z"
    },
    "papermill": {
     "duration": 0.020089,
     "end_time": "2022-10-19T13:58:37.206777",
     "exception": false,
     "start_time": "2022-10-19T13:58:37.186688",
     "status": "completed"
    },
    "tags": []
   },
   "outputs": [],
   "source": [
    "input_path = '../input/'\n",
    "output_path = './'"
   ]
  },
  {
   "cell_type": "code",
   "execution_count": 2,
   "id": "5366b5b1",
   "metadata": {
    "execution": {
     "iopub.execute_input": "2022-10-19T13:58:37.217210Z",
     "iopub.status.busy": "2022-10-19T13:58:37.216237Z",
     "iopub.status.idle": "2022-10-19T13:58:38.285913Z",
     "shell.execute_reply": "2022-10-19T13:58:38.284768Z"
    },
    "papermill": {
     "duration": 1.07752,
     "end_time": "2022-10-19T13:58:38.288612",
     "exception": false,
     "start_time": "2022-10-19T13:58:37.211092",
     "status": "completed"
    },
    "tags": []
   },
   "outputs": [],
   "source": [
    "import pandas as pd\n",
    "import numpy as np\n",
    "from sklearn.metrics import roc_auc_score\n",
    "from sklearn import model_selection\n",
    "\n",
    "def load_raw_data(folder_name,train_or_test=\"train\"):\n",
    "    file_name = f'{input_path}/{folder_name}/{train_or_test}.csv'\n",
    "    df = pd.read_csv(file_name)\n",
    "    return df\n",
    "\n",
    "def load_label(train_or_test='train'):\n",
    "    file_name = input_path +\"/tabular-playground-series-apr-2022/\"+ ('train_labels.csv' if train_or_test=='train' else 'sample_submission.csv')\n",
    "    df = pd.read_csv(file_name)\n",
    "    return df['state'].values\n",
    "\n",
    "def competition_metric(y_true, y_score):\n",
    "    return roc_auc_score(y_true, y_score)\n",
    "\n",
    "def evaluate(model, X, y):\n",
    "    return competition_metric(y, model.predict_proba(X)[:, 1])\n",
    "\n",
    "\n",
    "def submit(arr):\n",
    "    df = pd.read_csv(f'{input_path}/tabular-playground-series-apr-2022/sample_submission.csv')\n",
    "    df['state'] = arr\n",
    "    df.to_csv(f'{output_path}/submission.csv', index=False)\n",
    "\n",
    "\n",
    "def to_csv(arr,train_or_test='train',name=None):\n",
    "    df = pd.DataFrame(arr)\n",
    "    if type(name)==str:\n",
    "        df.to_csv(f'{output_path}/{name}_{train_or_test}.csv', index = False )\n",
    "    else:\n",
    "        df.to_csv(f'{output_path}/{train_or_test}.csv', index = False )\n",
    "\n"
   ]
  },
  {
   "cell_type": "code",
   "execution_count": 3,
   "id": "187a80e7",
   "metadata": {
    "execution": {
     "iopub.execute_input": "2022-10-19T13:58:38.300257Z",
     "iopub.status.busy": "2022-10-19T13:58:38.299843Z",
     "iopub.status.idle": "2022-10-19T13:58:38.304927Z",
     "shell.execute_reply": "2022-10-19T13:58:38.304013Z"
    },
    "papermill": {
     "duration": 0.012478,
     "end_time": "2022-10-19T13:58:38.306974",
     "exception": false,
     "start_time": "2022-10-19T13:58:38.294496",
     "status": "completed"
    },
    "tags": []
   },
   "outputs": [],
   "source": [
    "def short_test(x,y,n):\n",
    "    return x.loc[x.sequence<n] ,y[:n]"
   ]
  },
  {
   "cell_type": "code",
   "execution_count": 4,
   "id": "8bf04400",
   "metadata": {
    "execution": {
     "iopub.execute_input": "2022-10-19T13:58:38.317749Z",
     "iopub.status.busy": "2022-10-19T13:58:38.317057Z",
     "iopub.status.idle": "2022-10-19T13:58:38.661138Z",
     "shell.execute_reply": "2022-10-19T13:58:38.659789Z"
    },
    "papermill": {
     "duration": 0.352979,
     "end_time": "2022-10-19T13:58:38.664321",
     "exception": false,
     "start_time": "2022-10-19T13:58:38.311342",
     "status": "completed"
    },
    "tags": []
   },
   "outputs": [],
   "source": [
    "df_NN_pure = load_raw_data(\"tbr-apr-22-nn-pure\").to_numpy()\n",
    "df_F_pure_wc_val_0 = load_raw_data(\"feature-wc-val-0\").to_numpy()\n",
    "df_F_double_woc = load_raw_data(\"tbr-apr-2022-feature-double-woc\").to_numpy()\n",
    "df_NN_pure_soft = pd.read_csv('../input/tbr-apr-22-nn-pure/soft_train.csv').to_numpy().reshape(-1,1)\n"
   ]
  },
  {
   "cell_type": "code",
   "execution_count": 5,
   "id": "cd4dbef2",
   "metadata": {
    "execution": {
     "iopub.execute_input": "2022-10-19T13:58:38.678012Z",
     "iopub.status.busy": "2022-10-19T13:58:38.677271Z",
     "iopub.status.idle": "2022-10-19T13:58:38.823329Z",
     "shell.execute_reply": "2022-10-19T13:58:38.822219Z"
    },
    "papermill": {
     "duration": 0.155518,
     "end_time": "2022-10-19T13:58:38.826153",
     "exception": false,
     "start_time": "2022-10-19T13:58:38.670635",
     "status": "completed"
    },
    "tags": []
   },
   "outputs": [],
   "source": [
    "df_test_NN_pure = load_raw_data(\"tbr-apr-22-nn-pure\",\"test\").to_numpy()\n",
    "df_test_F_pure_wc_val_0 = load_raw_data(\"feature-wc-val-0\",\"test\").to_numpy()\n",
    "df_test_F_double_woc = load_raw_data(\"tbr-apr-2022-feature-double-woc\",\"test\").to_numpy()\n",
    "df_test_NN_pure_soft = pd.read_csv('../input/tbr-apr-22-nn-pure/soft_test.csv').to_numpy().reshape(-1,1)\n"
   ]
  },
  {
   "cell_type": "code",
   "execution_count": 6,
   "id": "7af745a0",
   "metadata": {
    "execution": {
     "iopub.execute_input": "2022-10-19T13:58:38.836893Z",
     "iopub.status.busy": "2022-10-19T13:58:38.835901Z",
     "iopub.status.idle": "2022-10-19T13:58:38.870959Z",
     "shell.execute_reply": "2022-10-19T13:58:38.869813Z"
    },
    "papermill": {
     "duration": 0.043171,
     "end_time": "2022-10-19T13:58:38.873733",
     "exception": false,
     "start_time": "2022-10-19T13:58:38.830562",
     "status": "completed"
    },
    "tags": []
   },
   "outputs": [],
   "source": [
    "\n",
    "y = load_label(\"train\")\n",
    "y_test = load_label('test')\n",
    "yy = np.concatenate([y,y], axis=0)"
   ]
  },
  {
   "cell_type": "code",
   "execution_count": 7,
   "id": "6414e188",
   "metadata": {
    "execution": {
     "iopub.execute_input": "2022-10-19T13:58:38.884147Z",
     "iopub.status.busy": "2022-10-19T13:58:38.883759Z",
     "iopub.status.idle": "2022-10-19T13:58:38.892777Z",
     "shell.execute_reply": "2022-10-19T13:58:38.891721Z"
    },
    "papermill": {
     "duration": 0.016901,
     "end_time": "2022-10-19T13:58:38.895168",
     "exception": false,
     "start_time": "2022-10-19T13:58:38.878267",
     "status": "completed"
    },
    "tags": []
   },
   "outputs": [],
   "source": [
    "valids = np.concatenate([\n",
    "                          df_NN_pure,\n",
    "                          df_F_pure_wc_val_0,\n",
    "                          df_F_double_woc[:25968],\n",
    "                          df_NN_pure_soft\n",
    "                            ], axis=1)"
   ]
  },
  {
   "cell_type": "code",
   "execution_count": 8,
   "id": "7290a928",
   "metadata": {
    "execution": {
     "iopub.execute_input": "2022-10-19T13:58:38.905831Z",
     "iopub.status.busy": "2022-10-19T13:58:38.904641Z",
     "iopub.status.idle": "2022-10-19T13:58:38.912002Z",
     "shell.execute_reply": "2022-10-19T13:58:38.911286Z"
    },
    "papermill": {
     "duration": 0.014611,
     "end_time": "2022-10-19T13:58:38.913940",
     "exception": false,
     "start_time": "2022-10-19T13:58:38.899329",
     "status": "completed"
    },
    "tags": []
   },
   "outputs": [],
   "source": [
    "tests= np.concatenate([\n",
    "                          df_test_NN_pure,\n",
    "                          df_test_F_pure_wc_val_0,\n",
    "                          df_test_F_double_woc[:25968],\n",
    "                          df_test_NN_pure_soft\n",
    "                            ], axis=1)"
   ]
  },
  {
   "cell_type": "code",
   "execution_count": 9,
   "id": "135822a5",
   "metadata": {
    "execution": {
     "iopub.execute_input": "2022-10-19T13:58:38.923830Z",
     "iopub.status.busy": "2022-10-19T13:58:38.923246Z",
     "iopub.status.idle": "2022-10-19T13:58:39.755928Z",
     "shell.execute_reply": "2022-10-19T13:58:39.755081Z"
    },
    "papermill": {
     "duration": 0.840342,
     "end_time": "2022-10-19T13:58:39.758436",
     "exception": false,
     "start_time": "2022-10-19T13:58:38.918094",
     "status": "completed"
    },
    "tags": []
   },
   "outputs": [
    {
     "data": {
      "text/html": [
       "<style type='text/css'>\n",
       ".datatable table.frame { margin-bottom: 0; }\n",
       ".datatable table.frame thead { border-bottom: none; }\n",
       ".datatable table.frame tr.coltypes td {  color: #FFFFFF;  line-height: 6px;  padding: 0 0.5em;}\n",
       ".datatable .bool    { background: #DDDD99; }\n",
       ".datatable .object  { background: #565656; }\n",
       ".datatable .int     { background: #5D9E5D; }\n",
       ".datatable .float   { background: #4040CC; }\n",
       ".datatable .str     { background: #CC4040; }\n",
       ".datatable .time    { background: #40CC40; }\n",
       ".datatable .row_index {  background: var(--jp-border-color3);  border-right: 1px solid var(--jp-border-color0);  color: var(--jp-ui-font-color3);  font-size: 9px;}\n",
       ".datatable .frame tbody td { text-align: left; }\n",
       ".datatable .frame tr.coltypes .row_index {  background: var(--jp-border-color0);}\n",
       ".datatable th:nth-child(2) { padding-left: 12px; }\n",
       ".datatable .hellipsis {  color: var(--jp-cell-editor-border-color);}\n",
       ".datatable .vellipsis {  background: var(--jp-layout-color0);  color: var(--jp-cell-editor-border-color);}\n",
       ".datatable .na {  color: var(--jp-cell-editor-border-color);  font-size: 80%;}\n",
       ".datatable .sp {  opacity: 0.25;}\n",
       ".datatable .footer { font-size: 9px; }\n",
       ".datatable .frame_dimensions {  background: var(--jp-border-color3);  border-top: 1px solid var(--jp-border-color0);  color: var(--jp-ui-font-color3);  display: inline-block;  opacity: 0.6;  padding: 1px 10px 1px 5px;}\n",
       "</style>\n"
      ],
      "text/plain": [
       "<IPython.core.display.HTML object>"
      ]
     },
     "metadata": {},
     "output_type": "display_data"
    }
   ],
   "source": [
    "from lightgbm import LGBMClassifier\n"
   ]
  },
  {
   "cell_type": "code",
   "execution_count": 10,
   "id": "39ac1afa",
   "metadata": {
    "execution": {
     "iopub.execute_input": "2022-10-19T13:58:39.769429Z",
     "iopub.status.busy": "2022-10-19T13:58:39.768866Z",
     "iopub.status.idle": "2022-10-19T13:58:39.772962Z",
     "shell.execute_reply": "2022-10-19T13:58:39.772061Z"
    },
    "papermill": {
     "duration": 0.01201,
     "end_time": "2022-10-19T13:58:39.775095",
     "exception": false,
     "start_time": "2022-10-19T13:58:39.763085",
     "status": "completed"
    },
    "tags": []
   },
   "outputs": [],
   "source": [
    "import sklearn.metrics as metrics"
   ]
  },
  {
   "cell_type": "code",
   "execution_count": 11,
   "id": "8bb6e28d",
   "metadata": {
    "execution": {
     "iopub.execute_input": "2022-10-19T13:58:39.784933Z",
     "iopub.status.busy": "2022-10-19T13:58:39.784632Z",
     "iopub.status.idle": "2022-10-19T13:58:39.837083Z",
     "shell.execute_reply": "2022-10-19T13:58:39.835917Z"
    },
    "papermill": {
     "duration": 0.060384,
     "end_time": "2022-10-19T13:58:39.839749",
     "exception": false,
     "start_time": "2022-10-19T13:58:39.779365",
     "status": "completed"
    },
    "tags": []
   },
   "outputs": [
    {
     "name": "stdout",
     "output_type": "stream",
     "text": [
      "0.9996699614877759\n",
      "0.9996699614877759\n",
      "0.9997152862468819\n",
      "0.9833434505835795\n",
      "0.9996705250072254\n"
     ]
    }
   ],
   "source": [
    "for i in range(len(df_F_double_woc[0])):\n",
    "    print(metrics.roc_auc_score(y,df_F_double_woc[:25968,i]))\n"
   ]
  },
  {
   "cell_type": "code",
   "execution_count": 12,
   "id": "2b954894",
   "metadata": {
    "execution": {
     "iopub.execute_input": "2022-10-19T13:58:39.850730Z",
     "iopub.status.busy": "2022-10-19T13:58:39.850366Z",
     "iopub.status.idle": "2022-10-19T13:58:39.856781Z",
     "shell.execute_reply": "2022-10-19T13:58:39.855816Z"
    },
    "papermill": {
     "duration": 0.01434,
     "end_time": "2022-10-19T13:58:39.858986",
     "exception": false,
     "start_time": "2022-10-19T13:58:39.844646",
     "status": "completed"
    },
    "tags": []
   },
   "outputs": [
    {
     "data": {
      "text/plain": [
       "(12218,)"
      ]
     },
     "execution_count": 12,
     "metadata": {},
     "output_type": "execute_result"
    }
   ],
   "source": [
    "y_test.shape"
   ]
  },
  {
   "cell_type": "code",
   "execution_count": 13,
   "id": "cbc92958",
   "metadata": {
    "execution": {
     "iopub.execute_input": "2022-10-19T13:58:39.869518Z",
     "iopub.status.busy": "2022-10-19T13:58:39.869168Z",
     "iopub.status.idle": "2022-10-19T13:58:42.548299Z",
     "shell.execute_reply": "2022-10-19T13:58:42.547042Z"
    },
    "papermill": {
     "duration": 2.686979,
     "end_time": "2022-10-19T13:58:42.550466",
     "exception": false,
     "start_time": "2022-10-19T13:58:39.863487",
     "status": "completed"
    },
    "tags": []
   },
   "outputs": [
    {
     "name": "stderr",
     "output_type": "stream",
     "text": [
      "/opt/conda/lib/python3.7/site-packages/lightgbm/sklearn.py:726: UserWarning: 'early_stopping_rounds' argument is deprecated and will be removed in a future release of LightGBM. Pass 'early_stopping()' callback via 'callbacks' argument instead.\n",
      "  _log_warning(\"'early_stopping_rounds' argument is deprecated and will be removed in a future release of LightGBM. \"\n",
      "/opt/conda/lib/python3.7/site-packages/lightgbm/sklearn.py:736: UserWarning: 'verbose' argument is deprecated and will be removed in a future release of LightGBM. Pass 'log_evaluation()' callback via 'callbacks' argument instead.\n",
      "  _log_warning(\"'verbose' argument is deprecated and will be removed in a future release of LightGBM. \"\n"
     ]
    },
    {
     "name": "stdout",
     "output_type": "stream",
     "text": [
      "[100]\tvalid_0's auc: 0.999037\n"
     ]
    },
    {
     "name": "stderr",
     "output_type": "stream",
     "text": [
      "/opt/conda/lib/python3.7/site-packages/lightgbm/sklearn.py:726: UserWarning: 'early_stopping_rounds' argument is deprecated and will be removed in a future release of LightGBM. Pass 'early_stopping()' callback via 'callbacks' argument instead.\n",
      "  _log_warning(\"'early_stopping_rounds' argument is deprecated and will be removed in a future release of LightGBM. \"\n",
      "/opt/conda/lib/python3.7/site-packages/lightgbm/sklearn.py:736: UserWarning: 'verbose' argument is deprecated and will be removed in a future release of LightGBM. Pass 'log_evaluation()' callback via 'callbacks' argument instead.\n",
      "  _log_warning(\"'verbose' argument is deprecated and will be removed in a future release of LightGBM. \"\n"
     ]
    },
    {
     "name": "stdout",
     "output_type": "stream",
     "text": [
      "[100]\tvalid_0's auc: 1\n"
     ]
    },
    {
     "name": "stderr",
     "output_type": "stream",
     "text": [
      "/opt/conda/lib/python3.7/site-packages/lightgbm/sklearn.py:726: UserWarning: 'early_stopping_rounds' argument is deprecated and will be removed in a future release of LightGBM. Pass 'early_stopping()' callback via 'callbacks' argument instead.\n",
      "  _log_warning(\"'early_stopping_rounds' argument is deprecated and will be removed in a future release of LightGBM. \"\n",
      "/opt/conda/lib/python3.7/site-packages/lightgbm/sklearn.py:736: UserWarning: 'verbose' argument is deprecated and will be removed in a future release of LightGBM. Pass 'log_evaluation()' callback via 'callbacks' argument instead.\n",
      "  _log_warning(\"'verbose' argument is deprecated and will be removed in a future release of LightGBM. \"\n"
     ]
    },
    {
     "name": "stdout",
     "output_type": "stream",
     "text": [
      "[100]\tvalid_0's auc: 0.999416\n"
     ]
    },
    {
     "name": "stderr",
     "output_type": "stream",
     "text": [
      "/opt/conda/lib/python3.7/site-packages/lightgbm/sklearn.py:726: UserWarning: 'early_stopping_rounds' argument is deprecated and will be removed in a future release of LightGBM. Pass 'early_stopping()' callback via 'callbacks' argument instead.\n",
      "  _log_warning(\"'early_stopping_rounds' argument is deprecated and will be removed in a future release of LightGBM. \"\n",
      "/opt/conda/lib/python3.7/site-packages/lightgbm/sklearn.py:736: UserWarning: 'verbose' argument is deprecated and will be removed in a future release of LightGBM. Pass 'log_evaluation()' callback via 'callbacks' argument instead.\n",
      "  _log_warning(\"'verbose' argument is deprecated and will be removed in a future release of LightGBM. \"\n"
     ]
    },
    {
     "name": "stdout",
     "output_type": "stream",
     "text": [
      "[100]\tvalid_0's auc: 1\n"
     ]
    },
    {
     "name": "stderr",
     "output_type": "stream",
     "text": [
      "/opt/conda/lib/python3.7/site-packages/lightgbm/sklearn.py:726: UserWarning: 'early_stopping_rounds' argument is deprecated and will be removed in a future release of LightGBM. Pass 'early_stopping()' callback via 'callbacks' argument instead.\n",
      "  _log_warning(\"'early_stopping_rounds' argument is deprecated and will be removed in a future release of LightGBM. \"\n",
      "/opt/conda/lib/python3.7/site-packages/lightgbm/sklearn.py:736: UserWarning: 'verbose' argument is deprecated and will be removed in a future release of LightGBM. Pass 'log_evaluation()' callback via 'callbacks' argument instead.\n",
      "  _log_warning(\"'verbose' argument is deprecated and will be removed in a future release of LightGBM. \"\n"
     ]
    },
    {
     "name": "stdout",
     "output_type": "stream",
     "text": [
      "[100]\tvalid_0's auc: 0.999599\n"
     ]
    }
   ],
   "source": [
    "n_splits = 5\n",
    "K_fold = model_selection.KFold(n_splits=n_splits,shuffle =True, random_state=97)\n",
    "test_preds_array = np.zeros(len(y_test))\n",
    "valid_preds_array = np.zeros(len(y))\n",
    "scores_valid = []\n",
    "scores_train = []\n",
    "\n",
    "for fold, (train_idx, valid_idx) in enumerate(K_fold.split(valids)):\n",
    "    X_train , y_train = valids[train_idx, :], y[train_idx]\n",
    "    X_valid, y_valid = valids[valid_idx, :], y[valid_idx]\n",
    "\n",
    "\n",
    "    clf = LGBMClassifier(num_leaves=25,\n",
    "                        objective=\"binary\",\n",
    "                        metric='auc',\n",
    "                        subsample=0.7,\n",
    "                        learning_rate=0.03,\n",
    "                        n_estimators=10000,\n",
    "                        n_jobs=-1)\n",
    "    clf.fit(X_train,y_train,\n",
    "            eval_set=[(X_valid,y_valid)],\n",
    "            verbose = 100,\n",
    "            early_stopping_rounds=100)\n",
    "\n",
    "    valid_preds = clf.predict_proba(X_valid)[:, -1]\n",
    "    train_preds = clf.predict_proba(X_train)[:, -1]\n",
    "    test_preds = clf.predict_proba(tests)[:, -1]\n",
    "    test_preds_array += test_preds / n_splits\n",
    "    valid_preds_array[valid_idx] = valid_preds\n",
    "    \n",
    "    score_valid = metrics.roc_auc_score(y_valid, valid_preds)\n",
    "    score_train = metrics.roc_auc_score(y_train, train_preds)\n",
    "    \n",
    "    scores_valid.append(score_valid)\n",
    "    scores_train.append(score_train)"
   ]
  },
  {
   "cell_type": "code",
   "execution_count": 14,
   "id": "19d44824",
   "metadata": {
    "execution": {
     "iopub.execute_input": "2022-10-19T13:58:42.562187Z",
     "iopub.status.busy": "2022-10-19T13:58:42.561803Z",
     "iopub.status.idle": "2022-10-19T13:58:42.600935Z",
     "shell.execute_reply": "2022-10-19T13:58:42.600068Z"
    },
    "papermill": {
     "duration": 0.047677,
     "end_time": "2022-10-19T13:58:42.603406",
     "exception": false,
     "start_time": "2022-10-19T13:58:42.555729",
     "status": "completed"
    },
    "tags": []
   },
   "outputs": [],
   "source": [
    "submit(test_preds_array)\n"
   ]
  }
 ],
 "metadata": {
  "kernelspec": {
   "display_name": "Python 3",
   "language": "python",
   "name": "python3"
  },
  "language_info": {
   "codemirror_mode": {
    "name": "ipython",
    "version": 3
   },
   "file_extension": ".py",
   "mimetype": "text/x-python",
   "name": "python",
   "nbconvert_exporter": "python",
   "pygments_lexer": "ipython3",
   "version": "3.7.12"
  },
  "papermill": {
   "default_parameters": {},
   "duration": 14.692636,
   "end_time": "2022-10-19T13:58:43.329953",
   "environment_variables": {},
   "exception": null,
   "input_path": "__notebook__.ipynb",
   "output_path": "__notebook__.ipynb",
   "parameters": {},
   "start_time": "2022-10-19T13:58:28.637317",
   "version": "2.3.4"
  }
 },
 "nbformat": 4,
 "nbformat_minor": 5
}
