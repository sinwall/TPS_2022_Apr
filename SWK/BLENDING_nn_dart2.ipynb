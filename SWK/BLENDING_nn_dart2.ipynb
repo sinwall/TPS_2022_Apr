{
 "cells": [
  {
   "cell_type": "markdown",
   "id": "fd94ddbe",
   "metadata": {
    "papermill": {
     "duration": 0.00571,
     "end_time": "2022-10-20T00:14:50.859800",
     "exception": false,
     "start_time": "2022-10-20T00:14:50.854090",
     "status": "completed"
    },
    "tags": []
   },
   "source": [
    "#BLENDING"
   ]
  },
  {
   "cell_type": "code",
   "execution_count": 1,
   "id": "49e77045",
   "metadata": {
    "execution": {
     "iopub.execute_input": "2022-10-20T00:14:50.871376Z",
     "iopub.status.busy": "2022-10-20T00:14:50.870897Z",
     "iopub.status.idle": "2022-10-20T00:14:50.879953Z",
     "shell.execute_reply": "2022-10-20T00:14:50.879234Z"
    },
    "papermill": {
     "duration": 0.017322,
     "end_time": "2022-10-20T00:14:50.882085",
     "exception": false,
     "start_time": "2022-10-20T00:14:50.864763",
     "status": "completed"
    },
    "tags": []
   },
   "outputs": [],
   "source": [
    "input_path = '../input/'\n",
    "output_path = './'"
   ]
  },
  {
   "cell_type": "code",
   "execution_count": 2,
   "id": "002262aa",
   "metadata": {
    "execution": {
     "iopub.execute_input": "2022-10-20T00:14:50.893533Z",
     "iopub.status.busy": "2022-10-20T00:14:50.892741Z",
     "iopub.status.idle": "2022-10-20T00:14:51.903650Z",
     "shell.execute_reply": "2022-10-20T00:14:51.902766Z"
    },
    "papermill": {
     "duration": 1.019449,
     "end_time": "2022-10-20T00:14:51.906224",
     "exception": false,
     "start_time": "2022-10-20T00:14:50.886775",
     "status": "completed"
    },
    "tags": []
   },
   "outputs": [],
   "source": [
    "import pandas as pd\n",
    "import numpy as np\n",
    "from sklearn.metrics import roc_auc_score\n",
    "from sklearn import model_selection\n",
    "\n",
    "def load_raw_data(folder_name,train_or_test=\"train\"):\n",
    "    file_name = f'{input_path}/tbr_apr_2022_{folder_name}/{train_or_test}.csv'\n",
    "    df = pd.read_csv(file_name)\n",
    "    return df\n",
    "\n",
    "def load_label(train_or_test='train'):\n",
    "    file_name = input_path +\"/tabular-playground-series-apr-2022/\"+ ('train_labels.csv' if train_or_test=='train' else 'sample_submission.csv')\n",
    "    df = pd.read_csv(file_name)\n",
    "    return df['state'].values\n",
    "\n",
    "def competition_metric(y_true, y_score):\n",
    "    return roc_auc_score(y_true, y_score)\n",
    "\n",
    "def evaluate(model, X, y):\n",
    "    return competition_metric(y, model.predict_proba(X)[:, 1])\n",
    "\n",
    "\n",
    "def submit(arr):\n",
    "    df = pd.read_csv(f'{input_path}/tabular-playground-series-apr-2022/sample_submission.csv')\n",
    "    df['state'] = arr\n",
    "    df.to_csv(f'{output_path}/submission.csv', index=False)\n",
    "\n",
    "\n",
    "def to_csv(arr,train_or_test='train',name=None):\n",
    "    df = pd.DataFrame(arr)\n",
    "    if type(name)==str:\n",
    "        df.to_csv(f'{output_path}/{name}_{train_or_test}.csv', index = False )\n",
    "    else:\n",
    "        df.to_csv(f'{output_path}/{train_or_test}.csv', index = False )\n",
    "\n"
   ]
  },
  {
   "cell_type": "code",
   "execution_count": 3,
   "id": "9e506714",
   "metadata": {
    "execution": {
     "iopub.execute_input": "2022-10-20T00:14:51.917072Z",
     "iopub.status.busy": "2022-10-20T00:14:51.916705Z",
     "iopub.status.idle": "2022-10-20T00:14:51.921329Z",
     "shell.execute_reply": "2022-10-20T00:14:51.920324Z"
    },
    "papermill": {
     "duration": 0.012496,
     "end_time": "2022-10-20T00:14:51.923474",
     "exception": false,
     "start_time": "2022-10-20T00:14:51.910978",
     "status": "completed"
    },
    "tags": []
   },
   "outputs": [],
   "source": [
    "def short_test(x,y,n):\n",
    "    return x.loc[x.sequence<n] ,y[:n]"
   ]
  },
  {
   "cell_type": "code",
   "execution_count": 4,
   "id": "e0fc1406",
   "metadata": {
    "execution": {
     "iopub.execute_input": "2022-10-20T00:14:51.934474Z",
     "iopub.status.busy": "2022-10-20T00:14:51.933725Z",
     "iopub.status.idle": "2022-10-20T00:14:52.093469Z",
     "shell.execute_reply": "2022-10-20T00:14:52.092657Z"
    },
    "papermill": {
     "duration": 0.167947,
     "end_time": "2022-10-20T00:14:52.096081",
     "exception": false,
     "start_time": "2022-10-20T00:14:51.928134",
     "status": "completed"
    },
    "tags": []
   },
   "outputs": [],
   "source": [
    "df_NN_pure = pd.read_csv(\"../input/tbr-apr-22-nn-pure/train.csv\").to_numpy()\n",
    "            \n"
   ]
  },
  {
   "cell_type": "code",
   "execution_count": 5,
   "id": "81487ed8",
   "metadata": {
    "execution": {
     "iopub.execute_input": "2022-10-20T00:14:52.108174Z",
     "iopub.status.busy": "2022-10-20T00:14:52.107521Z",
     "iopub.status.idle": "2022-10-20T00:14:52.648360Z",
     "shell.execute_reply": "2022-10-20T00:14:52.647446Z"
    },
    "papermill": {
     "duration": 0.550042,
     "end_time": "2022-10-20T00:14:52.650876",
     "exception": false,
     "start_time": "2022-10-20T00:14:52.100834",
     "status": "completed"
    },
    "tags": []
   },
   "outputs": [],
   "source": [
    "L_df_F_dart_v = []\n",
    "for i in range(5):\n",
    "    L_df_F_dart_v.append(pd.read_csv(f\"../input/tbr-apr-2022-dart-non-nn/tbr_apr_2022_dart_non_nn/train_v{i}.csv\").to_numpy()/5)\n",
    "df_F_dart_v = np.zeros(L_df_F_dart_v[0].shape)\n",
    "for j in L_df_F_dart_v:\n",
    "    df_F_dart_v+=j\n",
    "\n",
    "df_test_NN_pure = pd.read_csv(\"../input/tbr-apr-22-nn-pure/test.csv\").to_numpy()\n",
    "\n",
    "L_df_test_F_dart_v = []\n",
    "for i in range(5):\n",
    "    L_df_test_F_dart_v.append(pd.read_csv(f\"../input/tbr-apr-2022-dart-non-nn/tbr_apr_2022_dart_non_nn/test_v{i}.csv\").to_numpy()/5)\n",
    "df_test_F_dart_v = np.zeros(L_df_test_F_dart_v[0].shape)\n",
    "for j in L_df_test_F_dart_v:\n",
    "    df_test_F_dart_v+=j"
   ]
  },
  {
   "cell_type": "code",
   "execution_count": 6,
   "id": "a6d63d45",
   "metadata": {
    "execution": {
     "iopub.execute_input": "2022-10-20T00:14:52.662171Z",
     "iopub.status.busy": "2022-10-20T00:14:52.661665Z",
     "iopub.status.idle": "2022-10-20T00:14:52.699722Z",
     "shell.execute_reply": "2022-10-20T00:14:52.698315Z"
    },
    "papermill": {
     "duration": 0.047808,
     "end_time": "2022-10-20T00:14:52.703633",
     "exception": false,
     "start_time": "2022-10-20T00:14:52.655825",
     "status": "completed"
    },
    "tags": []
   },
   "outputs": [],
   "source": [
    "\n",
    "y = load_label(\"train\")\n",
    "y_test = load_label('test')\n",
    "yy = np.concatenate([y,y], axis=0)"
   ]
  },
  {
   "cell_type": "code",
   "execution_count": 7,
   "id": "f1c64d1c",
   "metadata": {
    "execution": {
     "iopub.execute_input": "2022-10-20T00:14:52.718850Z",
     "iopub.status.busy": "2022-10-20T00:14:52.717468Z",
     "iopub.status.idle": "2022-10-20T00:14:52.726217Z",
     "shell.execute_reply": "2022-10-20T00:14:52.724490Z"
    },
    "papermill": {
     "duration": 0.020058,
     "end_time": "2022-10-20T00:14:52.729193",
     "exception": false,
     "start_time": "2022-10-20T00:14:52.709135",
     "status": "completed"
    },
    "tags": []
   },
   "outputs": [],
   "source": [
    "valids = np.concatenate([\n",
    "                          df_NN_pure,\n",
    "                          df_F_dart_v\n",
    "                            ], axis=1)"
   ]
  },
  {
   "cell_type": "code",
   "execution_count": 8,
   "id": "1999d17f",
   "metadata": {
    "execution": {
     "iopub.execute_input": "2022-10-20T00:14:52.743064Z",
     "iopub.status.busy": "2022-10-20T00:14:52.742486Z",
     "iopub.status.idle": "2022-10-20T00:14:52.747811Z",
     "shell.execute_reply": "2022-10-20T00:14:52.746760Z"
    },
    "papermill": {
     "duration": 0.01449,
     "end_time": "2022-10-20T00:14:52.749995",
     "exception": false,
     "start_time": "2022-10-20T00:14:52.735505",
     "status": "completed"
    },
    "tags": []
   },
   "outputs": [],
   "source": [
    "valids =valids[:,:-1]"
   ]
  },
  {
   "cell_type": "code",
   "execution_count": 9,
   "id": "3138e441",
   "metadata": {
    "execution": {
     "iopub.execute_input": "2022-10-20T00:14:52.761548Z",
     "iopub.status.busy": "2022-10-20T00:14:52.760634Z",
     "iopub.status.idle": "2022-10-20T00:14:52.768696Z",
     "shell.execute_reply": "2022-10-20T00:14:52.767837Z"
    },
    "papermill": {
     "duration": 0.016192,
     "end_time": "2022-10-20T00:14:52.770986",
     "exception": false,
     "start_time": "2022-10-20T00:14:52.754794",
     "status": "completed"
    },
    "tags": []
   },
   "outputs": [],
   "source": [
    "tests= np.concatenate([\n",
    "                          df_test_NN_pure,\n",
    "                          df_test_F_dart_v\n",
    "                            ], axis=1)"
   ]
  },
  {
   "cell_type": "code",
   "execution_count": 10,
   "id": "28361e50",
   "metadata": {
    "execution": {
     "iopub.execute_input": "2022-10-20T00:14:52.784080Z",
     "iopub.status.busy": "2022-10-20T00:14:52.782925Z",
     "iopub.status.idle": "2022-10-20T00:14:52.788529Z",
     "shell.execute_reply": "2022-10-20T00:14:52.787366Z"
    },
    "papermill": {
     "duration": 0.015082,
     "end_time": "2022-10-20T00:14:52.790844",
     "exception": false,
     "start_time": "2022-10-20T00:14:52.775762",
     "status": "completed"
    },
    "tags": []
   },
   "outputs": [],
   "source": [
    "tests=tests[:,:-1]"
   ]
  },
  {
   "cell_type": "code",
   "execution_count": 11,
   "id": "7313253a",
   "metadata": {
    "execution": {
     "iopub.execute_input": "2022-10-20T00:14:52.802347Z",
     "iopub.status.busy": "2022-10-20T00:14:52.801533Z",
     "iopub.status.idle": "2022-10-20T00:14:53.665224Z",
     "shell.execute_reply": "2022-10-20T00:14:53.664269Z"
    },
    "papermill": {
     "duration": 0.87228,
     "end_time": "2022-10-20T00:14:53.667860",
     "exception": false,
     "start_time": "2022-10-20T00:14:52.795580",
     "status": "completed"
    },
    "tags": []
   },
   "outputs": [
    {
     "data": {
      "text/html": [
       "<style type='text/css'>\n",
       ".datatable table.frame { margin-bottom: 0; }\n",
       ".datatable table.frame thead { border-bottom: none; }\n",
       ".datatable table.frame tr.coltypes td {  color: #FFFFFF;  line-height: 6px;  padding: 0 0.5em;}\n",
       ".datatable .bool    { background: #DDDD99; }\n",
       ".datatable .object  { background: #565656; }\n",
       ".datatable .int     { background: #5D9E5D; }\n",
       ".datatable .float   { background: #4040CC; }\n",
       ".datatable .str     { background: #CC4040; }\n",
       ".datatable .time    { background: #40CC40; }\n",
       ".datatable .row_index {  background: var(--jp-border-color3);  border-right: 1px solid var(--jp-border-color0);  color: var(--jp-ui-font-color3);  font-size: 9px;}\n",
       ".datatable .frame tbody td { text-align: left; }\n",
       ".datatable .frame tr.coltypes .row_index {  background: var(--jp-border-color0);}\n",
       ".datatable th:nth-child(2) { padding-left: 12px; }\n",
       ".datatable .hellipsis {  color: var(--jp-cell-editor-border-color);}\n",
       ".datatable .vellipsis {  background: var(--jp-layout-color0);  color: var(--jp-cell-editor-border-color);}\n",
       ".datatable .na {  color: var(--jp-cell-editor-border-color);  font-size: 80%;}\n",
       ".datatable .sp {  opacity: 0.25;}\n",
       ".datatable .footer { font-size: 9px; }\n",
       ".datatable .frame_dimensions {  background: var(--jp-border-color3);  border-top: 1px solid var(--jp-border-color0);  color: var(--jp-ui-font-color3);  display: inline-block;  opacity: 0.6;  padding: 1px 10px 1px 5px;}\n",
       "</style>\n"
      ],
      "text/plain": [
       "<IPython.core.display.HTML object>"
      ]
     },
     "metadata": {},
     "output_type": "display_data"
    }
   ],
   "source": [
    "from lightgbm import LGBMClassifier\n"
   ]
  },
  {
   "cell_type": "code",
   "execution_count": 12,
   "id": "d06b13be",
   "metadata": {
    "execution": {
     "iopub.execute_input": "2022-10-20T00:14:53.679138Z",
     "iopub.status.busy": "2022-10-20T00:14:53.678764Z",
     "iopub.status.idle": "2022-10-20T00:14:53.683190Z",
     "shell.execute_reply": "2022-10-20T00:14:53.682216Z"
    },
    "papermill": {
     "duration": 0.012493,
     "end_time": "2022-10-20T00:14:53.685405",
     "exception": false,
     "start_time": "2022-10-20T00:14:53.672912",
     "status": "completed"
    },
    "tags": []
   },
   "outputs": [],
   "source": [
    "import sklearn.metrics as metrics"
   ]
  },
  {
   "cell_type": "code",
   "execution_count": 13,
   "id": "9177e89b",
   "metadata": {
    "execution": {
     "iopub.execute_input": "2022-10-20T00:14:53.696725Z",
     "iopub.status.busy": "2022-10-20T00:14:53.695611Z",
     "iopub.status.idle": "2022-10-20T00:14:53.855333Z",
     "shell.execute_reply": "2022-10-20T00:14:53.854077Z"
    },
    "papermill": {
     "duration": 0.16761,
     "end_time": "2022-10-20T00:14:53.857733",
     "exception": false,
     "start_time": "2022-10-20T00:14:53.690123",
     "status": "completed"
    },
    "tags": []
   },
   "outputs": [
    {
     "name": "stdout",
     "output_type": "stream",
     "text": [
      "0.9777898181122935\n",
      "0.980460950723985\n",
      "0.9613977609984228\n",
      "0.9790575589205852\n",
      "0.9791202875330113\n",
      "0.9786032020859757\n",
      "0.977540991650445\n",
      "0.9669728457653909\n",
      "0.9763716947241221\n",
      "0.964018921298494\n",
      "0.9660085601807571\n",
      "0.9806624445179511\n",
      "0.9933647245698443\n",
      "0.9909257174830474\n",
      "0.9893312421660414\n",
      "0.9846474227265947\n"
     ]
    }
   ],
   "source": [
    "for i in range(len(valids[0])):\n",
    "    print(metrics.roc_auc_score(y,valids[:,i]))\n"
   ]
  },
  {
   "cell_type": "code",
   "execution_count": null,
   "id": "0a22a10d",
   "metadata": {
    "papermill": {
     "duration": 0.005532,
     "end_time": "2022-10-20T00:14:53.868694",
     "exception": false,
     "start_time": "2022-10-20T00:14:53.863162",
     "status": "completed"
    },
    "tags": []
   },
   "outputs": [],
   "source": []
  },
  {
   "cell_type": "code",
   "execution_count": 14,
   "id": "df0474b9",
   "metadata": {
    "execution": {
     "iopub.execute_input": "2022-10-20T00:14:53.879623Z",
     "iopub.status.busy": "2022-10-20T00:14:53.879236Z",
     "iopub.status.idle": "2022-10-20T00:14:53.885845Z",
     "shell.execute_reply": "2022-10-20T00:14:53.884742Z"
    },
    "papermill": {
     "duration": 0.014555,
     "end_time": "2022-10-20T00:14:53.887957",
     "exception": false,
     "start_time": "2022-10-20T00:14:53.873402",
     "status": "completed"
    },
    "tags": []
   },
   "outputs": [
    {
     "data": {
      "text/plain": [
       "(12218,)"
      ]
     },
     "execution_count": 14,
     "metadata": {},
     "output_type": "execute_result"
    }
   ],
   "source": [
    "y_test.shape"
   ]
  },
  {
   "cell_type": "code",
   "execution_count": 15,
   "id": "fbb87a6d",
   "metadata": {
    "execution": {
     "iopub.execute_input": "2022-10-20T00:14:53.899404Z",
     "iopub.status.busy": "2022-10-20T00:14:53.898803Z",
     "iopub.status.idle": "2022-10-20T00:40:41.258335Z",
     "shell.execute_reply": "2022-10-20T00:40:41.257366Z"
    },
    "papermill": {
     "duration": 1547.368537,
     "end_time": "2022-10-20T00:40:41.261293",
     "exception": false,
     "start_time": "2022-10-20T00:14:53.892756",
     "status": "completed"
    },
    "tags": []
   },
   "outputs": [
    {
     "name": "stderr",
     "output_type": "stream",
     "text": [
      "/opt/conda/lib/python3.7/site-packages/lightgbm/sklearn.py:726: UserWarning: 'early_stopping_rounds' argument is deprecated and will be removed in a future release of LightGBM. Pass 'early_stopping()' callback via 'callbacks' argument instead.\n",
      "  _log_warning(\"'early_stopping_rounds' argument is deprecated and will be removed in a future release of LightGBM. \"\n",
      "/opt/conda/lib/python3.7/site-packages/lightgbm/sklearn.py:736: UserWarning: 'verbose' argument is deprecated and will be removed in a future release of LightGBM. Pass 'log_evaluation()' callback via 'callbacks' argument instead.\n",
      "  _log_warning(\"'verbose' argument is deprecated and will be removed in a future release of LightGBM. \"\n",
      "/opt/conda/lib/python3.7/site-packages/lightgbm/callback.py:223: UserWarning: Early stopping is not available in dart mode\n",
      "  _log_warning('Early stopping is not available in dart mode')\n"
     ]
    },
    {
     "name": "stdout",
     "output_type": "stream",
     "text": [
      "[100]\tvalid_0's auc: 0.995327\n",
      "[200]\tvalid_0's auc: 0.996863\n",
      "[300]\tvalid_0's auc: 0.99757\n",
      "[400]\tvalid_0's auc: 0.99774\n",
      "[500]\tvalid_0's auc: 0.998038\n",
      "[600]\tvalid_0's auc: 0.998188\n",
      "[700]\tvalid_0's auc: 0.998208\n",
      "[800]\tvalid_0's auc: 0.998242\n",
      "[900]\tvalid_0's auc: 0.998274\n",
      "[1000]\tvalid_0's auc: 0.998263\n",
      "[1100]\tvalid_0's auc: 0.998288\n",
      "[1200]\tvalid_0's auc: 0.998277\n",
      "[1300]\tvalid_0's auc: 0.998266\n",
      "[1400]\tvalid_0's auc: 0.998253\n",
      "[1500]\tvalid_0's auc: 0.998243\n",
      "[1600]\tvalid_0's auc: 0.998251\n",
      "[1700]\tvalid_0's auc: 0.998264\n",
      "[1800]\tvalid_0's auc: 0.998275\n",
      "[1900]\tvalid_0's auc: 0.998273\n",
      "[2000]\tvalid_0's auc: 0.998262\n",
      "[2100]\tvalid_0's auc: 0.998251\n",
      "[2200]\tvalid_0's auc: 0.998239\n",
      "[2300]\tvalid_0's auc: 0.998229\n",
      "[2400]\tvalid_0's auc: 0.998208\n",
      "[2500]\tvalid_0's auc: 0.998202\n",
      "[2600]\tvalid_0's auc: 0.998187\n",
      "[2700]\tvalid_0's auc: 0.998172\n",
      "[2800]\tvalid_0's auc: 0.998173\n",
      "[2900]\tvalid_0's auc: 0.998182\n",
      "[3000]\tvalid_0's auc: 0.998186\n",
      "[3100]\tvalid_0's auc: 0.998188\n",
      "[3200]\tvalid_0's auc: 0.998182\n",
      "[3300]\tvalid_0's auc: 0.99817\n",
      "[3400]\tvalid_0's auc: 0.998169\n",
      "[3500]\tvalid_0's auc: 0.998175\n",
      "[3600]\tvalid_0's auc: 0.998173\n",
      "[3700]\tvalid_0's auc: 0.998157\n",
      "[3800]\tvalid_0's auc: 0.998137\n",
      "[3900]\tvalid_0's auc: 0.99813\n",
      "[4000]\tvalid_0's auc: 0.998125\n",
      "[4100]\tvalid_0's auc: 0.998108\n",
      "[4200]\tvalid_0's auc: 0.998093\n",
      "[4300]\tvalid_0's auc: 0.998094\n",
      "[4400]\tvalid_0's auc: 0.998075\n",
      "[4500]\tvalid_0's auc: 0.998074\n",
      "[4600]\tvalid_0's auc: 0.998063\n",
      "[4700]\tvalid_0's auc: 0.998065\n",
      "[4800]\tvalid_0's auc: 0.998057\n",
      "[4900]\tvalid_0's auc: 0.998048\n",
      "[5000]\tvalid_0's auc: 0.998042\n",
      "[5100]\tvalid_0's auc: 0.998037\n",
      "[5200]\tvalid_0's auc: 0.998023\n",
      "[5300]\tvalid_0's auc: 0.998027\n",
      "[5400]\tvalid_0's auc: 0.998021\n",
      "[5500]\tvalid_0's auc: 0.998018\n",
      "[5600]\tvalid_0's auc: 0.998014\n",
      "[5700]\tvalid_0's auc: 0.998017\n",
      "[5800]\tvalid_0's auc: 0.998025\n",
      "[5900]\tvalid_0's auc: 0.99802\n",
      "[6000]\tvalid_0's auc: 0.998003\n",
      "[6100]\tvalid_0's auc: 0.998005\n",
      "[6200]\tvalid_0's auc: 0.997993\n",
      "[6300]\tvalid_0's auc: 0.997978\n",
      "[6400]\tvalid_0's auc: 0.997974\n",
      "[6500]\tvalid_0's auc: 0.997977\n",
      "[6600]\tvalid_0's auc: 0.997965\n",
      "[6700]\tvalid_0's auc: 0.997956\n",
      "[6800]\tvalid_0's auc: 0.997942\n",
      "[6900]\tvalid_0's auc: 0.99794\n",
      "[7000]\tvalid_0's auc: 0.997932\n",
      "[7100]\tvalid_0's auc: 0.997925\n",
      "[7200]\tvalid_0's auc: 0.99791\n",
      "[7300]\tvalid_0's auc: 0.997914\n",
      "[7400]\tvalid_0's auc: 0.997908\n",
      "[7500]\tvalid_0's auc: 0.997897\n",
      "[7600]\tvalid_0's auc: 0.997898\n",
      "[7700]\tvalid_0's auc: 0.997886\n",
      "[7800]\tvalid_0's auc: 0.99788\n",
      "[7900]\tvalid_0's auc: 0.997873\n",
      "[8000]\tvalid_0's auc: 0.997855\n",
      "[8100]\tvalid_0's auc: 0.997852\n",
      "[8200]\tvalid_0's auc: 0.99784\n",
      "[8300]\tvalid_0's auc: 0.997827\n",
      "[8400]\tvalid_0's auc: 0.997825\n",
      "[8500]\tvalid_0's auc: 0.997819\n",
      "[8600]\tvalid_0's auc: 0.997812\n",
      "[8700]\tvalid_0's auc: 0.997792\n",
      "[8800]\tvalid_0's auc: 0.997778\n",
      "[8900]\tvalid_0's auc: 0.997762\n",
      "[9000]\tvalid_0's auc: 0.99776\n",
      "[9100]\tvalid_0's auc: 0.997743\n",
      "[9200]\tvalid_0's auc: 0.997732\n",
      "[9300]\tvalid_0's auc: 0.997717\n",
      "[9400]\tvalid_0's auc: 0.997699\n",
      "[9500]\tvalid_0's auc: 0.997688\n",
      "[9600]\tvalid_0's auc: 0.99768\n",
      "[9700]\tvalid_0's auc: 0.997669\n",
      "[9800]\tvalid_0's auc: 0.997661\n",
      "[9900]\tvalid_0's auc: 0.997651\n",
      "[10000]\tvalid_0's auc: 0.99763\n"
     ]
    },
    {
     "name": "stderr",
     "output_type": "stream",
     "text": [
      "/opt/conda/lib/python3.7/site-packages/lightgbm/sklearn.py:726: UserWarning: 'early_stopping_rounds' argument is deprecated and will be removed in a future release of LightGBM. Pass 'early_stopping()' callback via 'callbacks' argument instead.\n",
      "  _log_warning(\"'early_stopping_rounds' argument is deprecated and will be removed in a future release of LightGBM. \"\n",
      "/opt/conda/lib/python3.7/site-packages/lightgbm/sklearn.py:736: UserWarning: 'verbose' argument is deprecated and will be removed in a future release of LightGBM. Pass 'log_evaluation()' callback via 'callbacks' argument instead.\n",
      "  _log_warning(\"'verbose' argument is deprecated and will be removed in a future release of LightGBM. \"\n",
      "/opt/conda/lib/python3.7/site-packages/lightgbm/callback.py:223: UserWarning: Early stopping is not available in dart mode\n",
      "  _log_warning('Early stopping is not available in dart mode')\n"
     ]
    },
    {
     "name": "stdout",
     "output_type": "stream",
     "text": [
      "[100]\tvalid_0's auc: 0.996126\n",
      "[200]\tvalid_0's auc: 0.996647\n",
      "[300]\tvalid_0's auc: 0.99767\n",
      "[400]\tvalid_0's auc: 0.997983\n",
      "[500]\tvalid_0's auc: 0.998187\n",
      "[600]\tvalid_0's auc: 0.998203\n",
      "[700]\tvalid_0's auc: 0.998216\n",
      "[800]\tvalid_0's auc: 0.998356\n",
      "[900]\tvalid_0's auc: 0.998396\n",
      "[1000]\tvalid_0's auc: 0.998399\n",
      "[1100]\tvalid_0's auc: 0.998407\n",
      "[1200]\tvalid_0's auc: 0.998391\n",
      "[1300]\tvalid_0's auc: 0.998381\n",
      "[1400]\tvalid_0's auc: 0.998389\n",
      "[1500]\tvalid_0's auc: 0.998373\n",
      "[1600]\tvalid_0's auc: 0.998376\n",
      "[1700]\tvalid_0's auc: 0.998373\n",
      "[1800]\tvalid_0's auc: 0.998385\n",
      "[1900]\tvalid_0's auc: 0.99838\n",
      "[2000]\tvalid_0's auc: 0.998375\n",
      "[2100]\tvalid_0's auc: 0.998358\n",
      "[2200]\tvalid_0's auc: 0.998368\n",
      "[2300]\tvalid_0's auc: 0.998361\n",
      "[2400]\tvalid_0's auc: 0.998371\n",
      "[2500]\tvalid_0's auc: 0.998374\n",
      "[2600]\tvalid_0's auc: 0.998385\n",
      "[2700]\tvalid_0's auc: 0.998373\n",
      "[2800]\tvalid_0's auc: 0.998373\n",
      "[2900]\tvalid_0's auc: 0.998366\n",
      "[3000]\tvalid_0's auc: 0.99836\n",
      "[3100]\tvalid_0's auc: 0.998359\n",
      "[3200]\tvalid_0's auc: 0.998358\n",
      "[3300]\tvalid_0's auc: 0.998342\n",
      "[3400]\tvalid_0's auc: 0.998342\n",
      "[3500]\tvalid_0's auc: 0.998328\n",
      "[3600]\tvalid_0's auc: 0.998325\n",
      "[3700]\tvalid_0's auc: 0.998328\n",
      "[3800]\tvalid_0's auc: 0.998324\n",
      "[3900]\tvalid_0's auc: 0.998317\n",
      "[4000]\tvalid_0's auc: 0.998307\n",
      "[4100]\tvalid_0's auc: 0.998297\n",
      "[4200]\tvalid_0's auc: 0.998294\n",
      "[4300]\tvalid_0's auc: 0.998284\n",
      "[4400]\tvalid_0's auc: 0.998282\n",
      "[4500]\tvalid_0's auc: 0.99828\n",
      "[4600]\tvalid_0's auc: 0.998277\n",
      "[4700]\tvalid_0's auc: 0.998271\n",
      "[4800]\tvalid_0's auc: 0.998269\n",
      "[4900]\tvalid_0's auc: 0.998263\n",
      "[5000]\tvalid_0's auc: 0.99826\n",
      "[5100]\tvalid_0's auc: 0.99826\n",
      "[5200]\tvalid_0's auc: 0.998258\n",
      "[5300]\tvalid_0's auc: 0.998259\n",
      "[5400]\tvalid_0's auc: 0.998255\n",
      "[5500]\tvalid_0's auc: 0.998251\n",
      "[5600]\tvalid_0's auc: 0.99825\n",
      "[5700]\tvalid_0's auc: 0.998256\n",
      "[5800]\tvalid_0's auc: 0.998254\n",
      "[5900]\tvalid_0's auc: 0.998248\n",
      "[6000]\tvalid_0's auc: 0.998249\n",
      "[6100]\tvalid_0's auc: 0.99825\n",
      "[6200]\tvalid_0's auc: 0.998252\n",
      "[6300]\tvalid_0's auc: 0.998249\n",
      "[6400]\tvalid_0's auc: 0.99824\n",
      "[6500]\tvalid_0's auc: 0.998238\n",
      "[6600]\tvalid_0's auc: 0.998234\n",
      "[6700]\tvalid_0's auc: 0.998241\n",
      "[6800]\tvalid_0's auc: 0.998232\n",
      "[6900]\tvalid_0's auc: 0.99822\n",
      "[7000]\tvalid_0's auc: 0.998218\n",
      "[7100]\tvalid_0's auc: 0.998217\n",
      "[7200]\tvalid_0's auc: 0.998212\n",
      "[7300]\tvalid_0's auc: 0.99821\n",
      "[7400]\tvalid_0's auc: 0.998212\n",
      "[7500]\tvalid_0's auc: 0.99821\n",
      "[7600]\tvalid_0's auc: 0.998211\n",
      "[7700]\tvalid_0's auc: 0.998201\n",
      "[7800]\tvalid_0's auc: 0.998201\n",
      "[7900]\tvalid_0's auc: 0.998196\n",
      "[8000]\tvalid_0's auc: 0.998193\n",
      "[8100]\tvalid_0's auc: 0.998181\n",
      "[8200]\tvalid_0's auc: 0.998181\n",
      "[8300]\tvalid_0's auc: 0.998183\n",
      "[8400]\tvalid_0's auc: 0.998179\n",
      "[8500]\tvalid_0's auc: 0.99817\n",
      "[8600]\tvalid_0's auc: 0.998162\n",
      "[8700]\tvalid_0's auc: 0.998157\n",
      "[8800]\tvalid_0's auc: 0.998146\n",
      "[8900]\tvalid_0's auc: 0.998134\n",
      "[9000]\tvalid_0's auc: 0.998133\n",
      "[9100]\tvalid_0's auc: 0.998131\n",
      "[9200]\tvalid_0's auc: 0.998129\n",
      "[9300]\tvalid_0's auc: 0.998118\n",
      "[9400]\tvalid_0's auc: 0.998114\n",
      "[9500]\tvalid_0's auc: 0.998107\n",
      "[9600]\tvalid_0's auc: 0.998074\n",
      "[9700]\tvalid_0's auc: 0.998057\n",
      "[9800]\tvalid_0's auc: 0.998047\n",
      "[9900]\tvalid_0's auc: 0.998028\n",
      "[10000]\tvalid_0's auc: 0.998014\n"
     ]
    },
    {
     "name": "stderr",
     "output_type": "stream",
     "text": [
      "/opt/conda/lib/python3.7/site-packages/lightgbm/sklearn.py:726: UserWarning: 'early_stopping_rounds' argument is deprecated and will be removed in a future release of LightGBM. Pass 'early_stopping()' callback via 'callbacks' argument instead.\n",
      "  _log_warning(\"'early_stopping_rounds' argument is deprecated and will be removed in a future release of LightGBM. \"\n",
      "/opt/conda/lib/python3.7/site-packages/lightgbm/sklearn.py:736: UserWarning: 'verbose' argument is deprecated and will be removed in a future release of LightGBM. Pass 'log_evaluation()' callback via 'callbacks' argument instead.\n",
      "  _log_warning(\"'verbose' argument is deprecated and will be removed in a future release of LightGBM. \"\n",
      "/opt/conda/lib/python3.7/site-packages/lightgbm/callback.py:223: UserWarning: Early stopping is not available in dart mode\n",
      "  _log_warning('Early stopping is not available in dart mode')\n"
     ]
    },
    {
     "name": "stdout",
     "output_type": "stream",
     "text": [
      "[100]\tvalid_0's auc: 0.996246\n",
      "[200]\tvalid_0's auc: 0.997201\n",
      "[300]\tvalid_0's auc: 0.998158\n",
      "[400]\tvalid_0's auc: 0.998412\n",
      "[500]\tvalid_0's auc: 0.998683\n",
      "[600]\tvalid_0's auc: 0.998749\n",
      "[700]\tvalid_0's auc: 0.998772\n",
      "[800]\tvalid_0's auc: 0.998785\n",
      "[900]\tvalid_0's auc: 0.998772\n",
      "[1000]\tvalid_0's auc: 0.998748\n",
      "[1100]\tvalid_0's auc: 0.998746\n",
      "[1200]\tvalid_0's auc: 0.998718\n",
      "[1300]\tvalid_0's auc: 0.998684\n",
      "[1400]\tvalid_0's auc: 0.998661\n",
      "[1500]\tvalid_0's auc: 0.998648\n",
      "[1600]\tvalid_0's auc: 0.998636\n",
      "[1700]\tvalid_0's auc: 0.998623\n",
      "[1800]\tvalid_0's auc: 0.998607\n",
      "[1900]\tvalid_0's auc: 0.9986\n",
      "[2000]\tvalid_0's auc: 0.998603\n",
      "[2100]\tvalid_0's auc: 0.998584\n",
      "[2200]\tvalid_0's auc: 0.998561\n",
      "[2300]\tvalid_0's auc: 0.998539\n",
      "[2400]\tvalid_0's auc: 0.998513\n",
      "[2500]\tvalid_0's auc: 0.998504\n",
      "[2600]\tvalid_0's auc: 0.998492\n",
      "[2700]\tvalid_0's auc: 0.998487\n",
      "[2800]\tvalid_0's auc: 0.998478\n",
      "[2900]\tvalid_0's auc: 0.998476\n",
      "[3000]\tvalid_0's auc: 0.998466\n",
      "[3100]\tvalid_0's auc: 0.998469\n",
      "[3200]\tvalid_0's auc: 0.998462\n",
      "[3300]\tvalid_0's auc: 0.998445\n",
      "[3400]\tvalid_0's auc: 0.998428\n",
      "[3500]\tvalid_0's auc: 0.998433\n",
      "[3600]\tvalid_0's auc: 0.998419\n",
      "[3700]\tvalid_0's auc: 0.998414\n",
      "[3800]\tvalid_0's auc: 0.998401\n",
      "[3900]\tvalid_0's auc: 0.998395\n",
      "[4000]\tvalid_0's auc: 0.998388\n",
      "[4100]\tvalid_0's auc: 0.99839\n",
      "[4200]\tvalid_0's auc: 0.99839\n",
      "[4300]\tvalid_0's auc: 0.99837\n",
      "[4400]\tvalid_0's auc: 0.998369\n",
      "[4500]\tvalid_0's auc: 0.998364\n",
      "[4600]\tvalid_0's auc: 0.998359\n",
      "[4700]\tvalid_0's auc: 0.998352\n",
      "[4800]\tvalid_0's auc: 0.998347\n",
      "[4900]\tvalid_0's auc: 0.998343\n",
      "[5000]\tvalid_0's auc: 0.998319\n",
      "[5100]\tvalid_0's auc: 0.998298\n",
      "[5200]\tvalid_0's auc: 0.998288\n",
      "[5300]\tvalid_0's auc: 0.998279\n",
      "[5400]\tvalid_0's auc: 0.998276\n",
      "[5500]\tvalid_0's auc: 0.998259\n",
      "[5600]\tvalid_0's auc: 0.998248\n",
      "[5700]\tvalid_0's auc: 0.998251\n",
      "[5800]\tvalid_0's auc: 0.998248\n",
      "[5900]\tvalid_0's auc: 0.998244\n",
      "[6000]\tvalid_0's auc: 0.998234\n",
      "[6100]\tvalid_0's auc: 0.998227\n",
      "[6200]\tvalid_0's auc: 0.998226\n",
      "[6300]\tvalid_0's auc: 0.998225\n",
      "[6400]\tvalid_0's auc: 0.998206\n",
      "[6500]\tvalid_0's auc: 0.998204\n",
      "[6600]\tvalid_0's auc: 0.998202\n",
      "[6700]\tvalid_0's auc: 0.998195\n",
      "[6800]\tvalid_0's auc: 0.998186\n",
      "[6900]\tvalid_0's auc: 0.998183\n",
      "[7000]\tvalid_0's auc: 0.998174\n",
      "[7100]\tvalid_0's auc: 0.99816\n",
      "[7200]\tvalid_0's auc: 0.998148\n",
      "[7300]\tvalid_0's auc: 0.998149\n",
      "[7400]\tvalid_0's auc: 0.998149\n",
      "[7500]\tvalid_0's auc: 0.998142\n",
      "[7600]\tvalid_0's auc: 0.998145\n",
      "[7700]\tvalid_0's auc: 0.998142\n",
      "[7800]\tvalid_0's auc: 0.998124\n",
      "[7900]\tvalid_0's auc: 0.998114\n",
      "[8000]\tvalid_0's auc: 0.998103\n",
      "[8100]\tvalid_0's auc: 0.998096\n",
      "[8200]\tvalid_0's auc: 0.998084\n",
      "[8300]\tvalid_0's auc: 0.998063\n",
      "[8400]\tvalid_0's auc: 0.998047\n",
      "[8500]\tvalid_0's auc: 0.99804\n",
      "[8600]\tvalid_0's auc: 0.998038\n",
      "[8700]\tvalid_0's auc: 0.998033\n",
      "[8800]\tvalid_0's auc: 0.998026\n",
      "[8900]\tvalid_0's auc: 0.998015\n",
      "[9000]\tvalid_0's auc: 0.998006\n",
      "[9100]\tvalid_0's auc: 0.997991\n",
      "[9200]\tvalid_0's auc: 0.997973\n",
      "[9300]\tvalid_0's auc: 0.997962\n",
      "[9400]\tvalid_0's auc: 0.997954\n",
      "[9500]\tvalid_0's auc: 0.99795\n",
      "[9600]\tvalid_0's auc: 0.997939\n",
      "[9700]\tvalid_0's auc: 0.997933\n",
      "[9800]\tvalid_0's auc: 0.997933\n",
      "[9900]\tvalid_0's auc: 0.997928\n",
      "[10000]\tvalid_0's auc: 0.997931\n"
     ]
    },
    {
     "name": "stderr",
     "output_type": "stream",
     "text": [
      "/opt/conda/lib/python3.7/site-packages/lightgbm/sklearn.py:726: UserWarning: 'early_stopping_rounds' argument is deprecated and will be removed in a future release of LightGBM. Pass 'early_stopping()' callback via 'callbacks' argument instead.\n",
      "  _log_warning(\"'early_stopping_rounds' argument is deprecated and will be removed in a future release of LightGBM. \"\n",
      "/opt/conda/lib/python3.7/site-packages/lightgbm/sklearn.py:736: UserWarning: 'verbose' argument is deprecated and will be removed in a future release of LightGBM. Pass 'log_evaluation()' callback via 'callbacks' argument instead.\n",
      "  _log_warning(\"'verbose' argument is deprecated and will be removed in a future release of LightGBM. \"\n",
      "/opt/conda/lib/python3.7/site-packages/lightgbm/callback.py:223: UserWarning: Early stopping is not available in dart mode\n",
      "  _log_warning('Early stopping is not available in dart mode')\n"
     ]
    },
    {
     "name": "stdout",
     "output_type": "stream",
     "text": [
      "[100]\tvalid_0's auc: 0.997554\n",
      "[200]\tvalid_0's auc: 0.997974\n",
      "[300]\tvalid_0's auc: 0.998763\n",
      "[400]\tvalid_0's auc: 0.998897\n",
      "[500]\tvalid_0's auc: 0.999018\n",
      "[600]\tvalid_0's auc: 0.999055\n",
      "[700]\tvalid_0's auc: 0.999067\n",
      "[800]\tvalid_0's auc: 0.999083\n",
      "[900]\tvalid_0's auc: 0.999085\n",
      "[1000]\tvalid_0's auc: 0.999075\n",
      "[1100]\tvalid_0's auc: 0.999084\n",
      "[1200]\tvalid_0's auc: 0.9991\n",
      "[1300]\tvalid_0's auc: 0.999099\n",
      "[1400]\tvalid_0's auc: 0.999079\n",
      "[1500]\tvalid_0's auc: 0.999066\n",
      "[1600]\tvalid_0's auc: 0.999062\n",
      "[1700]\tvalid_0's auc: 0.99905\n",
      "[1800]\tvalid_0's auc: 0.999042\n",
      "[1900]\tvalid_0's auc: 0.999036\n",
      "[2000]\tvalid_0's auc: 0.999037\n",
      "[2100]\tvalid_0's auc: 0.999039\n",
      "[2200]\tvalid_0's auc: 0.999042\n",
      "[2300]\tvalid_0's auc: 0.999038\n",
      "[2400]\tvalid_0's auc: 0.99904\n",
      "[2500]\tvalid_0's auc: 0.999041\n",
      "[2600]\tvalid_0's auc: 0.999048\n",
      "[2700]\tvalid_0's auc: 0.999038\n",
      "[2800]\tvalid_0's auc: 0.999042\n",
      "[2900]\tvalid_0's auc: 0.99904\n",
      "[3000]\tvalid_0's auc: 0.999042\n",
      "[3100]\tvalid_0's auc: 0.999044\n",
      "[3200]\tvalid_0's auc: 0.999045\n",
      "[3300]\tvalid_0's auc: 0.999042\n",
      "[3400]\tvalid_0's auc: 0.999036\n",
      "[3500]\tvalid_0's auc: 0.999034\n",
      "[3600]\tvalid_0's auc: 0.999036\n",
      "[3700]\tvalid_0's auc: 0.999031\n",
      "[3800]\tvalid_0's auc: 0.999034\n",
      "[3900]\tvalid_0's auc: 0.999035\n",
      "[4000]\tvalid_0's auc: 0.999034\n",
      "[4100]\tvalid_0's auc: 0.999032\n",
      "[4200]\tvalid_0's auc: 0.999028\n",
      "[4300]\tvalid_0's auc: 0.999024\n",
      "[4400]\tvalid_0's auc: 0.999026\n",
      "[4500]\tvalid_0's auc: 0.999021\n",
      "[4600]\tvalid_0's auc: 0.999021\n",
      "[4700]\tvalid_0's auc: 0.999016\n",
      "[4800]\tvalid_0's auc: 0.999015\n",
      "[4900]\tvalid_0's auc: 0.999012\n",
      "[5000]\tvalid_0's auc: 0.999017\n",
      "[5100]\tvalid_0's auc: 0.999012\n",
      "[5200]\tvalid_0's auc: 0.999006\n",
      "[5300]\tvalid_0's auc: 0.999011\n",
      "[5400]\tvalid_0's auc: 0.999011\n",
      "[5500]\tvalid_0's auc: 0.999012\n",
      "[5600]\tvalid_0's auc: 0.999014\n",
      "[5700]\tvalid_0's auc: 0.999014\n",
      "[5800]\tvalid_0's auc: 0.999011\n",
      "[5900]\tvalid_0's auc: 0.999007\n",
      "[6000]\tvalid_0's auc: 0.999006\n",
      "[6100]\tvalid_0's auc: 0.999006\n",
      "[6200]\tvalid_0's auc: 0.999003\n",
      "[6300]\tvalid_0's auc: 0.998998\n",
      "[6400]\tvalid_0's auc: 0.998999\n",
      "[6500]\tvalid_0's auc: 0.998999\n",
      "[6600]\tvalid_0's auc: 0.998997\n",
      "[6700]\tvalid_0's auc: 0.999\n",
      "[6800]\tvalid_0's auc: 0.999\n",
      "[6900]\tvalid_0's auc: 0.999\n",
      "[7000]\tvalid_0's auc: 0.998999\n",
      "[7100]\tvalid_0's auc: 0.998996\n",
      "[7200]\tvalid_0's auc: 0.998988\n",
      "[7300]\tvalid_0's auc: 0.998985\n",
      "[7400]\tvalid_0's auc: 0.998987\n",
      "[7500]\tvalid_0's auc: 0.998985\n",
      "[7600]\tvalid_0's auc: 0.998984\n",
      "[7700]\tvalid_0's auc: 0.998983\n",
      "[7800]\tvalid_0's auc: 0.998984\n",
      "[7900]\tvalid_0's auc: 0.998983\n",
      "[8000]\tvalid_0's auc: 0.998984\n",
      "[8100]\tvalid_0's auc: 0.998982\n",
      "[8200]\tvalid_0's auc: 0.998973\n",
      "[8300]\tvalid_0's auc: 0.998972\n",
      "[8400]\tvalid_0's auc: 0.998967\n",
      "[8500]\tvalid_0's auc: 0.998965\n",
      "[8600]\tvalid_0's auc: 0.998966\n",
      "[8700]\tvalid_0's auc: 0.998962\n",
      "[8800]\tvalid_0's auc: 0.998955\n",
      "[8900]\tvalid_0's auc: 0.998951\n",
      "[9000]\tvalid_0's auc: 0.99895\n",
      "[9100]\tvalid_0's auc: 0.998943\n",
      "[9200]\tvalid_0's auc: 0.998939\n",
      "[9300]\tvalid_0's auc: 0.998938\n",
      "[9400]\tvalid_0's auc: 0.998936\n",
      "[9500]\tvalid_0's auc: 0.998934\n",
      "[9600]\tvalid_0's auc: 0.99893\n",
      "[9700]\tvalid_0's auc: 0.998926\n",
      "[9800]\tvalid_0's auc: 0.998923\n",
      "[9900]\tvalid_0's auc: 0.998919\n",
      "[10000]\tvalid_0's auc: 0.998917\n"
     ]
    },
    {
     "name": "stderr",
     "output_type": "stream",
     "text": [
      "/opt/conda/lib/python3.7/site-packages/lightgbm/sklearn.py:726: UserWarning: 'early_stopping_rounds' argument is deprecated and will be removed in a future release of LightGBM. Pass 'early_stopping()' callback via 'callbacks' argument instead.\n",
      "  _log_warning(\"'early_stopping_rounds' argument is deprecated and will be removed in a future release of LightGBM. \"\n",
      "/opt/conda/lib/python3.7/site-packages/lightgbm/sklearn.py:736: UserWarning: 'verbose' argument is deprecated and will be removed in a future release of LightGBM. Pass 'log_evaluation()' callback via 'callbacks' argument instead.\n",
      "  _log_warning(\"'verbose' argument is deprecated and will be removed in a future release of LightGBM. \"\n",
      "/opt/conda/lib/python3.7/site-packages/lightgbm/callback.py:223: UserWarning: Early stopping is not available in dart mode\n",
      "  _log_warning('Early stopping is not available in dart mode')\n"
     ]
    },
    {
     "name": "stdout",
     "output_type": "stream",
     "text": [
      "[100]\tvalid_0's auc: 0.997697\n",
      "[200]\tvalid_0's auc: 0.997879\n",
      "[300]\tvalid_0's auc: 0.998357\n",
      "[400]\tvalid_0's auc: 0.998464\n",
      "[500]\tvalid_0's auc: 0.998689\n",
      "[600]\tvalid_0's auc: 0.99884\n",
      "[700]\tvalid_0's auc: 0.998909\n",
      "[800]\tvalid_0's auc: 0.99893\n",
      "[900]\tvalid_0's auc: 0.99897\n",
      "[1000]\tvalid_0's auc: 0.99898\n",
      "[1100]\tvalid_0's auc: 0.998988\n",
      "[1200]\tvalid_0's auc: 0.998983\n",
      "[1300]\tvalid_0's auc: 0.998991\n",
      "[1400]\tvalid_0's auc: 0.998992\n",
      "[1500]\tvalid_0's auc: 0.99899\n",
      "[1600]\tvalid_0's auc: 0.998989\n",
      "[1700]\tvalid_0's auc: 0.998998\n",
      "[1800]\tvalid_0's auc: 0.999\n",
      "[1900]\tvalid_0's auc: 0.998996\n",
      "[2000]\tvalid_0's auc: 0.998998\n",
      "[2100]\tvalid_0's auc: 0.998999\n",
      "[2200]\tvalid_0's auc: 0.999007\n",
      "[2300]\tvalid_0's auc: 0.998997\n",
      "[2400]\tvalid_0's auc: 0.998997\n",
      "[2500]\tvalid_0's auc: 0.998998\n",
      "[2600]\tvalid_0's auc: 0.999008\n",
      "[2700]\tvalid_0's auc: 0.999017\n",
      "[2800]\tvalid_0's auc: 0.999024\n",
      "[2900]\tvalid_0's auc: 0.999016\n",
      "[3000]\tvalid_0's auc: 0.999013\n",
      "[3100]\tvalid_0's auc: 0.999015\n",
      "[3200]\tvalid_0's auc: 0.999021\n",
      "[3300]\tvalid_0's auc: 0.999015\n",
      "[3400]\tvalid_0's auc: 0.999011\n",
      "[3500]\tvalid_0's auc: 0.999017\n",
      "[3600]\tvalid_0's auc: 0.999021\n",
      "[3700]\tvalid_0's auc: 0.999019\n",
      "[3800]\tvalid_0's auc: 0.999014\n",
      "[3900]\tvalid_0's auc: 0.999013\n",
      "[4000]\tvalid_0's auc: 0.99901\n",
      "[4100]\tvalid_0's auc: 0.999012\n",
      "[4200]\tvalid_0's auc: 0.999014\n",
      "[4300]\tvalid_0's auc: 0.999006\n",
      "[4400]\tvalid_0's auc: 0.999005\n",
      "[4500]\tvalid_0's auc: 0.999005\n",
      "[4600]\tvalid_0's auc: 0.998993\n",
      "[4700]\tvalid_0's auc: 0.998981\n",
      "[4800]\tvalid_0's auc: 0.998977\n",
      "[4900]\tvalid_0's auc: 0.998973\n",
      "[5000]\tvalid_0's auc: 0.998965\n",
      "[5100]\tvalid_0's auc: 0.998958\n",
      "[5200]\tvalid_0's auc: 0.998962\n",
      "[5300]\tvalid_0's auc: 0.998962\n",
      "[5400]\tvalid_0's auc: 0.998967\n",
      "[5500]\tvalid_0's auc: 0.998968\n",
      "[5600]\tvalid_0's auc: 0.998964\n",
      "[5700]\tvalid_0's auc: 0.998963\n",
      "[5800]\tvalid_0's auc: 0.998961\n",
      "[5900]\tvalid_0's auc: 0.998961\n",
      "[6000]\tvalid_0's auc: 0.998961\n",
      "[6100]\tvalid_0's auc: 0.99895\n",
      "[6200]\tvalid_0's auc: 0.998947\n",
      "[6300]\tvalid_0's auc: 0.998944\n",
      "[6400]\tvalid_0's auc: 0.998945\n",
      "[6500]\tvalid_0's auc: 0.998944\n",
      "[6600]\tvalid_0's auc: 0.998942\n",
      "[6700]\tvalid_0's auc: 0.998947\n",
      "[6800]\tvalid_0's auc: 0.998941\n",
      "[6900]\tvalid_0's auc: 0.998937\n",
      "[7000]\tvalid_0's auc: 0.998936\n",
      "[7100]\tvalid_0's auc: 0.998937\n",
      "[7200]\tvalid_0's auc: 0.998938\n",
      "[7300]\tvalid_0's auc: 0.998934\n",
      "[7400]\tvalid_0's auc: 0.998935\n",
      "[7500]\tvalid_0's auc: 0.99893\n",
      "[7600]\tvalid_0's auc: 0.998928\n",
      "[7700]\tvalid_0's auc: 0.998925\n",
      "[7800]\tvalid_0's auc: 0.998923\n",
      "[7900]\tvalid_0's auc: 0.998921\n",
      "[8000]\tvalid_0's auc: 0.998919\n",
      "[8100]\tvalid_0's auc: 0.998922\n",
      "[8200]\tvalid_0's auc: 0.99892\n",
      "[8300]\tvalid_0's auc: 0.998915\n",
      "[8400]\tvalid_0's auc: 0.998916\n",
      "[8500]\tvalid_0's auc: 0.998915\n",
      "[8600]\tvalid_0's auc: 0.998916\n",
      "[8700]\tvalid_0's auc: 0.998918\n",
      "[8800]\tvalid_0's auc: 0.998918\n",
      "[8900]\tvalid_0's auc: 0.998918\n",
      "[9000]\tvalid_0's auc: 0.998922\n",
      "[9100]\tvalid_0's auc: 0.998921\n",
      "[9200]\tvalid_0's auc: 0.998917\n",
      "[9300]\tvalid_0's auc: 0.998919\n",
      "[9400]\tvalid_0's auc: 0.998916\n",
      "[9500]\tvalid_0's auc: 0.998921\n",
      "[9600]\tvalid_0's auc: 0.998917\n",
      "[9700]\tvalid_0's auc: 0.998918\n",
      "[9800]\tvalid_0's auc: 0.998913\n",
      "[9900]\tvalid_0's auc: 0.998908\n",
      "[10000]\tvalid_0's auc: 0.998911\n"
     ]
    }
   ],
   "source": [
    "n_splits = 5\n",
    "K_fold = model_selection.KFold(n_splits=n_splits,shuffle =True, random_state=97)\n",
    "test_preds_array = np.zeros(len(y_test))\n",
    "valid_preds_array = np.zeros(len(y))\n",
    "scores_valid = []\n",
    "scores_train = []\n",
    "\n",
    "for fold, (train_idx, valid_idx) in enumerate(K_fold.split(valids)):\n",
    "    X_train , y_train = valids[train_idx, :], y[train_idx]\n",
    "    X_valid, y_valid = valids[valid_idx, :], y[valid_idx]\n",
    "\n",
    "\n",
    "    clf = LGBMClassifier(num_leaves=25,\n",
    "                        objective=\"binary\",\n",
    "                        metric='auc',\n",
    "                        subsample=0.7,\n",
    "                        learning_rate=0.03,\n",
    "                        n_estimators=10000,\n",
    "                        n_jobs=-1,\n",
    "                        boosting_type=\"dart\")\n",
    "    clf.fit(X_train,y_train,\n",
    "            eval_set=[(X_valid,y_valid)],\n",
    "            verbose = 100,\n",
    "            early_stopping_rounds=100)\n",
    "\n",
    "    valid_preds = clf.predict_proba(X_valid)[:, -1]\n",
    "    train_preds = clf.predict_proba(X_train)[:, -1]\n",
    "    test_preds = clf.predict_proba(tests)[:, -1]\n",
    "    test_preds_array += test_preds / n_splits\n",
    "    valid_preds_array[valid_idx] = valid_preds\n",
    "    \n",
    "    score_valid = metrics.roc_auc_score(y_valid, valid_preds)\n",
    "    score_train = metrics.roc_auc_score(y_train, train_preds)\n",
    "    \n",
    "    scores_valid.append(score_valid)\n",
    "    scores_train.append(score_train)"
   ]
  },
  {
   "cell_type": "code",
   "execution_count": 16,
   "id": "d1e8d070",
   "metadata": {
    "execution": {
     "iopub.execute_input": "2022-10-20T00:40:41.332915Z",
     "iopub.status.busy": "2022-10-20T00:40:41.331741Z",
     "iopub.status.idle": "2022-10-20T00:40:41.384362Z",
     "shell.execute_reply": "2022-10-20T00:40:41.383264Z"
    },
    "papermill": {
     "duration": 0.091307,
     "end_time": "2022-10-20T00:40:41.386907",
     "exception": false,
     "start_time": "2022-10-20T00:40:41.295600",
     "status": "completed"
    },
    "tags": []
   },
   "outputs": [],
   "source": [
    "submit(test_preds_array)\n"
   ]
  }
 ],
 "metadata": {
  "kernelspec": {
   "display_name": "Python 3",
   "language": "python",
   "name": "python3"
  },
  "language_info": {
   "codemirror_mode": {
    "name": "ipython",
    "version": 3
   },
   "file_extension": ".py",
   "mimetype": "text/x-python",
   "name": "python",
   "nbconvert_exporter": "python",
   "pygments_lexer": "ipython3",
   "version": "3.7.12"
  },
  "papermill": {
   "default_parameters": {},
   "duration": 1560.097335,
   "end_time": "2022-10-20T00:40:42.247537",
   "environment_variables": {},
   "exception": null,
   "input_path": "__notebook__.ipynb",
   "output_path": "__notebook__.ipynb",
   "parameters": {},
   "start_time": "2022-10-20T00:14:42.150202",
   "version": "2.3.4"
  }
 },
 "nbformat": 4,
 "nbformat_minor": 5
}
