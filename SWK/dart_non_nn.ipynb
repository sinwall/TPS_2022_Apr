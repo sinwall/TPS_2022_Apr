{
 "cells": [
  {
   "cell_type": "markdown",
   "metadata": {
    "papermill": {
     "duration": 0.004886,
     "end_time": "2022-10-05T02:06:56.269166",
     "exception": false,
     "start_time": "2022-10-05T02:06:56.264280",
     "status": "completed"
    },
    "tags": []
   },
   "source": [
    "# Non-NN models"
   ]
  },
  {
   "cell_type": "code",
   "execution_count": 12,
   "metadata": {
    "_cell_guid": "b1076dfc-b9ad-4769-8c92-a6c4dae69d19",
    "_uuid": "8f2839f25d086af736a60e9eeb907d3b93b6e0e5",
    "execution": {
     "iopub.execute_input": "2022-10-05T02:06:56.285864Z",
     "iopub.status.busy": "2022-10-05T02:06:56.285131Z",
     "iopub.status.idle": "2022-10-05T02:06:56.294638Z",
     "shell.execute_reply": "2022-10-05T02:06:56.293812Z"
    },
    "papermill": {
     "duration": 0.01694,
     "end_time": "2022-10-05T02:06:56.296897",
     "exception": false,
     "start_time": "2022-10-05T02:06:56.279957",
     "status": "completed"
    },
    "tags": []
   },
   "outputs": [],
   "source": [
    "input_path = './input/'\n",
    "output_path = './output/pure_non_nn_results/'"
   ]
  },
  {
   "cell_type": "code",
   "execution_count": 5,
   "metadata": {
    "execution": {
     "iopub.execute_input": "2022-10-05T02:06:56.306358Z",
     "iopub.status.busy": "2022-10-05T02:06:56.305664Z",
     "iopub.status.idle": "2022-10-05T02:06:57.377231Z",
     "shell.execute_reply": "2022-10-05T02:06:57.376037Z"
    },
    "papermill": {
     "duration": 1.079456,
     "end_time": "2022-10-05T02:06:57.380107",
     "exception": false,
     "start_time": "2022-10-05T02:06:56.300651",
     "status": "completed"
    },
    "tags": []
   },
   "outputs": [],
   "source": [
    "import pandas as pd\n",
    "import numpy as np\n",
    "from sklearn.metrics import roc_auc_score\n",
    "\n",
    "def load_raw_data(train_or_test='train'):\n",
    "    file_name = f'{input_path}/{train_or_test}.csv'\n",
    "    df = pd.read_csv(file_name)\n",
    "    return df\n",
    "\n",
    "def load_label(train_or_test='train'):\n",
    "    file_name = input_path + ('train_labels.csv' if train_or_test=='train' else 'sample_submission.csv')\n",
    "    df = pd.read_csv(file_name)\n",
    "    return df['state'].values\n",
    "\n",
    "def competition_metric(y_true, y_score):\n",
    "    return roc_auc_score(y_true, y_score)\n",
    "\n",
    "def evaluate(model, X, y):\n",
    "    return competition_metric(y, model.predict_proba(X)[:, 1])\n",
    "\n",
    "def to_csv(arr,train_or_test='train',name=None):\n",
    "    df = pd.DataFrame(arr)\n",
    "    if type(name)==str:\n",
    "        df.to_csv(f'{output_path}/{name}_{train_or_test}_v4.csv', index = False )\n",
    "    else:\n",
    "        df.to_csv(f'{output_path}/{train_or_test}_v4.csv', index = False )\n",
    "\n",
    "def ans_to_csv(arr,train_or_test='train',name=None):\n",
    "    file_name = input_path + ('train_labels.csv' if train_or_test=='train' else 'sample_submission.csv')\n",
    "    df = pd.read_csv(file_name)\n",
    "    df['state'] = arr\n",
    "    if type(name)==str:\n",
    "        df.to_csv(f'{output_path}/{name}_{train_or_test}.csv', index = False )\n",
    "    else:\n",
    "        df.to_csv(f'{output_path}/{train_or_test}.csv', index = False )\n",
    "\n",
    "def submit(arr):\n",
    "    df = pd.read_csv(f'{input_path}/sample_submission.csv')\n",
    "    df['state'] = arr\n",
    "    df.to_csv(f'{output_path}/submission.csv', index=False)"
   ]
  },
  {
   "cell_type": "code",
   "execution_count": null,
   "metadata": {
    "execution": {
     "iopub.execute_input": "2022-10-05T02:06:57.390175Z",
     "iopub.status.busy": "2022-10-05T02:06:57.389720Z",
     "iopub.status.idle": "2022-10-05T02:06:59.516354Z",
     "shell.execute_reply": "2022-10-05T02:06:59.515092Z"
    },
    "papermill": {
     "duration": 2.135341,
     "end_time": "2022-10-05T02:06:59.519371",
     "exception": false,
     "start_time": "2022-10-05T02:06:57.384030",
     "status": "completed"
    },
    "tags": []
   },
   "outputs": [],
   "source": [
    "\n",
    "\n",
    "def group_splitter(df, nfold=5, random_state=None):\n",
    "    subject_nums = df['subject'].unique()\n",
    "    rng = np.random.default_rng(random_state)\n",
    "    subject_to_setnum = rng.integers(0, nfold, subject_nums.shape[0])\n",
    "    for i in range(nfold):\n",
    "        val_subjects = subject_nums[subject_to_setnum == i]\n",
    "        mask_df_val = df['subject'].isin(val_subjects)\n",
    "        mask_y_val = mask_df_val.iloc[::60]\n",
    "        yield mask_df_val, mask_y_val"
   ]
  },
  {
   "cell_type": "code",
   "execution_count": null,
   "metadata": {},
   "outputs": [],
   "source": [
    "from tbr_apr_mds import CorrExtractor ,ElementaryExtractor, TsfreshExtractor,MBOP"
   ]
  },
  {
   "cell_type": "code",
   "execution_count": null,
   "metadata": {},
   "outputs": [],
   "source": [
    "def short_test(x,y,n):\n",
    "    return df.loc[df.sequence<n] ,y[:n]"
   ]
  },
  {
   "cell_type": "code",
   "execution_count": 8,
   "metadata": {
    "execution": {
     "iopub.execute_input": "2022-10-05T02:07:13.120718Z",
     "iopub.status.busy": "2022-10-05T02:07:13.120289Z",
     "iopub.status.idle": "2022-10-05T02:07:22.393132Z",
     "shell.execute_reply": "2022-10-05T02:07:22.391869Z"
    },
    "papermill": {
     "duration": 9.282681,
     "end_time": "2022-10-05T02:07:22.396695",
     "exception": false,
     "start_time": "2022-10-05T02:07:13.114014",
     "status": "completed"
    },
    "tags": []
   },
   "outputs": [],
   "source": [
    "df = load_raw_data('train')\n",
    "y = load_label('train')\n",
    "df_test = load_raw_data(\"test\")\n",
    "y_test = load_label(\"test\")"
   ]
  },
  {
   "cell_type": "code",
   "execution_count": null,
   "metadata": {
    "execution": {
     "iopub.execute_input": "2022-10-05T02:07:22.407672Z",
     "iopub.status.busy": "2022-10-05T02:07:22.407256Z"
    },
    "papermill": {
     "duration": null,
     "end_time": null,
     "exception": false,
     "start_time": "2022-10-05T02:07:22.401499",
     "status": "running"
    },
    "tags": []
   },
   "outputs": [],
   "source": [
    "from lightgbm import LGBMClassifier\n",
    "from sklearn.pipeline import make_union\n",
    "from sklearn.metrics import classification_report\n",
    "clfs = [\n",
    "            LGBMClassifier(n_estimators=200, random_state=55,max_depth=10,boosting_type=\"dart\",metric=\"auc\"),\n",
    "            LGBMClassifier(n_estimators=200, random_state=62,max_depth=10,boosting_type=\"dart\",metric=\"auc\"),\n",
    "            LGBMClassifier(n_estimators=200, random_state=1,max_depth=-1,boosting_type=\"dart\",metric=\"auc\"),\n",
    "            LGBMClassifier(n_estimators=200, random_state=42,max_depth=-1,boosting_type=\"dart\",metric=\"auc\"),\n",
    "            LGBMClassifier(n_estimators=200, random_state=42,max_depth=-1,boosting_type=\"goss\",metric=\"auc\"),\n",
    "]\n",
    "\n",
    "extractors = [ ElementaryExtractor(), TsfreshExtractor(), MBOP(window_size=4,word_size=4,n_bins=10,m_occur=0.006)]\n",
    "extractor = make_union(*extractors)\n",
    "train_preds_array = np.zeros(len(clfs)*len(y)).reshape(-1,len(clfs))\n",
    "test_preds_array = np.zeros(len(clfs)*len(y_test)).reshape(-1,len(clfs))\n",
    "p=0\n",
    "for mask_df_val, mask_y_val in group_splitter(df, nfold=5, random_state=21):\n",
    "    if p==4:\n",
    "        p+=1\n",
    "        df_train, y_train = df[~mask_df_val], y[~mask_y_val]\n",
    "        df_val, y_val = df[mask_df_val], y[mask_y_val]\n",
    "        X_train = extractor.fit_transform(df_train)\n",
    "        X_val = extractor.transform(df_val)\n",
    "        print(X_train.shape, X_val.shape)\n",
    "        for clf,i in zip(clfs,range(len(clfs))):\n",
    "            clf.fit(X_train, y_train,eval_set=[(X_val,y_val)],verbose=100)\n",
    "            X_train_F = extractor.transform(df)\n",
    "            X_test_F = extractor.transform(df_test)\n",
    "            train_preds_array[:,i] += clf.predict_proba(X_train_F)[:,1]\n",
    "            test_preds_array[:,i] += clf.predict_proba(X_test_F)[:,1]\n",
    "            print(clf)\n",
    "            print(evaluate(clf, X_train, y_train))\n",
    "            print(evaluate(clf, X_val, y_val))\n",
    "            print(classification_report(y_val, (clf.predict(X_val) >= 0.5).astype(int), digits=4 ))\n",
    "    else:\n",
    "        p+=1\n",
    "to_csv(train_preds_array,\"train\")\n",
    "to_csv(test_preds_array,\"test\")"
   ]
  },
  {
   "cell_type": "code",
   "execution_count": null,
   "metadata": {
    "papermill": {
     "duration": null,
     "end_time": null,
     "exception": null,
     "start_time": null,
     "status": "pending"
    },
    "tags": []
   },
   "outputs": [],
   "source": [
    "# clf = LGBMClassifier(num_leaves=31, max_depth=4, n_estimators=100)\n",
    "\n",
    "# df_train_final = df\n",
    "# y_train_final = y\n",
    "# X_train_final = extractor.fit_transform(df_train_final)\n",
    "# clf.fit(X_train_final, y_train_final)\n",
    "\n",
    "# df_test_final = load_raw_data('test')\n",
    "# X_test_final = extractor.transform(df_test_final)\n",
    "# y_pred = clf.predict_proba(X_test_final)[:, 1]\n",
    "# submit(y_pred)"
   ]
  }
 ],
 "metadata": {
  "kernelspec": {
   "display_name": "Python 3 (ipykernel)",
   "language": "python",
   "name": "python3"
  },
  "language_info": {
   "codemirror_mode": {
    "name": "ipython",
    "version": 3
   },
   "file_extension": ".py",
   "mimetype": "text/x-python",
   "name": "python",
   "nbconvert_exporter": "python",
   "pygments_lexer": "ipython3",
   "version": "3.8.10"
  },
  "vscode": {
   "interpreter": {
    "hash": "2684a7f0d802170d85c632738c0cde4596fc61c431d1dcda6b979c60ccca6dcc"
   }
  }
 },
 "nbformat": 4,
 "nbformat_minor": 4
}
