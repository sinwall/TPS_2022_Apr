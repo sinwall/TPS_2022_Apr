{
 "cells": [
  {
   "cell_type": "markdown",
   "id": "f926982f",
   "metadata": {
    "papermill": {
     "duration": 0.006008,
     "end_time": "2022-10-19T15:35:41.181853",
     "exception": false,
     "start_time": "2022-10-19T15:35:41.175845",
     "status": "completed"
    },
    "tags": []
   },
   "source": [
    "#BLENDING"
   ]
  },
  {
   "cell_type": "code",
   "execution_count": 1,
   "id": "5582e8d5",
   "metadata": {
    "execution": {
     "iopub.execute_input": "2022-10-19T15:35:41.194298Z",
     "iopub.status.busy": "2022-10-19T15:35:41.193799Z",
     "iopub.status.idle": "2022-10-19T15:35:41.204945Z",
     "shell.execute_reply": "2022-10-19T15:35:41.203784Z"
    },
    "papermill": {
     "duration": 0.020421,
     "end_time": "2022-10-19T15:35:41.207737",
     "exception": false,
     "start_time": "2022-10-19T15:35:41.187316",
     "status": "completed"
    },
    "tags": []
   },
   "outputs": [],
   "source": [
    "input_path = '../input/'\n",
    "output_path = './'"
   ]
  },
  {
   "cell_type": "code",
   "execution_count": 2,
   "id": "f8e3f590",
   "metadata": {
    "execution": {
     "iopub.execute_input": "2022-10-19T15:35:41.219402Z",
     "iopub.status.busy": "2022-10-19T15:35:41.218546Z",
     "iopub.status.idle": "2022-10-19T15:35:42.605831Z",
     "shell.execute_reply": "2022-10-19T15:35:42.604495Z"
    },
    "papermill": {
     "duration": 1.39644,
     "end_time": "2022-10-19T15:35:42.608709",
     "exception": false,
     "start_time": "2022-10-19T15:35:41.212269",
     "status": "completed"
    },
    "tags": []
   },
   "outputs": [],
   "source": [
    "import pandas as pd\n",
    "import numpy as np\n",
    "from sklearn.metrics import roc_auc_score\n",
    "from sklearn import model_selection\n",
    "\n",
    "def load_raw_data(folder_name,train_or_test=\"train\"):\n",
    "    file_name = f'{input_path}/{folder_name}/{train_or_test}.csv'\n",
    "    df = pd.read_csv(file_name)\n",
    "    return df\n",
    "\n",
    "def load_label(train_or_test='train'):\n",
    "    file_name = input_path +\"/tabular-playground-series-apr-2022/\"+ ('train_labels.csv' if train_or_test=='train' else 'sample_submission.csv')\n",
    "    df = pd.read_csv(file_name)\n",
    "    return df['state'].values\n",
    "\n",
    "def competition_metric(y_true, y_score):\n",
    "    return roc_auc_score(y_true, y_score)\n",
    "\n",
    "def evaluate(model, X, y):\n",
    "    return competition_metric(y, model.predict_proba(X)[:, 1])\n",
    "\n",
    "\n",
    "def submit(arr):\n",
    "    df = pd.read_csv(f'{input_path}/tabular-playground-series-apr-2022/sample_submission.csv')\n",
    "    df['state'] = arr\n",
    "    df.to_csv(f'{output_path}/submission.csv', index=False)\n",
    "\n",
    "\n",
    "def to_csv(arr,train_or_test='train',name=None):\n",
    "    df = pd.DataFrame(arr)\n",
    "    if type(name)==str:\n",
    "        df.to_csv(f'{output_path}/{name}_{train_or_test}.csv', index = False )\n",
    "    else:\n",
    "        df.to_csv(f'{output_path}/{train_or_test}.csv', index = False )\n",
    "\n"
   ]
  },
  {
   "cell_type": "code",
   "execution_count": 3,
   "id": "4204f3ab",
   "metadata": {
    "execution": {
     "iopub.execute_input": "2022-10-19T15:35:42.619718Z",
     "iopub.status.busy": "2022-10-19T15:35:42.619273Z",
     "iopub.status.idle": "2022-10-19T15:35:42.625607Z",
     "shell.execute_reply": "2022-10-19T15:35:42.623749Z"
    },
    "papermill": {
     "duration": 0.014813,
     "end_time": "2022-10-19T15:35:42.628287",
     "exception": false,
     "start_time": "2022-10-19T15:35:42.613474",
     "status": "completed"
    },
    "tags": []
   },
   "outputs": [],
   "source": [
    "def short_test(x,y,n):\n",
    "    return x.loc[x.sequence<n] ,y[:n]"
   ]
  },
  {
   "cell_type": "code",
   "execution_count": 4,
   "id": "7b167fc4",
   "metadata": {
    "execution": {
     "iopub.execute_input": "2022-10-19T15:35:42.639194Z",
     "iopub.status.busy": "2022-10-19T15:35:42.638745Z",
     "iopub.status.idle": "2022-10-19T15:35:43.177909Z",
     "shell.execute_reply": "2022-10-19T15:35:43.176364Z"
    },
    "papermill": {
     "duration": 0.547832,
     "end_time": "2022-10-19T15:35:43.180709",
     "exception": false,
     "start_time": "2022-10-19T15:35:42.632877",
     "status": "completed"
    },
    "tags": []
   },
   "outputs": [],
   "source": [
    "df_NN_pure = load_raw_data(\"tbr-apr-22-nn-pure\").to_numpy()\n",
    "df_F_pure_wc_val_0 = load_raw_data(\"feature-wc-val-0\").to_numpy()\n",
    "df_F_double_woc = load_raw_data(\"tbr-apr-2022-feature-double-woc\").to_numpy()\n",
    "df_NN_pure_soft = pd.read_csv('../input/tbr-apr-22-nn-pure/soft_train.csv').to_numpy().reshape(-1,1)\n"
   ]
  },
  {
   "cell_type": "code",
   "execution_count": 5,
   "id": "8ce0ae3f",
   "metadata": {
    "execution": {
     "iopub.execute_input": "2022-10-19T15:35:43.192897Z",
     "iopub.status.busy": "2022-10-19T15:35:43.191285Z",
     "iopub.status.idle": "2022-10-19T15:35:43.363011Z",
     "shell.execute_reply": "2022-10-19T15:35:43.361305Z"
    },
    "papermill": {
     "duration": 0.180645,
     "end_time": "2022-10-19T15:35:43.366087",
     "exception": false,
     "start_time": "2022-10-19T15:35:43.185442",
     "status": "completed"
    },
    "tags": []
   },
   "outputs": [],
   "source": [
    "df_test_NN_pure = load_raw_data(\"tbr-apr-22-nn-pure\",\"test\").to_numpy()\n",
    "df_test_F_pure_wc_val_0 = load_raw_data(\"feature-wc-val-0\",\"test\").to_numpy()\n",
    "df_test_F_double_woc = load_raw_data(\"tbr-apr-2022-feature-double-woc\",\"test\").to_numpy()\n",
    "df_test_NN_pure_soft = pd.read_csv('../input/tbr-apr-22-nn-pure/soft_test.csv').to_numpy().reshape(-1,1)\n"
   ]
  },
  {
   "cell_type": "code",
   "execution_count": 6,
   "id": "7f95b1f0",
   "metadata": {
    "execution": {
     "iopub.execute_input": "2022-10-19T15:35:43.378189Z",
     "iopub.status.busy": "2022-10-19T15:35:43.377305Z",
     "iopub.status.idle": "2022-10-19T15:35:43.415520Z",
     "shell.execute_reply": "2022-10-19T15:35:43.414548Z"
    },
    "papermill": {
     "duration": 0.047439,
     "end_time": "2022-10-19T15:35:43.418319",
     "exception": false,
     "start_time": "2022-10-19T15:35:43.370880",
     "status": "completed"
    },
    "tags": []
   },
   "outputs": [],
   "source": [
    "\n",
    "y = load_label(\"train\")\n",
    "y_test = load_label('test')\n",
    "yy = np.concatenate([y,y], axis=0)"
   ]
  },
  {
   "cell_type": "code",
   "execution_count": 7,
   "id": "0e9a163d",
   "metadata": {
    "execution": {
     "iopub.execute_input": "2022-10-19T15:35:43.429648Z",
     "iopub.status.busy": "2022-10-19T15:35:43.428723Z",
     "iopub.status.idle": "2022-10-19T15:35:43.436350Z",
     "shell.execute_reply": "2022-10-19T15:35:43.435399Z"
    },
    "papermill": {
     "duration": 0.016308,
     "end_time": "2022-10-19T15:35:43.439208",
     "exception": false,
     "start_time": "2022-10-19T15:35:43.422900",
     "status": "completed"
    },
    "tags": []
   },
   "outputs": [],
   "source": [
    "valids = np.concatenate([\n",
    "                          df_NN_pure,\n",
    "                          df_F_double_woc[:25968],\n",
    "                            ], axis=1)"
   ]
  },
  {
   "cell_type": "code",
   "execution_count": 8,
   "id": "f2cd7cd6",
   "metadata": {
    "execution": {
     "iopub.execute_input": "2022-10-19T15:35:43.450421Z",
     "iopub.status.busy": "2022-10-19T15:35:43.450033Z",
     "iopub.status.idle": "2022-10-19T15:35:43.457533Z",
     "shell.execute_reply": "2022-10-19T15:35:43.456236Z"
    },
    "papermill": {
     "duration": 0.016417,
     "end_time": "2022-10-19T15:35:43.460384",
     "exception": false,
     "start_time": "2022-10-19T15:35:43.443967",
     "status": "completed"
    },
    "tags": []
   },
   "outputs": [],
   "source": [
    "tests= np.concatenate([\n",
    "                          df_test_NN_pure,\n",
    "                          df_test_F_double_woc,\n",
    "                            ], axis=1)"
   ]
  },
  {
   "cell_type": "code",
   "execution_count": 9,
   "id": "fcf8c1e9",
   "metadata": {
    "execution": {
     "iopub.execute_input": "2022-10-19T15:35:43.473349Z",
     "iopub.status.busy": "2022-10-19T15:35:43.472441Z",
     "iopub.status.idle": "2022-10-19T15:35:44.450149Z",
     "shell.execute_reply": "2022-10-19T15:35:44.448673Z"
    },
    "papermill": {
     "duration": 0.987916,
     "end_time": "2022-10-19T15:35:44.453114",
     "exception": false,
     "start_time": "2022-10-19T15:35:43.465198",
     "status": "completed"
    },
    "tags": []
   },
   "outputs": [
    {
     "data": {
      "text/html": [
       "<style type='text/css'>\n",
       ".datatable table.frame { margin-bottom: 0; }\n",
       ".datatable table.frame thead { border-bottom: none; }\n",
       ".datatable table.frame tr.coltypes td {  color: #FFFFFF;  line-height: 6px;  padding: 0 0.5em;}\n",
       ".datatable .bool    { background: #DDDD99; }\n",
       ".datatable .object  { background: #565656; }\n",
       ".datatable .int     { background: #5D9E5D; }\n",
       ".datatable .float   { background: #4040CC; }\n",
       ".datatable .str     { background: #CC4040; }\n",
       ".datatable .time    { background: #40CC40; }\n",
       ".datatable .row_index {  background: var(--jp-border-color3);  border-right: 1px solid var(--jp-border-color0);  color: var(--jp-ui-font-color3);  font-size: 9px;}\n",
       ".datatable .frame tbody td { text-align: left; }\n",
       ".datatable .frame tr.coltypes .row_index {  background: var(--jp-border-color0);}\n",
       ".datatable th:nth-child(2) { padding-left: 12px; }\n",
       ".datatable .hellipsis {  color: var(--jp-cell-editor-border-color);}\n",
       ".datatable .vellipsis {  background: var(--jp-layout-color0);  color: var(--jp-cell-editor-border-color);}\n",
       ".datatable .na {  color: var(--jp-cell-editor-border-color);  font-size: 80%;}\n",
       ".datatable .sp {  opacity: 0.25;}\n",
       ".datatable .footer { font-size: 9px; }\n",
       ".datatable .frame_dimensions {  background: var(--jp-border-color3);  border-top: 1px solid var(--jp-border-color0);  color: var(--jp-ui-font-color3);  display: inline-block;  opacity: 0.6;  padding: 1px 10px 1px 5px;}\n",
       "</style>\n"
      ],
      "text/plain": [
       "<IPython.core.display.HTML object>"
      ]
     },
     "metadata": {},
     "output_type": "display_data"
    }
   ],
   "source": [
    "from lightgbm import LGBMClassifier\n"
   ]
  },
  {
   "cell_type": "code",
   "execution_count": 10,
   "id": "fbe84158",
   "metadata": {
    "execution": {
     "iopub.execute_input": "2022-10-19T15:35:44.465179Z",
     "iopub.status.busy": "2022-10-19T15:35:44.464508Z",
     "iopub.status.idle": "2022-10-19T15:35:44.470389Z",
     "shell.execute_reply": "2022-10-19T15:35:44.469225Z"
    },
    "papermill": {
     "duration": 0.014775,
     "end_time": "2022-10-19T15:35:44.473009",
     "exception": false,
     "start_time": "2022-10-19T15:35:44.458234",
     "status": "completed"
    },
    "tags": []
   },
   "outputs": [],
   "source": [
    "import sklearn.metrics as metrics"
   ]
  },
  {
   "cell_type": "code",
   "execution_count": 11,
   "id": "f8c3b6af",
   "metadata": {
    "execution": {
     "iopub.execute_input": "2022-10-19T15:35:44.485992Z",
     "iopub.status.busy": "2022-10-19T15:35:44.484537Z",
     "iopub.status.idle": "2022-10-19T15:35:44.660471Z",
     "shell.execute_reply": "2022-10-19T15:35:44.659246Z"
    },
    "papermill": {
     "duration": 0.185464,
     "end_time": "2022-10-19T15:35:44.663566",
     "exception": false,
     "start_time": "2022-10-19T15:35:44.478102",
     "status": "completed"
    },
    "tags": []
   },
   "outputs": [
    {
     "name": "stdout",
     "output_type": "stream",
     "text": [
      "0.9777898181122935\n",
      "0.980460950723985\n",
      "0.9613977609984228\n",
      "0.9790575589205852\n",
      "0.9791202875330113\n",
      "0.9786032020859757\n",
      "0.977540991650445\n",
      "0.9669728457653909\n",
      "0.9763716947241221\n",
      "0.964018921298494\n",
      "0.9660085601807571\n",
      "0.9806624445179511\n",
      "0.9996699614877759\n",
      "0.9996699614877759\n",
      "0.9997152862468819\n",
      "0.9833434505835795\n",
      "0.9996705250072254\n"
     ]
    }
   ],
   "source": [
    "for i in range(len(valids[0])):\n",
    "    print(metrics.roc_auc_score(y,valids[:,i]))\n"
   ]
  },
  {
   "cell_type": "code",
   "execution_count": 12,
   "id": "b0433b42",
   "metadata": {
    "execution": {
     "iopub.execute_input": "2022-10-19T15:35:44.674988Z",
     "iopub.status.busy": "2022-10-19T15:35:44.674588Z",
     "iopub.status.idle": "2022-10-19T15:35:44.682414Z",
     "shell.execute_reply": "2022-10-19T15:35:44.680957Z"
    },
    "papermill": {
     "duration": 0.016869,
     "end_time": "2022-10-19T15:35:44.685085",
     "exception": false,
     "start_time": "2022-10-19T15:35:44.668216",
     "status": "completed"
    },
    "tags": []
   },
   "outputs": [
    {
     "data": {
      "text/plain": [
       "(12218,)"
      ]
     },
     "execution_count": 12,
     "metadata": {},
     "output_type": "execute_result"
    }
   ],
   "source": [
    "y_test.shape"
   ]
  },
  {
   "cell_type": "code",
   "execution_count": 13,
   "id": "5b8e7e4f",
   "metadata": {
    "execution": {
     "iopub.execute_input": "2022-10-19T15:35:44.696352Z",
     "iopub.status.busy": "2022-10-19T15:35:44.695906Z",
     "iopub.status.idle": "2022-10-19T15:35:48.101928Z",
     "shell.execute_reply": "2022-10-19T15:35:48.100981Z"
    },
    "papermill": {
     "duration": 3.414634,
     "end_time": "2022-10-19T15:35:48.104442",
     "exception": false,
     "start_time": "2022-10-19T15:35:44.689808",
     "status": "completed"
    },
    "tags": []
   },
   "outputs": [
    {
     "name": "stderr",
     "output_type": "stream",
     "text": [
      "/opt/conda/lib/python3.7/site-packages/lightgbm/sklearn.py:726: UserWarning: 'early_stopping_rounds' argument is deprecated and will be removed in a future release of LightGBM. Pass 'early_stopping()' callback via 'callbacks' argument instead.\n",
      "  _log_warning(\"'early_stopping_rounds' argument is deprecated and will be removed in a future release of LightGBM. \"\n",
      "/opt/conda/lib/python3.7/site-packages/lightgbm/sklearn.py:736: UserWarning: 'verbose' argument is deprecated and will be removed in a future release of LightGBM. Pass 'log_evaluation()' callback via 'callbacks' argument instead.\n",
      "  _log_warning(\"'verbose' argument is deprecated and will be removed in a future release of LightGBM. \"\n"
     ]
    },
    {
     "name": "stdout",
     "output_type": "stream",
     "text": [
      "[100]\tvalid_0's auc: 0.999625\n"
     ]
    },
    {
     "name": "stderr",
     "output_type": "stream",
     "text": [
      "/opt/conda/lib/python3.7/site-packages/lightgbm/sklearn.py:726: UserWarning: 'early_stopping_rounds' argument is deprecated and will be removed in a future release of LightGBM. Pass 'early_stopping()' callback via 'callbacks' argument instead.\n",
      "  _log_warning(\"'early_stopping_rounds' argument is deprecated and will be removed in a future release of LightGBM. \"\n",
      "/opt/conda/lib/python3.7/site-packages/lightgbm/sklearn.py:736: UserWarning: 'verbose' argument is deprecated and will be removed in a future release of LightGBM. Pass 'log_evaluation()' callback via 'callbacks' argument instead.\n",
      "  _log_warning(\"'verbose' argument is deprecated and will be removed in a future release of LightGBM. \"\n"
     ]
    },
    {
     "name": "stdout",
     "output_type": "stream",
     "text": [
      "[100]\tvalid_0's auc: 0.999721\n",
      "[200]\tvalid_0's auc: 0.999717\n"
     ]
    },
    {
     "name": "stderr",
     "output_type": "stream",
     "text": [
      "/opt/conda/lib/python3.7/site-packages/lightgbm/sklearn.py:726: UserWarning: 'early_stopping_rounds' argument is deprecated and will be removed in a future release of LightGBM. Pass 'early_stopping()' callback via 'callbacks' argument instead.\n",
      "  _log_warning(\"'early_stopping_rounds' argument is deprecated and will be removed in a future release of LightGBM. \"\n",
      "/opt/conda/lib/python3.7/site-packages/lightgbm/sklearn.py:736: UserWarning: 'verbose' argument is deprecated and will be removed in a future release of LightGBM. Pass 'log_evaluation()' callback via 'callbacks' argument instead.\n",
      "  _log_warning(\"'verbose' argument is deprecated and will be removed in a future release of LightGBM. \"\n"
     ]
    },
    {
     "name": "stdout",
     "output_type": "stream",
     "text": [
      "[100]\tvalid_0's auc: 0.999744\n"
     ]
    },
    {
     "name": "stderr",
     "output_type": "stream",
     "text": [
      "/opt/conda/lib/python3.7/site-packages/lightgbm/sklearn.py:726: UserWarning: 'early_stopping_rounds' argument is deprecated and will be removed in a future release of LightGBM. Pass 'early_stopping()' callback via 'callbacks' argument instead.\n",
      "  _log_warning(\"'early_stopping_rounds' argument is deprecated and will be removed in a future release of LightGBM. \"\n",
      "/opt/conda/lib/python3.7/site-packages/lightgbm/sklearn.py:736: UserWarning: 'verbose' argument is deprecated and will be removed in a future release of LightGBM. Pass 'log_evaluation()' callback via 'callbacks' argument instead.\n",
      "  _log_warning(\"'verbose' argument is deprecated and will be removed in a future release of LightGBM. \"\n"
     ]
    },
    {
     "name": "stdout",
     "output_type": "stream",
     "text": [
      "[100]\tvalid_0's auc: 0.999777\n"
     ]
    },
    {
     "name": "stderr",
     "output_type": "stream",
     "text": [
      "/opt/conda/lib/python3.7/site-packages/lightgbm/sklearn.py:726: UserWarning: 'early_stopping_rounds' argument is deprecated and will be removed in a future release of LightGBM. Pass 'early_stopping()' callback via 'callbacks' argument instead.\n",
      "  _log_warning(\"'early_stopping_rounds' argument is deprecated and will be removed in a future release of LightGBM. \"\n",
      "/opt/conda/lib/python3.7/site-packages/lightgbm/sklearn.py:736: UserWarning: 'verbose' argument is deprecated and will be removed in a future release of LightGBM. Pass 'log_evaluation()' callback via 'callbacks' argument instead.\n",
      "  _log_warning(\"'verbose' argument is deprecated and will be removed in a future release of LightGBM. \"\n"
     ]
    },
    {
     "name": "stdout",
     "output_type": "stream",
     "text": [
      "[100]\tvalid_0's auc: 0.999743\n",
      "[200]\tvalid_0's auc: 0.999742\n"
     ]
    }
   ],
   "source": [
    "n_splits = 5\n",
    "K_fold = model_selection.KFold(n_splits=n_splits,shuffle =True, random_state=97)\n",
    "test_preds_array = np.zeros(len(y_test))\n",
    "valid_preds_array = np.zeros(len(y))\n",
    "scores_valid = []\n",
    "scores_train = []\n",
    "\n",
    "for fold, (train_idx, valid_idx) in enumerate(K_fold.split(valids)):\n",
    "    X_train , y_train = valids[train_idx, :], y[train_idx]\n",
    "    X_valid, y_valid = valids[valid_idx, :], y[valid_idx]\n",
    "\n",
    "\n",
    "    clf = LGBMClassifier(num_leaves=25,\n",
    "                        objective=\"binary\",\n",
    "                        metric='auc',\n",
    "                        subsample=0.7,\n",
    "                        learning_rate=0.03,\n",
    "                        n_estimators=10000,\n",
    "                        n_jobs=-1,\n",
    "                        min_child_weight=188.1467186720194)\n",
    "    clf.fit(X_train,y_train,\n",
    "            eval_set=[(X_valid,y_valid)],\n",
    "            verbose = 100,\n",
    "            early_stopping_rounds=100)\n",
    "\n",
    "    valid_preds = clf.predict_proba(X_valid)[:, -1]\n",
    "    train_preds = clf.predict_proba(X_train)[:, -1]\n",
    "    test_preds = clf.predict_proba(tests)[:, -1]\n",
    "    test_preds_array += test_preds / n_splits\n",
    "    valid_preds_array[valid_idx] = valid_preds\n",
    "    \n",
    "    score_valid = metrics.roc_auc_score(y_valid, valid_preds)\n",
    "    score_train = metrics.roc_auc_score(y_train, train_preds)\n",
    "    \n",
    "    scores_valid.append(score_valid)\n",
    "    scores_train.append(score_train)"
   ]
  },
  {
   "cell_type": "code",
   "execution_count": 14,
   "id": "21599022",
   "metadata": {
    "execution": {
     "iopub.execute_input": "2022-10-19T15:35:48.117348Z",
     "iopub.status.busy": "2022-10-19T15:35:48.116730Z",
     "iopub.status.idle": "2022-10-19T15:35:48.158385Z",
     "shell.execute_reply": "2022-10-19T15:35:48.157371Z"
    },
    "papermill": {
     "duration": 0.051251,
     "end_time": "2022-10-19T15:35:48.161242",
     "exception": false,
     "start_time": "2022-10-19T15:35:48.109991",
     "status": "completed"
    },
    "tags": []
   },
   "outputs": [],
   "source": [
    "submit(tests.mean(axis=1))\n"
   ]
  }
 ],
 "metadata": {
  "kernelspec": {
   "display_name": "Python 3",
   "language": "python",
   "name": "python3"
  },
  "language_info": {
   "codemirror_mode": {
    "name": "ipython",
    "version": 3
   },
   "file_extension": ".py",
   "mimetype": "text/x-python",
   "name": "python",
   "nbconvert_exporter": "python",
   "pygments_lexer": "ipython3",
   "version": "3.7.12"
  },
  "papermill": {
   "default_parameters": {},
   "duration": 17.576962,
   "end_time": "2022-10-19T15:35:48.989971",
   "environment_variables": {},
   "exception": null,
   "input_path": "__notebook__.ipynb",
   "output_path": "__notebook__.ipynb",
   "parameters": {},
   "start_time": "2022-10-19T15:35:31.413009",
   "version": "2.3.4"
  }
 },
 "nbformat": 4,
 "nbformat_minor": 5
}
