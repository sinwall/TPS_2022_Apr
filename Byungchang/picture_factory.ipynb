{
 "cells": [
  {
   "cell_type": "code",
   "execution_count": 1,
   "id": "11fcfaee",
   "metadata": {},
   "outputs": [],
   "source": [
    "input_path = '../input/tabular-playground-series-apr-2022/'\n",
    "output_path = './'\n",
    "\n",
    "import pandas as pd\n",
    "import numpy as np\n",
    "\n",
    "def load_data(train_or_test='train'):\n",
    "    file_name = f'{input_path}/{train_or_test}.csv'\n",
    "    df = pd.read_csv(file_name)\n",
    "    sensors = df.loc[:, 'sensor_00':'sensor_12'].values.reshape((-1, 60, 13))\n",
    "    subj_nums = df[df['step'] == 0]['subject'].values\n",
    "    return sensors, subj_nums\n",
    "\n",
    "def load_label(train_or_test='train'):\n",
    "    file_name = input_path + ('train_labels.csv' if train_or_test=='train' else 'sample_submission.csv')\n",
    "    df = pd.read_csv(file_name)\n",
    "    return df['state'].values\n",
    "\n",
    "def submit(arr):\n",
    "    df = pd.read_csv(f'{input_path}/sample_submission.csv')\n",
    "    df['state'] = arr\n",
    "    df.to_csv(f'{output_path}/submission.csv', index=False)"
   ]
  },
  {
   "cell_type": "code",
   "execution_count": 2,
   "id": "6e6b1079",
   "metadata": {},
   "outputs": [],
   "source": [
    "sensors, subj_nums = load_data('train')\n",
    "y = load_label('train')\n",
    "X = sensors"
   ]
  },
  {
   "cell_type": "code",
   "execution_count": null,
   "id": "ff195526",
   "metadata": {},
   "outputs": [],
   "source": [
    "import matplotlib.pyplot as plt\n",
    "\n",
    "for idx in range(X.shape[0]):\n",
    "    label = y[idx]\n",
    "    subj = subj_nums[idx]\n",
    "    fig, axs = plt.subplots(nrows=7, ncols=2, figsize=(24, 14))\n",
    "    axs = axs.ravel()\n",
    "    for i in range(13):\n",
    "        ax = axs[i]\n",
    "        ax.plot(X[idx, :, i], color=f'C{label}')\n",
    "        ax.grid();\n",
    "        ax.set_title(f'sensor_{i:0>2}', fontsize=14)\n",
    "        ax.set_xlim(0, 60)\n",
    "    suptitle = f'seq. {idx:0>5}, subj. {subj:0>3}'\n",
    "    fig.suptitle(suptitle, fontsize=20)\n",
    "    plt.tight_layout(); \n",
    "    plt.savefig(f'../output/{suptitle}.jpg')\n",
    "#     plt.show();\n",
    "    plt.close();"
   ]
  }
 ],
 "metadata": {
  "kernelspec": {
   "display_name": "Python 3 (ipykernel)",
   "language": "python",
   "name": "python3"
  },
  "language_info": {
   "codemirror_mode": {
    "name": "ipython",
    "version": 3
   },
   "file_extension": ".py",
   "mimetype": "text/x-python",
   "name": "python",
   "nbconvert_exporter": "python",
   "pygments_lexer": "ipython3",
   "version": "3.8.6"
  }
 },
 "nbformat": 4,
 "nbformat_minor": 5
}
