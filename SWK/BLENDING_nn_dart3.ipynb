{
 "cells": [
  {
   "cell_type": "markdown",
   "id": "f37611f4",
   "metadata": {
    "papermill": {
     "duration": 0.008194,
     "end_time": "2022-10-20T01:36:12.864012",
     "exception": false,
     "start_time": "2022-10-20T01:36:12.855818",
     "status": "completed"
    },
    "tags": []
   },
   "source": [
    "#BLENDING"
   ]
  },
  {
   "cell_type": "code",
   "execution_count": 1,
   "id": "99c8fa1a",
   "metadata": {
    "execution": {
     "iopub.execute_input": "2022-10-20T01:36:12.878851Z",
     "iopub.status.busy": "2022-10-20T01:36:12.877571Z",
     "iopub.status.idle": "2022-10-20T01:36:12.891681Z",
     "shell.execute_reply": "2022-10-20T01:36:12.890563Z"
    },
    "papermill": {
     "duration": 0.025217,
     "end_time": "2022-10-20T01:36:12.894854",
     "exception": false,
     "start_time": "2022-10-20T01:36:12.869637",
     "status": "completed"
    },
    "tags": []
   },
   "outputs": [],
   "source": [
    "input_path = '../input/'\n",
    "output_path = './'"
   ]
  },
  {
   "cell_type": "code",
   "execution_count": 2,
   "id": "7669fc04",
   "metadata": {
    "execution": {
     "iopub.execute_input": "2022-10-20T01:36:12.908085Z",
     "iopub.status.busy": "2022-10-20T01:36:12.907596Z",
     "iopub.status.idle": "2022-10-20T01:36:14.010355Z",
     "shell.execute_reply": "2022-10-20T01:36:14.009196Z"
    },
    "papermill": {
     "duration": 1.112613,
     "end_time": "2022-10-20T01:36:14.013229",
     "exception": false,
     "start_time": "2022-10-20T01:36:12.900616",
     "status": "completed"
    },
    "tags": []
   },
   "outputs": [],
   "source": [
    "import pandas as pd\n",
    "import numpy as np\n",
    "from sklearn.metrics import roc_auc_score\n",
    "from sklearn import model_selection\n",
    "\n",
    "def load_raw_data(folder_name,train_or_test=\"train\"):\n",
    "    file_name = f'{input_path}/tbr_apr_2022_{folder_name}/{train_or_test}.csv'\n",
    "    df = pd.read_csv(file_name)\n",
    "    return df\n",
    "\n",
    "def load_label(train_or_test='train'):\n",
    "    file_name = input_path +\"/tabular-playground-series-apr-2022/\"+ ('train_labels.csv' if train_or_test=='train' else 'sample_submission.csv')\n",
    "    df = pd.read_csv(file_name)\n",
    "    return df['state'].values\n",
    "\n",
    "def competition_metric(y_true, y_score):\n",
    "    return roc_auc_score(y_true, y_score)\n",
    "\n",
    "def evaluate(model, X, y):\n",
    "    return competition_metric(y, model.predict_proba(X)[:, 1])\n",
    "\n",
    "\n",
    "def submit(arr):\n",
    "    df = pd.read_csv(f'{input_path}/tabular-playground-series-apr-2022/sample_submission.csv')\n",
    "    df['state'] = arr\n",
    "    df.to_csv(f'{output_path}/submission.csv', index=False)\n",
    "\n",
    "\n",
    "def to_csv(arr,train_or_test='train',name=None):\n",
    "    df = pd.DataFrame(arr)\n",
    "    if type(name)==str:\n",
    "        df.to_csv(f'{output_path}/{name}_{train_or_test}.csv', index = False )\n",
    "    else:\n",
    "        df.to_csv(f'{output_path}/{train_or_test}.csv', index = False )\n",
    "\n"
   ]
  },
  {
   "cell_type": "code",
   "execution_count": 3,
   "id": "75564cf9",
   "metadata": {
    "execution": {
     "iopub.execute_input": "2022-10-20T01:36:14.025201Z",
     "iopub.status.busy": "2022-10-20T01:36:14.024329Z",
     "iopub.status.idle": "2022-10-20T01:36:14.029602Z",
     "shell.execute_reply": "2022-10-20T01:36:14.028900Z"
    },
    "papermill": {
     "duration": 0.013348,
     "end_time": "2022-10-20T01:36:14.031622",
     "exception": false,
     "start_time": "2022-10-20T01:36:14.018274",
     "status": "completed"
    },
    "tags": []
   },
   "outputs": [],
   "source": [
    "def short_test(x,y,n):\n",
    "    return x.loc[x.sequence<n] ,y[:n]"
   ]
  },
  {
   "cell_type": "markdown",
   "id": "46f59cd8",
   "metadata": {
    "papermill": {
     "duration": 0.004459,
     "end_time": "2022-10-20T01:36:14.040922",
     "exception": false,
     "start_time": "2022-10-20T01:36:14.036463",
     "status": "completed"
    },
    "tags": []
   },
   "source": []
  },
  {
   "cell_type": "code",
   "execution_count": 4,
   "id": "18952b88",
   "metadata": {
    "execution": {
     "iopub.execute_input": "2022-10-20T01:36:14.052434Z",
     "iopub.status.busy": "2022-10-20T01:36:14.051364Z",
     "iopub.status.idle": "2022-10-20T01:36:14.408571Z",
     "shell.execute_reply": "2022-10-20T01:36:14.407389Z"
    },
    "papermill": {
     "duration": 0.365591,
     "end_time": "2022-10-20T01:36:14.411076",
     "exception": false,
     "start_time": "2022-10-20T01:36:14.045485",
     "status": "completed"
    },
    "tags": []
   },
   "outputs": [
    {
     "name": "stdout",
     "output_type": "stream",
     "text": [
      "(51936, 12)\n",
      "(25968, 12)\n"
     ]
    }
   ],
   "source": [
    "df_NN_pure = pd.read_csv(\"../input/tbr-apr-22-nn-pure/train.csv\").to_numpy()\n",
    "print(df_NN_pure.shape)\n",
    "j=len(df_NN_pure[:,0])\n",
    "j=j/2\n",
    "df_NN_pure = df_NN_pure[:int(j),:]\n",
    "print(df_NN_pure.shape)\n"
   ]
  },
  {
   "cell_type": "code",
   "execution_count": 5,
   "id": "d6aa05ff",
   "metadata": {
    "execution": {
     "iopub.execute_input": "2022-10-20T01:36:14.423954Z",
     "iopub.status.busy": "2022-10-20T01:36:14.422942Z",
     "iopub.status.idle": "2022-10-20T01:36:15.078701Z",
     "shell.execute_reply": "2022-10-20T01:36:15.077332Z"
    },
    "papermill": {
     "duration": 0.665201,
     "end_time": "2022-10-20T01:36:15.081927",
     "exception": false,
     "start_time": "2022-10-20T01:36:14.416726",
     "status": "completed"
    },
    "tags": []
   },
   "outputs": [],
   "source": [
    "L_df_F_dart_v = []\n",
    "for i in range(5):\n",
    "    L_df_F_dart_v.append(pd.read_csv(f\"../input/tbr-apr-2022-dart-non-nn/tbr_apr_2022_dart_non_nn/train_v{i}.csv\").to_numpy()/5)\n",
    "df_F_dart_v = np.zeros(L_df_F_dart_v[0].shape)\n",
    "for j in L_df_F_dart_v:\n",
    "    df_F_dart_v+=j\n",
    "\n",
    "df_test_NN_pure = pd.read_csv(\"../input/tbr-apr-22-nn-pure/test.csv\").to_numpy()\n",
    "\n",
    "L_df_test_F_dart_v = []\n",
    "for i in range(5):\n",
    "    L_df_test_F_dart_v.append(pd.read_csv(f\"../input/tbr-apr-2022-dart-non-nn/tbr_apr_2022_dart_non_nn/test_v{i}.csv\").to_numpy()/5)\n",
    "df_test_F_dart_v = np.zeros(L_df_test_F_dart_v[0].shape)\n",
    "for j in L_df_test_F_dart_v:\n",
    "    df_test_F_dart_v+=j"
   ]
  },
  {
   "cell_type": "code",
   "execution_count": 6,
   "id": "5915a3e1",
   "metadata": {
    "execution": {
     "iopub.execute_input": "2022-10-20T01:36:15.094027Z",
     "iopub.status.busy": "2022-10-20T01:36:15.093585Z",
     "iopub.status.idle": "2022-10-20T01:36:15.141931Z",
     "shell.execute_reply": "2022-10-20T01:36:15.140694Z"
    },
    "papermill": {
     "duration": 0.057525,
     "end_time": "2022-10-20T01:36:15.144724",
     "exception": false,
     "start_time": "2022-10-20T01:36:15.087199",
     "status": "completed"
    },
    "tags": []
   },
   "outputs": [],
   "source": [
    "\n",
    "y = load_label(\"train\")\n",
    "y_test = load_label('test')\n",
    "yy = np.concatenate([y,y], axis=0)"
   ]
  },
  {
   "cell_type": "code",
   "execution_count": 7,
   "id": "5fcf85bd",
   "metadata": {
    "execution": {
     "iopub.execute_input": "2022-10-20T01:36:15.156010Z",
     "iopub.status.busy": "2022-10-20T01:36:15.155571Z",
     "iopub.status.idle": "2022-10-20T01:36:15.164215Z",
     "shell.execute_reply": "2022-10-20T01:36:15.163167Z"
    },
    "papermill": {
     "duration": 0.016907,
     "end_time": "2022-10-20T01:36:15.166666",
     "exception": false,
     "start_time": "2022-10-20T01:36:15.149759",
     "status": "completed"
    },
    "tags": []
   },
   "outputs": [],
   "source": [
    "valids = np.concatenate([\n",
    "                          df_NN_pure,\n",
    "                          df_F_dart_v\n",
    "                            ], axis=1)"
   ]
  },
  {
   "cell_type": "code",
   "execution_count": 8,
   "id": "a3111a62",
   "metadata": {
    "execution": {
     "iopub.execute_input": "2022-10-20T01:36:15.178711Z",
     "iopub.status.busy": "2022-10-20T01:36:15.177513Z",
     "iopub.status.idle": "2022-10-20T01:36:15.182949Z",
     "shell.execute_reply": "2022-10-20T01:36:15.182186Z"
    },
    "papermill": {
     "duration": 0.013591,
     "end_time": "2022-10-20T01:36:15.185192",
     "exception": false,
     "start_time": "2022-10-20T01:36:15.171601",
     "status": "completed"
    },
    "tags": []
   },
   "outputs": [],
   "source": [
    "valids =valids[:,:-1]"
   ]
  },
  {
   "cell_type": "code",
   "execution_count": 9,
   "id": "427815cb",
   "metadata": {
    "execution": {
     "iopub.execute_input": "2022-10-20T01:36:15.196899Z",
     "iopub.status.busy": "2022-10-20T01:36:15.196208Z",
     "iopub.status.idle": "2022-10-20T01:36:15.202767Z",
     "shell.execute_reply": "2022-10-20T01:36:15.202010Z"
    },
    "papermill": {
     "duration": 0.014868,
     "end_time": "2022-10-20T01:36:15.204977",
     "exception": false,
     "start_time": "2022-10-20T01:36:15.190109",
     "status": "completed"
    },
    "tags": []
   },
   "outputs": [],
   "source": [
    "tests= np.concatenate([\n",
    "                          df_test_NN_pure,\n",
    "                          df_test_F_dart_v\n",
    "                            ], axis=1)"
   ]
  },
  {
   "cell_type": "code",
   "execution_count": 10,
   "id": "5944adce",
   "metadata": {
    "execution": {
     "iopub.execute_input": "2022-10-20T01:36:15.216551Z",
     "iopub.status.busy": "2022-10-20T01:36:15.215806Z",
     "iopub.status.idle": "2022-10-20T01:36:15.220613Z",
     "shell.execute_reply": "2022-10-20T01:36:15.219889Z"
    },
    "papermill": {
     "duration": 0.013,
     "end_time": "2022-10-20T01:36:15.222807",
     "exception": false,
     "start_time": "2022-10-20T01:36:15.209807",
     "status": "completed"
    },
    "tags": []
   },
   "outputs": [],
   "source": [
    "tests=tests[:,:-1]"
   ]
  },
  {
   "cell_type": "code",
   "execution_count": 11,
   "id": "017fbc06",
   "metadata": {
    "execution": {
     "iopub.execute_input": "2022-10-20T01:36:15.234634Z",
     "iopub.status.busy": "2022-10-20T01:36:15.233879Z",
     "iopub.status.idle": "2022-10-20T01:36:16.103290Z",
     "shell.execute_reply": "2022-10-20T01:36:16.102287Z"
    },
    "papermill": {
     "duration": 0.878322,
     "end_time": "2022-10-20T01:36:16.106031",
     "exception": false,
     "start_time": "2022-10-20T01:36:15.227709",
     "status": "completed"
    },
    "tags": []
   },
   "outputs": [
    {
     "data": {
      "text/html": [
       "<style type='text/css'>\n",
       ".datatable table.frame { margin-bottom: 0; }\n",
       ".datatable table.frame thead { border-bottom: none; }\n",
       ".datatable table.frame tr.coltypes td {  color: #FFFFFF;  line-height: 6px;  padding: 0 0.5em;}\n",
       ".datatable .bool    { background: #DDDD99; }\n",
       ".datatable .object  { background: #565656; }\n",
       ".datatable .int     { background: #5D9E5D; }\n",
       ".datatable .float   { background: #4040CC; }\n",
       ".datatable .str     { background: #CC4040; }\n",
       ".datatable .time    { background: #40CC40; }\n",
       ".datatable .row_index {  background: var(--jp-border-color3);  border-right: 1px solid var(--jp-border-color0);  color: var(--jp-ui-font-color3);  font-size: 9px;}\n",
       ".datatable .frame tbody td { text-align: left; }\n",
       ".datatable .frame tr.coltypes .row_index {  background: var(--jp-border-color0);}\n",
       ".datatable th:nth-child(2) { padding-left: 12px; }\n",
       ".datatable .hellipsis {  color: var(--jp-cell-editor-border-color);}\n",
       ".datatable .vellipsis {  background: var(--jp-layout-color0);  color: var(--jp-cell-editor-border-color);}\n",
       ".datatable .na {  color: var(--jp-cell-editor-border-color);  font-size: 80%;}\n",
       ".datatable .sp {  opacity: 0.25;}\n",
       ".datatable .footer { font-size: 9px; }\n",
       ".datatable .frame_dimensions {  background: var(--jp-border-color3);  border-top: 1px solid var(--jp-border-color0);  color: var(--jp-ui-font-color3);  display: inline-block;  opacity: 0.6;  padding: 1px 10px 1px 5px;}\n",
       "</style>\n"
      ],
      "text/plain": [
       "<IPython.core.display.HTML object>"
      ]
     },
     "metadata": {},
     "output_type": "display_data"
    }
   ],
   "source": [
    "from lightgbm import LGBMClassifier\n"
   ]
  },
  {
   "cell_type": "code",
   "execution_count": 12,
   "id": "5f7ef426",
   "metadata": {
    "execution": {
     "iopub.execute_input": "2022-10-20T01:36:16.117555Z",
     "iopub.status.busy": "2022-10-20T01:36:16.117179Z",
     "iopub.status.idle": "2022-10-20T01:36:16.121902Z",
     "shell.execute_reply": "2022-10-20T01:36:16.120923Z"
    },
    "papermill": {
     "duration": 0.013215,
     "end_time": "2022-10-20T01:36:16.124384",
     "exception": false,
     "start_time": "2022-10-20T01:36:16.111169",
     "status": "completed"
    },
    "tags": []
   },
   "outputs": [],
   "source": [
    "import sklearn.metrics as metrics"
   ]
  },
  {
   "cell_type": "code",
   "execution_count": 13,
   "id": "bbcc96ea",
   "metadata": {
    "execution": {
     "iopub.execute_input": "2022-10-20T01:36:16.136104Z",
     "iopub.status.busy": "2022-10-20T01:36:16.135738Z",
     "iopub.status.idle": "2022-10-20T01:36:16.297971Z",
     "shell.execute_reply": "2022-10-20T01:36:16.296055Z"
    },
    "papermill": {
     "duration": 0.171686,
     "end_time": "2022-10-20T01:36:16.301137",
     "exception": false,
     "start_time": "2022-10-20T01:36:16.129451",
     "status": "completed"
    },
    "tags": []
   },
   "outputs": [
    {
     "name": "stdout",
     "output_type": "stream",
     "text": [
      "0.9861972317124829\n",
      "0.9838347564987376\n",
      "0.9835368089362274\n",
      "0.9799339473346349\n",
      "0.9836090106071917\n",
      "0.9845959289124604\n",
      "0.9783735352854169\n",
      "0.9784392831757365\n",
      "0.9814823890443846\n",
      "0.9756179548353516\n",
      "0.9777146268223537\n",
      "0.9793530922471373\n",
      "0.9933647245698443\n",
      "0.9909257174830474\n",
      "0.9893312421660414\n",
      "0.9846474227265947\n"
     ]
    }
   ],
   "source": [
    "for i in range(len(valids[0])):\n",
    "    print(metrics.roc_auc_score(y,valids[:,i]))\n"
   ]
  },
  {
   "cell_type": "code",
   "execution_count": null,
   "id": "efe517d8",
   "metadata": {
    "papermill": {
     "duration": 0.004783,
     "end_time": "2022-10-20T01:36:16.312504",
     "exception": false,
     "start_time": "2022-10-20T01:36:16.307721",
     "status": "completed"
    },
    "tags": []
   },
   "outputs": [],
   "source": []
  },
  {
   "cell_type": "code",
   "execution_count": 14,
   "id": "a331e377",
   "metadata": {
    "execution": {
     "iopub.execute_input": "2022-10-20T01:36:16.324260Z",
     "iopub.status.busy": "2022-10-20T01:36:16.323836Z",
     "iopub.status.idle": "2022-10-20T01:36:16.330775Z",
     "shell.execute_reply": "2022-10-20T01:36:16.329845Z"
    },
    "papermill": {
     "duration": 0.015287,
     "end_time": "2022-10-20T01:36:16.332845",
     "exception": false,
     "start_time": "2022-10-20T01:36:16.317558",
     "status": "completed"
    },
    "tags": []
   },
   "outputs": [
    {
     "data": {
      "text/plain": [
       "(12218,)"
      ]
     },
     "execution_count": 14,
     "metadata": {},
     "output_type": "execute_result"
    }
   ],
   "source": [
    "y_test.shape"
   ]
  },
  {
   "cell_type": "code",
   "execution_count": 15,
   "id": "ce92853e",
   "metadata": {
    "execution": {
     "iopub.execute_input": "2022-10-20T01:36:16.345862Z",
     "iopub.status.busy": "2022-10-20T01:36:16.344824Z",
     "iopub.status.idle": "2022-10-20T02:02:56.865581Z",
     "shell.execute_reply": "2022-10-20T02:02:56.864681Z"
    },
    "papermill": {
     "duration": 1600.530358,
     "end_time": "2022-10-20T02:02:56.868455",
     "exception": false,
     "start_time": "2022-10-20T01:36:16.338097",
     "status": "completed"
    },
    "tags": []
   },
   "outputs": [
    {
     "name": "stderr",
     "output_type": "stream",
     "text": [
      "/opt/conda/lib/python3.7/site-packages/lightgbm/sklearn.py:726: UserWarning: 'early_stopping_rounds' argument is deprecated and will be removed in a future release of LightGBM. Pass 'early_stopping()' callback via 'callbacks' argument instead.\n",
      "  _log_warning(\"'early_stopping_rounds' argument is deprecated and will be removed in a future release of LightGBM. \"\n",
      "/opt/conda/lib/python3.7/site-packages/lightgbm/sklearn.py:736: UserWarning: 'verbose' argument is deprecated and will be removed in a future release of LightGBM. Pass 'log_evaluation()' callback via 'callbacks' argument instead.\n",
      "  _log_warning(\"'verbose' argument is deprecated and will be removed in a future release of LightGBM. \"\n",
      "/opt/conda/lib/python3.7/site-packages/lightgbm/callback.py:223: UserWarning: Early stopping is not available in dart mode\n",
      "  _log_warning('Early stopping is not available in dart mode')\n"
     ]
    },
    {
     "name": "stdout",
     "output_type": "stream",
     "text": [
      "[100]\tvalid_0's auc: 0.995464\n",
      "[200]\tvalid_0's auc: 0.996727\n",
      "[300]\tvalid_0's auc: 0.9973\n",
      "[400]\tvalid_0's auc: 0.997616\n",
      "[500]\tvalid_0's auc: 0.99778\n",
      "[600]\tvalid_0's auc: 0.997949\n",
      "[700]\tvalid_0's auc: 0.998088\n",
      "[800]\tvalid_0's auc: 0.998184\n",
      "[900]\tvalid_0's auc: 0.998217\n",
      "[1000]\tvalid_0's auc: 0.998262\n",
      "[1100]\tvalid_0's auc: 0.998293\n",
      "[1200]\tvalid_0's auc: 0.998289\n",
      "[1300]\tvalid_0's auc: 0.998308\n",
      "[1400]\tvalid_0's auc: 0.998305\n",
      "[1500]\tvalid_0's auc: 0.998302\n",
      "[1600]\tvalid_0's auc: 0.998301\n",
      "[1700]\tvalid_0's auc: 0.998264\n",
      "[1800]\tvalid_0's auc: 0.998244\n",
      "[1900]\tvalid_0's auc: 0.998238\n",
      "[2000]\tvalid_0's auc: 0.998228\n",
      "[2100]\tvalid_0's auc: 0.998202\n",
      "[2200]\tvalid_0's auc: 0.998171\n",
      "[2300]\tvalid_0's auc: 0.998171\n",
      "[2400]\tvalid_0's auc: 0.998142\n",
      "[2500]\tvalid_0's auc: 0.998142\n",
      "[2600]\tvalid_0's auc: 0.99811\n",
      "[2700]\tvalid_0's auc: 0.998082\n",
      "[2800]\tvalid_0's auc: 0.998064\n",
      "[2900]\tvalid_0's auc: 0.998058\n",
      "[3000]\tvalid_0's auc: 0.998053\n",
      "[3100]\tvalid_0's auc: 0.998056\n",
      "[3200]\tvalid_0's auc: 0.99804\n",
      "[3300]\tvalid_0's auc: 0.998023\n",
      "[3400]\tvalid_0's auc: 0.997992\n",
      "[3500]\tvalid_0's auc: 0.997978\n",
      "[3600]\tvalid_0's auc: 0.997967\n",
      "[3700]\tvalid_0's auc: 0.997952\n",
      "[3800]\tvalid_0's auc: 0.997945\n",
      "[3900]\tvalid_0's auc: 0.99793\n",
      "[4000]\tvalid_0's auc: 0.997923\n",
      "[4100]\tvalid_0's auc: 0.997911\n",
      "[4200]\tvalid_0's auc: 0.99791\n",
      "[4300]\tvalid_0's auc: 0.997908\n",
      "[4400]\tvalid_0's auc: 0.997895\n",
      "[4500]\tvalid_0's auc: 0.997898\n",
      "[4600]\tvalid_0's auc: 0.997897\n",
      "[4700]\tvalid_0's auc: 0.997909\n",
      "[4800]\tvalid_0's auc: 0.997906\n",
      "[4900]\tvalid_0's auc: 0.99789\n",
      "[5000]\tvalid_0's auc: 0.997893\n",
      "[5100]\tvalid_0's auc: 0.997896\n",
      "[5200]\tvalid_0's auc: 0.997895\n",
      "[5300]\tvalid_0's auc: 0.997883\n",
      "[5400]\tvalid_0's auc: 0.997894\n",
      "[5500]\tvalid_0's auc: 0.997902\n",
      "[5600]\tvalid_0's auc: 0.997888\n",
      "[5700]\tvalid_0's auc: 0.99788\n",
      "[5800]\tvalid_0's auc: 0.997873\n",
      "[5900]\tvalid_0's auc: 0.99786\n",
      "[6000]\tvalid_0's auc: 0.997865\n",
      "[6100]\tvalid_0's auc: 0.997852\n",
      "[6200]\tvalid_0's auc: 0.997841\n",
      "[6300]\tvalid_0's auc: 0.997841\n",
      "[6400]\tvalid_0's auc: 0.997808\n",
      "[6500]\tvalid_0's auc: 0.997798\n",
      "[6600]\tvalid_0's auc: 0.997779\n",
      "[6700]\tvalid_0's auc: 0.997772\n",
      "[6800]\tvalid_0's auc: 0.997739\n",
      "[6900]\tvalid_0's auc: 0.997725\n",
      "[7000]\tvalid_0's auc: 0.997703\n",
      "[7100]\tvalid_0's auc: 0.997693\n",
      "[7200]\tvalid_0's auc: 0.997675\n",
      "[7300]\tvalid_0's auc: 0.997643\n",
      "[7400]\tvalid_0's auc: 0.997631\n",
      "[7500]\tvalid_0's auc: 0.997584\n",
      "[7600]\tvalid_0's auc: 0.997546\n",
      "[7700]\tvalid_0's auc: 0.997523\n",
      "[7800]\tvalid_0's auc: 0.997508\n",
      "[7900]\tvalid_0's auc: 0.997488\n",
      "[8000]\tvalid_0's auc: 0.997473\n",
      "[8100]\tvalid_0's auc: 0.997479\n",
      "[8200]\tvalid_0's auc: 0.997459\n",
      "[8300]\tvalid_0's auc: 0.997443\n",
      "[8400]\tvalid_0's auc: 0.997439\n",
      "[8500]\tvalid_0's auc: 0.997428\n",
      "[8600]\tvalid_0's auc: 0.997419\n",
      "[8700]\tvalid_0's auc: 0.99741\n",
      "[8800]\tvalid_0's auc: 0.997378\n",
      "[8900]\tvalid_0's auc: 0.997336\n",
      "[9000]\tvalid_0's auc: 0.99731\n",
      "[9100]\tvalid_0's auc: 0.997279\n",
      "[9200]\tvalid_0's auc: 0.997276\n",
      "[9300]\tvalid_0's auc: 0.997263\n",
      "[9400]\tvalid_0's auc: 0.997247\n",
      "[9500]\tvalid_0's auc: 0.997238\n",
      "[9600]\tvalid_0's auc: 0.997225\n",
      "[9700]\tvalid_0's auc: 0.9972\n",
      "[9800]\tvalid_0's auc: 0.997185\n",
      "[9900]\tvalid_0's auc: 0.997157\n",
      "[10000]\tvalid_0's auc: 0.997131\n"
     ]
    },
    {
     "name": "stderr",
     "output_type": "stream",
     "text": [
      "/opt/conda/lib/python3.7/site-packages/lightgbm/sklearn.py:726: UserWarning: 'early_stopping_rounds' argument is deprecated and will be removed in a future release of LightGBM. Pass 'early_stopping()' callback via 'callbacks' argument instead.\n",
      "  _log_warning(\"'early_stopping_rounds' argument is deprecated and will be removed in a future release of LightGBM. \"\n",
      "/opt/conda/lib/python3.7/site-packages/lightgbm/sklearn.py:736: UserWarning: 'verbose' argument is deprecated and will be removed in a future release of LightGBM. Pass 'log_evaluation()' callback via 'callbacks' argument instead.\n",
      "  _log_warning(\"'verbose' argument is deprecated and will be removed in a future release of LightGBM. \"\n",
      "/opt/conda/lib/python3.7/site-packages/lightgbm/callback.py:223: UserWarning: Early stopping is not available in dart mode\n",
      "  _log_warning('Early stopping is not available in dart mode')\n"
     ]
    },
    {
     "name": "stdout",
     "output_type": "stream",
     "text": [
      "[100]\tvalid_0's auc: 0.996191\n",
      "[200]\tvalid_0's auc: 0.996419\n",
      "[300]\tvalid_0's auc: 0.99754\n",
      "[400]\tvalid_0's auc: 0.997795\n",
      "[500]\tvalid_0's auc: 0.998144\n",
      "[600]\tvalid_0's auc: 0.998209\n",
      "[700]\tvalid_0's auc: 0.99822\n",
      "[800]\tvalid_0's auc: 0.998281\n",
      "[900]\tvalid_0's auc: 0.998285\n",
      "[1000]\tvalid_0's auc: 0.998263\n",
      "[1100]\tvalid_0's auc: 0.998265\n",
      "[1200]\tvalid_0's auc: 0.998279\n",
      "[1300]\tvalid_0's auc: 0.99829\n",
      "[1400]\tvalid_0's auc: 0.99829\n",
      "[1500]\tvalid_0's auc: 0.998301\n",
      "[1600]\tvalid_0's auc: 0.998305\n",
      "[1700]\tvalid_0's auc: 0.998305\n",
      "[1800]\tvalid_0's auc: 0.998306\n",
      "[1900]\tvalid_0's auc: 0.998303\n",
      "[2000]\tvalid_0's auc: 0.998305\n",
      "[2100]\tvalid_0's auc: 0.998325\n",
      "[2200]\tvalid_0's auc: 0.998349\n",
      "[2300]\tvalid_0's auc: 0.998347\n",
      "[2400]\tvalid_0's auc: 0.998339\n",
      "[2500]\tvalid_0's auc: 0.998327\n",
      "[2600]\tvalid_0's auc: 0.99833\n",
      "[2700]\tvalid_0's auc: 0.998345\n",
      "[2800]\tvalid_0's auc: 0.998353\n",
      "[2900]\tvalid_0's auc: 0.998345\n",
      "[3000]\tvalid_0's auc: 0.998353\n",
      "[3100]\tvalid_0's auc: 0.998349\n",
      "[3200]\tvalid_0's auc: 0.998341\n",
      "[3300]\tvalid_0's auc: 0.998321\n",
      "[3400]\tvalid_0's auc: 0.998319\n",
      "[3500]\tvalid_0's auc: 0.998311\n",
      "[3600]\tvalid_0's auc: 0.99831\n",
      "[3700]\tvalid_0's auc: 0.998305\n",
      "[3800]\tvalid_0's auc: 0.998298\n",
      "[3900]\tvalid_0's auc: 0.998291\n",
      "[4000]\tvalid_0's auc: 0.998282\n",
      "[4100]\tvalid_0's auc: 0.998275\n",
      "[4200]\tvalid_0's auc: 0.998288\n",
      "[4300]\tvalid_0's auc: 0.998285\n",
      "[4400]\tvalid_0's auc: 0.998286\n",
      "[4500]\tvalid_0's auc: 0.998281\n",
      "[4600]\tvalid_0's auc: 0.998279\n",
      "[4700]\tvalid_0's auc: 0.998277\n",
      "[4800]\tvalid_0's auc: 0.998277\n",
      "[4900]\tvalid_0's auc: 0.998279\n",
      "[5000]\tvalid_0's auc: 0.99827\n",
      "[5100]\tvalid_0's auc: 0.998276\n",
      "[5200]\tvalid_0's auc: 0.998271\n",
      "[5300]\tvalid_0's auc: 0.998265\n",
      "[5400]\tvalid_0's auc: 0.998267\n",
      "[5500]\tvalid_0's auc: 0.998275\n",
      "[5600]\tvalid_0's auc: 0.998277\n",
      "[5700]\tvalid_0's auc: 0.998267\n",
      "[5800]\tvalid_0's auc: 0.998257\n",
      "[5900]\tvalid_0's auc: 0.998257\n",
      "[6000]\tvalid_0's auc: 0.998247\n",
      "[6100]\tvalid_0's auc: 0.998237\n",
      "[6200]\tvalid_0's auc: 0.998227\n",
      "[6300]\tvalid_0's auc: 0.998222\n",
      "[6400]\tvalid_0's auc: 0.998211\n",
      "[6500]\tvalid_0's auc: 0.998198\n",
      "[6600]\tvalid_0's auc: 0.998197\n",
      "[6700]\tvalid_0's auc: 0.998195\n",
      "[6800]\tvalid_0's auc: 0.998182\n",
      "[6900]\tvalid_0's auc: 0.99818\n",
      "[7000]\tvalid_0's auc: 0.998179\n",
      "[7100]\tvalid_0's auc: 0.998173\n",
      "[7200]\tvalid_0's auc: 0.998176\n",
      "[7300]\tvalid_0's auc: 0.998172\n",
      "[7400]\tvalid_0's auc: 0.998172\n",
      "[7500]\tvalid_0's auc: 0.998144\n",
      "[7600]\tvalid_0's auc: 0.998141\n",
      "[7700]\tvalid_0's auc: 0.998135\n",
      "[7800]\tvalid_0's auc: 0.998119\n",
      "[7900]\tvalid_0's auc: 0.998111\n",
      "[8000]\tvalid_0's auc: 0.998102\n",
      "[8100]\tvalid_0's auc: 0.998099\n",
      "[8200]\tvalid_0's auc: 0.998096\n",
      "[8300]\tvalid_0's auc: 0.998092\n",
      "[8400]\tvalid_0's auc: 0.998079\n",
      "[8500]\tvalid_0's auc: 0.998086\n",
      "[8600]\tvalid_0's auc: 0.998088\n",
      "[8700]\tvalid_0's auc: 0.99808\n",
      "[8800]\tvalid_0's auc: 0.998072\n",
      "[8900]\tvalid_0's auc: 0.998059\n",
      "[9000]\tvalid_0's auc: 0.998037\n",
      "[9100]\tvalid_0's auc: 0.99804\n",
      "[9200]\tvalid_0's auc: 0.998026\n",
      "[9300]\tvalid_0's auc: 0.998027\n",
      "[9400]\tvalid_0's auc: 0.998025\n",
      "[9500]\tvalid_0's auc: 0.998022\n",
      "[9600]\tvalid_0's auc: 0.998014\n",
      "[9700]\tvalid_0's auc: 0.998013\n",
      "[9800]\tvalid_0's auc: 0.998004\n",
      "[9900]\tvalid_0's auc: 0.998021\n",
      "[10000]\tvalid_0's auc: 0.998017\n"
     ]
    },
    {
     "name": "stderr",
     "output_type": "stream",
     "text": [
      "/opt/conda/lib/python3.7/site-packages/lightgbm/sklearn.py:726: UserWarning: 'early_stopping_rounds' argument is deprecated and will be removed in a future release of LightGBM. Pass 'early_stopping()' callback via 'callbacks' argument instead.\n",
      "  _log_warning(\"'early_stopping_rounds' argument is deprecated and will be removed in a future release of LightGBM. \"\n",
      "/opt/conda/lib/python3.7/site-packages/lightgbm/sklearn.py:736: UserWarning: 'verbose' argument is deprecated and will be removed in a future release of LightGBM. Pass 'log_evaluation()' callback via 'callbacks' argument instead.\n",
      "  _log_warning(\"'verbose' argument is deprecated and will be removed in a future release of LightGBM. \"\n",
      "/opt/conda/lib/python3.7/site-packages/lightgbm/callback.py:223: UserWarning: Early stopping is not available in dart mode\n",
      "  _log_warning('Early stopping is not available in dart mode')\n"
     ]
    },
    {
     "name": "stdout",
     "output_type": "stream",
     "text": [
      "[100]\tvalid_0's auc: 0.996163\n",
      "[200]\tvalid_0's auc: 0.997179\n",
      "[300]\tvalid_0's auc: 0.997503\n",
      "[400]\tvalid_0's auc: 0.998477\n",
      "[500]\tvalid_0's auc: 0.998466\n",
      "[600]\tvalid_0's auc: 0.998521\n",
      "[700]\tvalid_0's auc: 0.998564\n",
      "[800]\tvalid_0's auc: 0.998594\n",
      "[900]\tvalid_0's auc: 0.998612\n",
      "[1000]\tvalid_0's auc: 0.998618\n",
      "[1100]\tvalid_0's auc: 0.998615\n",
      "[1200]\tvalid_0's auc: 0.998616\n",
      "[1300]\tvalid_0's auc: 0.998605\n",
      "[1400]\tvalid_0's auc: 0.998578\n",
      "[1500]\tvalid_0's auc: 0.998562\n",
      "[1600]\tvalid_0's auc: 0.99856\n",
      "[1700]\tvalid_0's auc: 0.99855\n",
      "[1800]\tvalid_0's auc: 0.998531\n",
      "[1900]\tvalid_0's auc: 0.998525\n",
      "[2000]\tvalid_0's auc: 0.998517\n",
      "[2100]\tvalid_0's auc: 0.998508\n",
      "[2200]\tvalid_0's auc: 0.99851\n",
      "[2300]\tvalid_0's auc: 0.998489\n",
      "[2400]\tvalid_0's auc: 0.998472\n",
      "[2500]\tvalid_0's auc: 0.998472\n",
      "[2600]\tvalid_0's auc: 0.998482\n",
      "[2700]\tvalid_0's auc: 0.99848\n",
      "[2800]\tvalid_0's auc: 0.998476\n",
      "[2900]\tvalid_0's auc: 0.998459\n",
      "[3000]\tvalid_0's auc: 0.998442\n",
      "[3100]\tvalid_0's auc: 0.998426\n",
      "[3200]\tvalid_0's auc: 0.998416\n",
      "[3300]\tvalid_0's auc: 0.998412\n",
      "[3400]\tvalid_0's auc: 0.998397\n",
      "[3500]\tvalid_0's auc: 0.998389\n",
      "[3600]\tvalid_0's auc: 0.998381\n",
      "[3700]\tvalid_0's auc: 0.998358\n",
      "[3800]\tvalid_0's auc: 0.998346\n",
      "[3900]\tvalid_0's auc: 0.998325\n",
      "[4000]\tvalid_0's auc: 0.998313\n",
      "[4100]\tvalid_0's auc: 0.998298\n",
      "[4200]\tvalid_0's auc: 0.998284\n",
      "[4300]\tvalid_0's auc: 0.998268\n",
      "[4400]\tvalid_0's auc: 0.998262\n",
      "[4500]\tvalid_0's auc: 0.998253\n",
      "[4600]\tvalid_0's auc: 0.998246\n",
      "[4700]\tvalid_0's auc: 0.998208\n",
      "[4800]\tvalid_0's auc: 0.998184\n",
      "[4900]\tvalid_0's auc: 0.99818\n",
      "[5000]\tvalid_0's auc: 0.998171\n",
      "[5100]\tvalid_0's auc: 0.998157\n",
      "[5200]\tvalid_0's auc: 0.998135\n",
      "[5300]\tvalid_0's auc: 0.998135\n",
      "[5400]\tvalid_0's auc: 0.998115\n",
      "[5500]\tvalid_0's auc: 0.998106\n",
      "[5600]\tvalid_0's auc: 0.9981\n",
      "[5700]\tvalid_0's auc: 0.99809\n",
      "[5800]\tvalid_0's auc: 0.998083\n",
      "[5900]\tvalid_0's auc: 0.998077\n",
      "[6000]\tvalid_0's auc: 0.998067\n",
      "[6100]\tvalid_0's auc: 0.998055\n",
      "[6200]\tvalid_0's auc: 0.998058\n",
      "[6300]\tvalid_0's auc: 0.99804\n",
      "[6400]\tvalid_0's auc: 0.998033\n",
      "[6500]\tvalid_0's auc: 0.998032\n",
      "[6600]\tvalid_0's auc: 0.998031\n",
      "[6700]\tvalid_0's auc: 0.998024\n",
      "[6800]\tvalid_0's auc: 0.998018\n",
      "[6900]\tvalid_0's auc: 0.998012\n",
      "[7000]\tvalid_0's auc: 0.997995\n",
      "[7100]\tvalid_0's auc: 0.997987\n",
      "[7200]\tvalid_0's auc: 0.997974\n",
      "[7300]\tvalid_0's auc: 0.997944\n",
      "[7400]\tvalid_0's auc: 0.997925\n",
      "[7500]\tvalid_0's auc: 0.997909\n",
      "[7600]\tvalid_0's auc: 0.997894\n",
      "[7700]\tvalid_0's auc: 0.997885\n",
      "[7800]\tvalid_0's auc: 0.997861\n",
      "[7900]\tvalid_0's auc: 0.997826\n",
      "[8000]\tvalid_0's auc: 0.997821\n",
      "[8100]\tvalid_0's auc: 0.99779\n",
      "[8200]\tvalid_0's auc: 0.997763\n",
      "[8300]\tvalid_0's auc: 0.997749\n",
      "[8400]\tvalid_0's auc: 0.997718\n",
      "[8500]\tvalid_0's auc: 0.997703\n",
      "[8600]\tvalid_0's auc: 0.997676\n",
      "[8700]\tvalid_0's auc: 0.997668\n",
      "[8800]\tvalid_0's auc: 0.997653\n",
      "[8900]\tvalid_0's auc: 0.997642\n",
      "[9000]\tvalid_0's auc: 0.997632\n",
      "[9100]\tvalid_0's auc: 0.997612\n",
      "[9200]\tvalid_0's auc: 0.997581\n",
      "[9300]\tvalid_0's auc: 0.997563\n",
      "[9400]\tvalid_0's auc: 0.997543\n",
      "[9500]\tvalid_0's auc: 0.997534\n",
      "[9600]\tvalid_0's auc: 0.997539\n",
      "[9700]\tvalid_0's auc: 0.997533\n",
      "[9800]\tvalid_0's auc: 0.997525\n",
      "[9900]\tvalid_0's auc: 0.997505\n",
      "[10000]\tvalid_0's auc: 0.997467\n"
     ]
    },
    {
     "name": "stderr",
     "output_type": "stream",
     "text": [
      "/opt/conda/lib/python3.7/site-packages/lightgbm/sklearn.py:726: UserWarning: 'early_stopping_rounds' argument is deprecated and will be removed in a future release of LightGBM. Pass 'early_stopping()' callback via 'callbacks' argument instead.\n",
      "  _log_warning(\"'early_stopping_rounds' argument is deprecated and will be removed in a future release of LightGBM. \"\n",
      "/opt/conda/lib/python3.7/site-packages/lightgbm/sklearn.py:736: UserWarning: 'verbose' argument is deprecated and will be removed in a future release of LightGBM. Pass 'log_evaluation()' callback via 'callbacks' argument instead.\n",
      "  _log_warning(\"'verbose' argument is deprecated and will be removed in a future release of LightGBM. \"\n",
      "/opt/conda/lib/python3.7/site-packages/lightgbm/callback.py:223: UserWarning: Early stopping is not available in dart mode\n",
      "  _log_warning('Early stopping is not available in dart mode')\n"
     ]
    },
    {
     "name": "stdout",
     "output_type": "stream",
     "text": [
      "[100]\tvalid_0's auc: 0.997479\n",
      "[200]\tvalid_0's auc: 0.997778\n",
      "[300]\tvalid_0's auc: 0.998667\n",
      "[400]\tvalid_0's auc: 0.998875\n",
      "[500]\tvalid_0's auc: 0.998991\n",
      "[600]\tvalid_0's auc: 0.999017\n",
      "[700]\tvalid_0's auc: 0.999033\n",
      "[800]\tvalid_0's auc: 0.999025\n",
      "[900]\tvalid_0's auc: 0.999026\n",
      "[1000]\tvalid_0's auc: 0.999032\n",
      "[1100]\tvalid_0's auc: 0.999034\n",
      "[1200]\tvalid_0's auc: 0.999046\n",
      "[1300]\tvalid_0's auc: 0.999044\n",
      "[1400]\tvalid_0's auc: 0.999047\n",
      "[1500]\tvalid_0's auc: 0.999041\n",
      "[1600]\tvalid_0's auc: 0.999034\n",
      "[1700]\tvalid_0's auc: 0.999034\n",
      "[1800]\tvalid_0's auc: 0.99902\n",
      "[1900]\tvalid_0's auc: 0.999004\n",
      "[2000]\tvalid_0's auc: 0.999003\n",
      "[2100]\tvalid_0's auc: 0.998995\n",
      "[2200]\tvalid_0's auc: 0.998989\n",
      "[2300]\tvalid_0's auc: 0.998981\n",
      "[2400]\tvalid_0's auc: 0.998982\n",
      "[2500]\tvalid_0's auc: 0.998979\n",
      "[2600]\tvalid_0's auc: 0.99898\n",
      "[2700]\tvalid_0's auc: 0.998988\n",
      "[2800]\tvalid_0's auc: 0.99898\n",
      "[2900]\tvalid_0's auc: 0.998978\n",
      "[3000]\tvalid_0's auc: 0.99898\n",
      "[3100]\tvalid_0's auc: 0.998975\n",
      "[3200]\tvalid_0's auc: 0.998973\n",
      "[3300]\tvalid_0's auc: 0.998975\n",
      "[3400]\tvalid_0's auc: 0.998962\n",
      "[3500]\tvalid_0's auc: 0.998953\n",
      "[3600]\tvalid_0's auc: 0.998948\n",
      "[3700]\tvalid_0's auc: 0.998949\n",
      "[3800]\tvalid_0's auc: 0.998941\n",
      "[3900]\tvalid_0's auc: 0.998937\n",
      "[4000]\tvalid_0's auc: 0.998933\n",
      "[4100]\tvalid_0's auc: 0.998933\n",
      "[4200]\tvalid_0's auc: 0.998925\n",
      "[4300]\tvalid_0's auc: 0.998923\n",
      "[4400]\tvalid_0's auc: 0.998924\n",
      "[4500]\tvalid_0's auc: 0.998923\n",
      "[4600]\tvalid_0's auc: 0.99892\n",
      "[4700]\tvalid_0's auc: 0.998913\n",
      "[4800]\tvalid_0's auc: 0.998903\n",
      "[4900]\tvalid_0's auc: 0.998899\n",
      "[5000]\tvalid_0's auc: 0.998901\n",
      "[5100]\tvalid_0's auc: 0.998901\n",
      "[5200]\tvalid_0's auc: 0.998898\n",
      "[5300]\tvalid_0's auc: 0.998902\n",
      "[5400]\tvalid_0's auc: 0.998911\n",
      "[5500]\tvalid_0's auc: 0.998912\n",
      "[5600]\tvalid_0's auc: 0.998904\n",
      "[5700]\tvalid_0's auc: 0.998895\n",
      "[5800]\tvalid_0's auc: 0.998898\n",
      "[5900]\tvalid_0's auc: 0.9989\n",
      "[6000]\tvalid_0's auc: 0.998906\n",
      "[6100]\tvalid_0's auc: 0.998899\n",
      "[6200]\tvalid_0's auc: 0.998898\n",
      "[6300]\tvalid_0's auc: 0.998891\n",
      "[6400]\tvalid_0's auc: 0.998883\n",
      "[6500]\tvalid_0's auc: 0.998879\n",
      "[6600]\tvalid_0's auc: 0.998879\n",
      "[6700]\tvalid_0's auc: 0.998877\n",
      "[6800]\tvalid_0's auc: 0.998878\n",
      "[6900]\tvalid_0's auc: 0.998879\n",
      "[7000]\tvalid_0's auc: 0.998873\n",
      "[7100]\tvalid_0's auc: 0.998867\n",
      "[7200]\tvalid_0's auc: 0.998864\n",
      "[7300]\tvalid_0's auc: 0.998868\n",
      "[7400]\tvalid_0's auc: 0.998864\n",
      "[7500]\tvalid_0's auc: 0.998864\n",
      "[7600]\tvalid_0's auc: 0.998856\n",
      "[7700]\tvalid_0's auc: 0.998847\n",
      "[7800]\tvalid_0's auc: 0.99885\n",
      "[7900]\tvalid_0's auc: 0.998855\n",
      "[8000]\tvalid_0's auc: 0.998852\n",
      "[8100]\tvalid_0's auc: 0.99886\n",
      "[8200]\tvalid_0's auc: 0.998861\n",
      "[8300]\tvalid_0's auc: 0.998859\n",
      "[8400]\tvalid_0's auc: 0.998858\n",
      "[8500]\tvalid_0's auc: 0.998856\n",
      "[8600]\tvalid_0's auc: 0.998862\n",
      "[8700]\tvalid_0's auc: 0.998858\n",
      "[8800]\tvalid_0's auc: 0.998852\n",
      "[8900]\tvalid_0's auc: 0.998844\n",
      "[9000]\tvalid_0's auc: 0.998846\n",
      "[9100]\tvalid_0's auc: 0.998839\n",
      "[9200]\tvalid_0's auc: 0.998839\n",
      "[9300]\tvalid_0's auc: 0.998846\n",
      "[9400]\tvalid_0's auc: 0.998844\n",
      "[9500]\tvalid_0's auc: 0.998844\n",
      "[9600]\tvalid_0's auc: 0.99884\n",
      "[9700]\tvalid_0's auc: 0.998837\n",
      "[9800]\tvalid_0's auc: 0.998833\n",
      "[9900]\tvalid_0's auc: 0.998841\n",
      "[10000]\tvalid_0's auc: 0.998842\n"
     ]
    },
    {
     "name": "stderr",
     "output_type": "stream",
     "text": [
      "/opt/conda/lib/python3.7/site-packages/lightgbm/sklearn.py:726: UserWarning: 'early_stopping_rounds' argument is deprecated and will be removed in a future release of LightGBM. Pass 'early_stopping()' callback via 'callbacks' argument instead.\n",
      "  _log_warning(\"'early_stopping_rounds' argument is deprecated and will be removed in a future release of LightGBM. \"\n",
      "/opt/conda/lib/python3.7/site-packages/lightgbm/sklearn.py:736: UserWarning: 'verbose' argument is deprecated and will be removed in a future release of LightGBM. Pass 'log_evaluation()' callback via 'callbacks' argument instead.\n",
      "  _log_warning(\"'verbose' argument is deprecated and will be removed in a future release of LightGBM. \"\n",
      "/opt/conda/lib/python3.7/site-packages/lightgbm/callback.py:223: UserWarning: Early stopping is not available in dart mode\n",
      "  _log_warning('Early stopping is not available in dart mode')\n"
     ]
    },
    {
     "name": "stdout",
     "output_type": "stream",
     "text": [
      "[100]\tvalid_0's auc: 0.997865\n",
      "[200]\tvalid_0's auc: 0.998009\n",
      "[300]\tvalid_0's auc: 0.99831\n",
      "[400]\tvalid_0's auc: 0.9984\n",
      "[500]\tvalid_0's auc: 0.998585\n",
      "[600]\tvalid_0's auc: 0.99876\n",
      "[700]\tvalid_0's auc: 0.998804\n",
      "[800]\tvalid_0's auc: 0.998831\n",
      "[900]\tvalid_0's auc: 0.99885\n",
      "[1000]\tvalid_0's auc: 0.998849\n",
      "[1100]\tvalid_0's auc: 0.998841\n",
      "[1200]\tvalid_0's auc: 0.998839\n",
      "[1300]\tvalid_0's auc: 0.99884\n",
      "[1400]\tvalid_0's auc: 0.998843\n",
      "[1500]\tvalid_0's auc: 0.99885\n",
      "[1600]\tvalid_0's auc: 0.998854\n",
      "[1700]\tvalid_0's auc: 0.998853\n",
      "[1800]\tvalid_0's auc: 0.99884\n",
      "[1900]\tvalid_0's auc: 0.998839\n",
      "[2000]\tvalid_0's auc: 0.998843\n",
      "[2100]\tvalid_0's auc: 0.998853\n",
      "[2200]\tvalid_0's auc: 0.998858\n",
      "[2300]\tvalid_0's auc: 0.998852\n",
      "[2400]\tvalid_0's auc: 0.998857\n",
      "[2500]\tvalid_0's auc: 0.998866\n",
      "[2600]\tvalid_0's auc: 0.998866\n",
      "[2700]\tvalid_0's auc: 0.998853\n",
      "[2800]\tvalid_0's auc: 0.998858\n",
      "[2900]\tvalid_0's auc: 0.998853\n",
      "[3000]\tvalid_0's auc: 0.998846\n",
      "[3100]\tvalid_0's auc: 0.998845\n",
      "[3200]\tvalid_0's auc: 0.998848\n",
      "[3300]\tvalid_0's auc: 0.998852\n",
      "[3400]\tvalid_0's auc: 0.998853\n",
      "[3500]\tvalid_0's auc: 0.998853\n",
      "[3600]\tvalid_0's auc: 0.998855\n",
      "[3700]\tvalid_0's auc: 0.998847\n",
      "[3800]\tvalid_0's auc: 0.998842\n",
      "[3900]\tvalid_0's auc: 0.998838\n",
      "[4000]\tvalid_0's auc: 0.99883\n",
      "[4100]\tvalid_0's auc: 0.998822\n",
      "[4200]\tvalid_0's auc: 0.998818\n",
      "[4300]\tvalid_0's auc: 0.998816\n",
      "[4400]\tvalid_0's auc: 0.998809\n",
      "[4500]\tvalid_0's auc: 0.998807\n",
      "[4600]\tvalid_0's auc: 0.998807\n",
      "[4700]\tvalid_0's auc: 0.998806\n",
      "[4800]\tvalid_0's auc: 0.998804\n",
      "[4900]\tvalid_0's auc: 0.998793\n",
      "[5000]\tvalid_0's auc: 0.998788\n",
      "[5100]\tvalid_0's auc: 0.998786\n",
      "[5200]\tvalid_0's auc: 0.99878\n",
      "[5300]\tvalid_0's auc: 0.998784\n",
      "[5400]\tvalid_0's auc: 0.998774\n",
      "[5500]\tvalid_0's auc: 0.998769\n",
      "[5600]\tvalid_0's auc: 0.998756\n",
      "[5700]\tvalid_0's auc: 0.998741\n",
      "[5800]\tvalid_0's auc: 0.998741\n",
      "[5900]\tvalid_0's auc: 0.99874\n",
      "[6000]\tvalid_0's auc: 0.998739\n",
      "[6100]\tvalid_0's auc: 0.998745\n",
      "[6200]\tvalid_0's auc: 0.998748\n",
      "[6300]\tvalid_0's auc: 0.998744\n",
      "[6400]\tvalid_0's auc: 0.998732\n",
      "[6500]\tvalid_0's auc: 0.998732\n",
      "[6600]\tvalid_0's auc: 0.998731\n",
      "[6700]\tvalid_0's auc: 0.998716\n",
      "[6800]\tvalid_0's auc: 0.998718\n",
      "[6900]\tvalid_0's auc: 0.998713\n",
      "[7000]\tvalid_0's auc: 0.99871\n",
      "[7100]\tvalid_0's auc: 0.998697\n",
      "[7200]\tvalid_0's auc: 0.998695\n",
      "[7300]\tvalid_0's auc: 0.998688\n",
      "[7400]\tvalid_0's auc: 0.998678\n",
      "[7500]\tvalid_0's auc: 0.998666\n",
      "[7600]\tvalid_0's auc: 0.998671\n",
      "[7700]\tvalid_0's auc: 0.998665\n",
      "[7800]\tvalid_0's auc: 0.998668\n",
      "[7900]\tvalid_0's auc: 0.998666\n",
      "[8000]\tvalid_0's auc: 0.998671\n",
      "[8100]\tvalid_0's auc: 0.998667\n",
      "[8200]\tvalid_0's auc: 0.998671\n",
      "[8300]\tvalid_0's auc: 0.998662\n",
      "[8400]\tvalid_0's auc: 0.99866\n",
      "[8500]\tvalid_0's auc: 0.998651\n",
      "[8600]\tvalid_0's auc: 0.998652\n",
      "[8700]\tvalid_0's auc: 0.998652\n",
      "[8800]\tvalid_0's auc: 0.998642\n",
      "[8900]\tvalid_0's auc: 0.998641\n",
      "[9000]\tvalid_0's auc: 0.998642\n",
      "[9100]\tvalid_0's auc: 0.998632\n",
      "[9200]\tvalid_0's auc: 0.998626\n",
      "[9300]\tvalid_0's auc: 0.998616\n",
      "[9400]\tvalid_0's auc: 0.998613\n",
      "[9500]\tvalid_0's auc: 0.998608\n",
      "[9600]\tvalid_0's auc: 0.998604\n",
      "[9700]\tvalid_0's auc: 0.998595\n",
      "[9800]\tvalid_0's auc: 0.998595\n",
      "[9900]\tvalid_0's auc: 0.99858\n",
      "[10000]\tvalid_0's auc: 0.998571\n"
     ]
    }
   ],
   "source": [
    "n_splits = 5\n",
    "K_fold = model_selection.KFold(n_splits=n_splits,shuffle =True, random_state=97)\n",
    "test_preds_array = np.zeros(len(y_test))\n",
    "valid_preds_array = np.zeros(len(y))\n",
    "scores_valid = []\n",
    "scores_train = []\n",
    "\n",
    "for fold, (train_idx, valid_idx) in enumerate(K_fold.split(valids)):\n",
    "    X_train , y_train = valids[train_idx, :], y[train_idx]\n",
    "    X_valid, y_valid = valids[valid_idx, :], y[valid_idx]\n",
    "\n",
    "\n",
    "    clf = LGBMClassifier(num_leaves=25,\n",
    "                        objective=\"binary\",\n",
    "                        metric='auc',\n",
    "                        subsample=0.7,\n",
    "                        learning_rate=0.03,\n",
    "                        n_estimators=10000,\n",
    "                        n_jobs=-1,\n",
    "                        boosting_type=\"dart\")\n",
    "    clf.fit(X_train,y_train,\n",
    "            eval_set=[(X_valid,y_valid)],\n",
    "            verbose = 100,\n",
    "            early_stopping_rounds=100)\n",
    "\n",
    "    valid_preds = clf.predict_proba(X_valid)[:, -1]\n",
    "    train_preds = clf.predict_proba(X_train)[:, -1]\n",
    "    test_preds = clf.predict_proba(tests)[:, -1]\n",
    "    test_preds_array += test_preds / n_splits\n",
    "    valid_preds_array[valid_idx] = valid_preds\n",
    "    \n",
    "    score_valid = metrics.roc_auc_score(y_valid, valid_preds)\n",
    "    score_train = metrics.roc_auc_score(y_train, train_preds)\n",
    "    \n",
    "    scores_valid.append(score_valid)\n",
    "    scores_train.append(score_train)"
   ]
  },
  {
   "cell_type": "code",
   "execution_count": 16,
   "id": "08bdc0bf",
   "metadata": {
    "execution": {
     "iopub.execute_input": "2022-10-20T02:02:56.940316Z",
     "iopub.status.busy": "2022-10-20T02:02:56.939732Z",
     "iopub.status.idle": "2022-10-20T02:02:56.989573Z",
     "shell.execute_reply": "2022-10-20T02:02:56.988536Z"
    },
    "papermill": {
     "duration": 0.08853,
     "end_time": "2022-10-20T02:02:56.992283",
     "exception": false,
     "start_time": "2022-10-20T02:02:56.903753",
     "status": "completed"
    },
    "tags": []
   },
   "outputs": [],
   "source": [
    "submit(test_preds_array)\n"
   ]
  }
 ],
 "metadata": {
  "kernelspec": {
   "display_name": "Python 3",
   "language": "python",
   "name": "python3"
  },
  "language_info": {
   "codemirror_mode": {
    "name": "ipython",
    "version": 3
   },
   "file_extension": ".py",
   "mimetype": "text/x-python",
   "name": "python",
   "nbconvert_exporter": "python",
   "pygments_lexer": "ipython3",
   "version": "3.7.12"
  },
  "papermill": {
   "default_parameters": {},
   "duration": 1614.006089,
   "end_time": "2022-10-20T02:02:57.852876",
   "environment_variables": {},
   "exception": null,
   "input_path": "__notebook__.ipynb",
   "output_path": "__notebook__.ipynb",
   "parameters": {},
   "start_time": "2022-10-20T01:36:03.846787",
   "version": "2.3.4"
  }
 },
 "nbformat": 4,
 "nbformat_minor": 5
}
