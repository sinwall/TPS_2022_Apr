{
 "cells": [
  {
   "cell_type": "markdown",
   "id": "9a784e31",
   "metadata": {
    "papermill": {
     "duration": 0.005593,
     "end_time": "2022-10-19T14:39:27.599088",
     "exception": false,
     "start_time": "2022-10-19T14:39:27.593495",
     "status": "completed"
    },
    "tags": []
   },
   "source": [
    "#BLENDING"
   ]
  },
  {
   "cell_type": "code",
   "execution_count": 1,
   "id": "ff6b54f2",
   "metadata": {
    "execution": {
     "iopub.execute_input": "2022-10-19T14:39:27.610050Z",
     "iopub.status.busy": "2022-10-19T14:39:27.609163Z",
     "iopub.status.idle": "2022-10-19T14:39:27.621883Z",
     "shell.execute_reply": "2022-10-19T14:39:27.621133Z"
    },
    "papermill": {
     "duration": 0.020686,
     "end_time": "2022-10-19T14:39:27.624095",
     "exception": false,
     "start_time": "2022-10-19T14:39:27.603409",
     "status": "completed"
    },
    "tags": []
   },
   "outputs": [],
   "source": [
    "input_path = '../input/'\n",
    "output_path = './'"
   ]
  },
  {
   "cell_type": "code",
   "execution_count": 2,
   "id": "7aac118a",
   "metadata": {
    "execution": {
     "iopub.execute_input": "2022-10-19T14:39:27.634327Z",
     "iopub.status.busy": "2022-10-19T14:39:27.633510Z",
     "iopub.status.idle": "2022-10-19T14:39:28.695567Z",
     "shell.execute_reply": "2022-10-19T14:39:28.694506Z"
    },
    "papermill": {
     "duration": 1.069848,
     "end_time": "2022-10-19T14:39:28.698172",
     "exception": false,
     "start_time": "2022-10-19T14:39:27.628324",
     "status": "completed"
    },
    "tags": []
   },
   "outputs": [],
   "source": [
    "import pandas as pd\n",
    "import numpy as np\n",
    "from sklearn.metrics import roc_auc_score\n",
    "from sklearn import model_selection\n",
    "\n",
    "def load_raw_data(folder_name,train_or_test=\"train\"):\n",
    "    file_name = f'{input_path}/{folder_name}/{train_or_test}.csv'\n",
    "    df = pd.read_csv(file_name)\n",
    "    return df\n",
    "\n",
    "def load_label(train_or_test='train'):\n",
    "    file_name = input_path +\"/tabular-playground-series-apr-2022/\"+ ('train_labels.csv' if train_or_test=='train' else 'sample_submission.csv')\n",
    "    df = pd.read_csv(file_name)\n",
    "    return df['state'].values\n",
    "\n",
    "def competition_metric(y_true, y_score):\n",
    "    return roc_auc_score(y_true, y_score)\n",
    "\n",
    "def evaluate(model, X, y):\n",
    "    return competition_metric(y, model.predict_proba(X)[:, 1])\n",
    "\n",
    "\n",
    "def submit(arr):\n",
    "    df = pd.read_csv(f'{input_path}/tabular-playground-series-apr-2022/sample_submission.csv')\n",
    "    df['state'] = arr\n",
    "    df.to_csv(f'{output_path}/submission.csv', index=False)\n",
    "\n",
    "\n",
    "def to_csv(arr,train_or_test='train',name=None):\n",
    "    df = pd.DataFrame(arr)\n",
    "    if type(name)==str:\n",
    "        df.to_csv(f'{output_path}/{name}_{train_or_test}.csv', index = False )\n",
    "    else:\n",
    "        df.to_csv(f'{output_path}/{train_or_test}.csv', index = False )\n",
    "\n"
   ]
  },
  {
   "cell_type": "code",
   "execution_count": 3,
   "id": "3f500044",
   "metadata": {
    "execution": {
     "iopub.execute_input": "2022-10-19T14:39:28.713051Z",
     "iopub.status.busy": "2022-10-19T14:39:28.711746Z",
     "iopub.status.idle": "2022-10-19T14:39:28.717806Z",
     "shell.execute_reply": "2022-10-19T14:39:28.716998Z"
    },
    "papermill": {
     "duration": 0.013952,
     "end_time": "2022-10-19T14:39:28.719983",
     "exception": false,
     "start_time": "2022-10-19T14:39:28.706031",
     "status": "completed"
    },
    "tags": []
   },
   "outputs": [],
   "source": [
    "def short_test(x,y,n):\n",
    "    return x.loc[x.sequence<n] ,y[:n]"
   ]
  },
  {
   "cell_type": "code",
   "execution_count": 4,
   "id": "95f47f09",
   "metadata": {
    "execution": {
     "iopub.execute_input": "2022-10-19T14:39:28.730588Z",
     "iopub.status.busy": "2022-10-19T14:39:28.729799Z",
     "iopub.status.idle": "2022-10-19T14:39:29.076858Z",
     "shell.execute_reply": "2022-10-19T14:39:29.075684Z"
    },
    "papermill": {
     "duration": 0.355957,
     "end_time": "2022-10-19T14:39:29.080151",
     "exception": false,
     "start_time": "2022-10-19T14:39:28.724194",
     "status": "completed"
    },
    "tags": []
   },
   "outputs": [],
   "source": [
    "df_NN_pure = load_raw_data(\"tbr-apr-22-nn-pure\").to_numpy()\n",
    "df_F_pure_wc_val_0 = load_raw_data(\"feature-wc-val-0\").to_numpy()\n",
    "df_F_double_woc = load_raw_data(\"tbr-apr-2022-feature-double-woc\").to_numpy()\n",
    "df_NN_pure_soft = pd.read_csv('../input/tbr-apr-22-nn-pure/soft_train.csv').to_numpy().reshape(-1,1)\n"
   ]
  },
  {
   "cell_type": "code",
   "execution_count": 5,
   "id": "c2ff5599",
   "metadata": {
    "execution": {
     "iopub.execute_input": "2022-10-19T14:39:29.090300Z",
     "iopub.status.busy": "2022-10-19T14:39:29.089878Z",
     "iopub.status.idle": "2022-10-19T14:39:29.237098Z",
     "shell.execute_reply": "2022-10-19T14:39:29.236172Z"
    },
    "papermill": {
     "duration": 0.155453,
     "end_time": "2022-10-19T14:39:29.239912",
     "exception": false,
     "start_time": "2022-10-19T14:39:29.084459",
     "status": "completed"
    },
    "tags": []
   },
   "outputs": [],
   "source": [
    "df_test_NN_pure = load_raw_data(\"tbr-apr-22-nn-pure\",\"test\").to_numpy()\n",
    "df_test_F_pure_wc_val_0 = load_raw_data(\"feature-wc-val-0\",\"test\").to_numpy()\n",
    "df_test_F_double_woc = load_raw_data(\"tbr-apr-2022-feature-double-woc\",\"test\").to_numpy()\n",
    "df_test_NN_pure_soft = pd.read_csv('../input/tbr-apr-22-nn-pure/soft_test.csv').to_numpy().reshape(-1,1)\n"
   ]
  },
  {
   "cell_type": "code",
   "execution_count": 6,
   "id": "a91bd0d2",
   "metadata": {
    "execution": {
     "iopub.execute_input": "2022-10-19T14:39:29.249933Z",
     "iopub.status.busy": "2022-10-19T14:39:29.249559Z",
     "iopub.status.idle": "2022-10-19T14:39:29.291503Z",
     "shell.execute_reply": "2022-10-19T14:39:29.290254Z"
    },
    "papermill": {
     "duration": 0.051779,
     "end_time": "2022-10-19T14:39:29.296032",
     "exception": false,
     "start_time": "2022-10-19T14:39:29.244253",
     "status": "completed"
    },
    "tags": []
   },
   "outputs": [],
   "source": [
    "\n",
    "y = load_label(\"train\")\n",
    "y_test = load_label('test')\n",
    "yy = np.concatenate([y,y], axis=0)"
   ]
  },
  {
   "cell_type": "code",
   "execution_count": 7,
   "id": "1fc5d4eb",
   "metadata": {
    "execution": {
     "iopub.execute_input": "2022-10-19T14:39:29.308996Z",
     "iopub.status.busy": "2022-10-19T14:39:29.308264Z",
     "iopub.status.idle": "2022-10-19T14:39:29.315058Z",
     "shell.execute_reply": "2022-10-19T14:39:29.314302Z"
    },
    "papermill": {
     "duration": 0.015924,
     "end_time": "2022-10-19T14:39:29.317342",
     "exception": false,
     "start_time": "2022-10-19T14:39:29.301418",
     "status": "completed"
    },
    "tags": []
   },
   "outputs": [],
   "source": [
    "valids = np.concatenate([\n",
    "                          df_NN_pure,\n",
    "                          df_F_double_woc[:25968],\n",
    "                            ], axis=1)"
   ]
  },
  {
   "cell_type": "code",
   "execution_count": 8,
   "id": "30615a29",
   "metadata": {
    "execution": {
     "iopub.execute_input": "2022-10-19T14:39:29.330432Z",
     "iopub.status.busy": "2022-10-19T14:39:29.330044Z",
     "iopub.status.idle": "2022-10-19T14:39:29.335654Z",
     "shell.execute_reply": "2022-10-19T14:39:29.334851Z"
    },
    "papermill": {
     "duration": 0.014853,
     "end_time": "2022-10-19T14:39:29.338154",
     "exception": false,
     "start_time": "2022-10-19T14:39:29.323301",
     "status": "completed"
    },
    "tags": []
   },
   "outputs": [],
   "source": [
    "tests= np.concatenate([\n",
    "                          df_test_NN_pure,\n",
    "                          df_test_F_double_woc,\n",
    "                            ], axis=1)"
   ]
  },
  {
   "cell_type": "code",
   "execution_count": 9,
   "id": "07f3cc1c",
   "metadata": {
    "execution": {
     "iopub.execute_input": "2022-10-19T14:39:29.351645Z",
     "iopub.status.busy": "2022-10-19T14:39:29.351285Z",
     "iopub.status.idle": "2022-10-19T14:39:30.204781Z",
     "shell.execute_reply": "2022-10-19T14:39:30.203664Z"
    },
    "papermill": {
     "duration": 0.863276,
     "end_time": "2022-10-19T14:39:30.207489",
     "exception": false,
     "start_time": "2022-10-19T14:39:29.344213",
     "status": "completed"
    },
    "tags": []
   },
   "outputs": [
    {
     "data": {
      "text/html": [
       "<style type='text/css'>\n",
       ".datatable table.frame { margin-bottom: 0; }\n",
       ".datatable table.frame thead { border-bottom: none; }\n",
       ".datatable table.frame tr.coltypes td {  color: #FFFFFF;  line-height: 6px;  padding: 0 0.5em;}\n",
       ".datatable .bool    { background: #DDDD99; }\n",
       ".datatable .object  { background: #565656; }\n",
       ".datatable .int     { background: #5D9E5D; }\n",
       ".datatable .float   { background: #4040CC; }\n",
       ".datatable .str     { background: #CC4040; }\n",
       ".datatable .time    { background: #40CC40; }\n",
       ".datatable .row_index {  background: var(--jp-border-color3);  border-right: 1px solid var(--jp-border-color0);  color: var(--jp-ui-font-color3);  font-size: 9px;}\n",
       ".datatable .frame tbody td { text-align: left; }\n",
       ".datatable .frame tr.coltypes .row_index {  background: var(--jp-border-color0);}\n",
       ".datatable th:nth-child(2) { padding-left: 12px; }\n",
       ".datatable .hellipsis {  color: var(--jp-cell-editor-border-color);}\n",
       ".datatable .vellipsis {  background: var(--jp-layout-color0);  color: var(--jp-cell-editor-border-color);}\n",
       ".datatable .na {  color: var(--jp-cell-editor-border-color);  font-size: 80%;}\n",
       ".datatable .sp {  opacity: 0.25;}\n",
       ".datatable .footer { font-size: 9px; }\n",
       ".datatable .frame_dimensions {  background: var(--jp-border-color3);  border-top: 1px solid var(--jp-border-color0);  color: var(--jp-ui-font-color3);  display: inline-block;  opacity: 0.6;  padding: 1px 10px 1px 5px;}\n",
       "</style>\n"
      ],
      "text/plain": [
       "<IPython.core.display.HTML object>"
      ]
     },
     "metadata": {},
     "output_type": "display_data"
    }
   ],
   "source": [
    "from lightgbm import LGBMClassifier\n"
   ]
  },
  {
   "cell_type": "code",
   "execution_count": 10,
   "id": "fa84f6c9",
   "metadata": {
    "execution": {
     "iopub.execute_input": "2022-10-19T14:39:30.217974Z",
     "iopub.status.busy": "2022-10-19T14:39:30.217582Z",
     "iopub.status.idle": "2022-10-19T14:39:30.222367Z",
     "shell.execute_reply": "2022-10-19T14:39:30.221365Z"
    },
    "papermill": {
     "duration": 0.012429,
     "end_time": "2022-10-19T14:39:30.224419",
     "exception": false,
     "start_time": "2022-10-19T14:39:30.211990",
     "status": "completed"
    },
    "tags": []
   },
   "outputs": [],
   "source": [
    "import sklearn.metrics as metrics"
   ]
  },
  {
   "cell_type": "code",
   "execution_count": 11,
   "id": "c015a920",
   "metadata": {
    "execution": {
     "iopub.execute_input": "2022-10-19T14:39:30.235021Z",
     "iopub.status.busy": "2022-10-19T14:39:30.234625Z",
     "iopub.status.idle": "2022-10-19T14:39:30.398036Z",
     "shell.execute_reply": "2022-10-19T14:39:30.396274Z"
    },
    "papermill": {
     "duration": 0.172044,
     "end_time": "2022-10-19T14:39:30.400972",
     "exception": false,
     "start_time": "2022-10-19T14:39:30.228928",
     "status": "completed"
    },
    "tags": []
   },
   "outputs": [
    {
     "name": "stdout",
     "output_type": "stream",
     "text": [
      "0.9777898181122935\n",
      "0.980460950723985\n",
      "0.9613977609984228\n",
      "0.9790575589205852\n",
      "0.9791202875330113\n",
      "0.9786032020859757\n",
      "0.977540991650445\n",
      "0.9669728457653909\n",
      "0.9763716947241221\n",
      "0.964018921298494\n",
      "0.9660085601807571\n",
      "0.9806624445179511\n",
      "0.9996699614877759\n",
      "0.9996699614877759\n",
      "0.9997152862468819\n",
      "0.9833434505835795\n",
      "0.9996705250072254\n"
     ]
    }
   ],
   "source": [
    "for i in range(len(valids[0])):\n",
    "    print(metrics.roc_auc_score(y,valids[:,i]))\n"
   ]
  },
  {
   "cell_type": "code",
   "execution_count": 12,
   "id": "e104329f",
   "metadata": {
    "execution": {
     "iopub.execute_input": "2022-10-19T14:39:30.411880Z",
     "iopub.status.busy": "2022-10-19T14:39:30.411520Z",
     "iopub.status.idle": "2022-10-19T14:39:30.417779Z",
     "shell.execute_reply": "2022-10-19T14:39:30.416720Z"
    },
    "papermill": {
     "duration": 0.014479,
     "end_time": "2022-10-19T14:39:30.420085",
     "exception": false,
     "start_time": "2022-10-19T14:39:30.405606",
     "status": "completed"
    },
    "tags": []
   },
   "outputs": [
    {
     "data": {
      "text/plain": [
       "(12218,)"
      ]
     },
     "execution_count": 12,
     "metadata": {},
     "output_type": "execute_result"
    }
   ],
   "source": [
    "y_test.shape"
   ]
  },
  {
   "cell_type": "code",
   "execution_count": 13,
   "id": "eee0d526",
   "metadata": {
    "execution": {
     "iopub.execute_input": "2022-10-19T14:39:30.431036Z",
     "iopub.status.busy": "2022-10-19T14:39:30.430677Z",
     "iopub.status.idle": "2022-10-19T14:39:32.897030Z",
     "shell.execute_reply": "2022-10-19T14:39:32.896121Z"
    },
    "papermill": {
     "duration": 2.474836,
     "end_time": "2022-10-19T14:39:32.899471",
     "exception": false,
     "start_time": "2022-10-19T14:39:30.424635",
     "status": "completed"
    },
    "tags": []
   },
   "outputs": [
    {
     "name": "stderr",
     "output_type": "stream",
     "text": [
      "/opt/conda/lib/python3.7/site-packages/lightgbm/sklearn.py:726: UserWarning: 'early_stopping_rounds' argument is deprecated and will be removed in a future release of LightGBM. Pass 'early_stopping()' callback via 'callbacks' argument instead.\n",
      "  _log_warning(\"'early_stopping_rounds' argument is deprecated and will be removed in a future release of LightGBM. \"\n",
      "/opt/conda/lib/python3.7/site-packages/lightgbm/sklearn.py:736: UserWarning: 'verbose' argument is deprecated and will be removed in a future release of LightGBM. Pass 'log_evaluation()' callback via 'callbacks' argument instead.\n",
      "  _log_warning(\"'verbose' argument is deprecated and will be removed in a future release of LightGBM. \"\n"
     ]
    },
    {
     "name": "stdout",
     "output_type": "stream",
     "text": [
      "[100]\tvalid_0's auc: 0.999625\n"
     ]
    },
    {
     "name": "stderr",
     "output_type": "stream",
     "text": [
      "/opt/conda/lib/python3.7/site-packages/lightgbm/sklearn.py:726: UserWarning: 'early_stopping_rounds' argument is deprecated and will be removed in a future release of LightGBM. Pass 'early_stopping()' callback via 'callbacks' argument instead.\n",
      "  _log_warning(\"'early_stopping_rounds' argument is deprecated and will be removed in a future release of LightGBM. \"\n",
      "/opt/conda/lib/python3.7/site-packages/lightgbm/sklearn.py:736: UserWarning: 'verbose' argument is deprecated and will be removed in a future release of LightGBM. Pass 'log_evaluation()' callback via 'callbacks' argument instead.\n",
      "  _log_warning(\"'verbose' argument is deprecated and will be removed in a future release of LightGBM. \"\n"
     ]
    },
    {
     "name": "stdout",
     "output_type": "stream",
     "text": [
      "[100]\tvalid_0's auc: 0.999721\n",
      "[200]\tvalid_0's auc: 0.999717\n"
     ]
    },
    {
     "name": "stderr",
     "output_type": "stream",
     "text": [
      "/opt/conda/lib/python3.7/site-packages/lightgbm/sklearn.py:726: UserWarning: 'early_stopping_rounds' argument is deprecated and will be removed in a future release of LightGBM. Pass 'early_stopping()' callback via 'callbacks' argument instead.\n",
      "  _log_warning(\"'early_stopping_rounds' argument is deprecated and will be removed in a future release of LightGBM. \"\n",
      "/opt/conda/lib/python3.7/site-packages/lightgbm/sklearn.py:736: UserWarning: 'verbose' argument is deprecated and will be removed in a future release of LightGBM. Pass 'log_evaluation()' callback via 'callbacks' argument instead.\n",
      "  _log_warning(\"'verbose' argument is deprecated and will be removed in a future release of LightGBM. \"\n"
     ]
    },
    {
     "name": "stdout",
     "output_type": "stream",
     "text": [
      "[100]\tvalid_0's auc: 0.999744\n"
     ]
    },
    {
     "name": "stderr",
     "output_type": "stream",
     "text": [
      "/opt/conda/lib/python3.7/site-packages/lightgbm/sklearn.py:726: UserWarning: 'early_stopping_rounds' argument is deprecated and will be removed in a future release of LightGBM. Pass 'early_stopping()' callback via 'callbacks' argument instead.\n",
      "  _log_warning(\"'early_stopping_rounds' argument is deprecated and will be removed in a future release of LightGBM. \"\n",
      "/opt/conda/lib/python3.7/site-packages/lightgbm/sklearn.py:736: UserWarning: 'verbose' argument is deprecated and will be removed in a future release of LightGBM. Pass 'log_evaluation()' callback via 'callbacks' argument instead.\n",
      "  _log_warning(\"'verbose' argument is deprecated and will be removed in a future release of LightGBM. \"\n"
     ]
    },
    {
     "name": "stdout",
     "output_type": "stream",
     "text": [
      "[100]\tvalid_0's auc: 0.999777\n"
     ]
    },
    {
     "name": "stderr",
     "output_type": "stream",
     "text": [
      "/opt/conda/lib/python3.7/site-packages/lightgbm/sklearn.py:726: UserWarning: 'early_stopping_rounds' argument is deprecated and will be removed in a future release of LightGBM. Pass 'early_stopping()' callback via 'callbacks' argument instead.\n",
      "  _log_warning(\"'early_stopping_rounds' argument is deprecated and will be removed in a future release of LightGBM. \"\n",
      "/opt/conda/lib/python3.7/site-packages/lightgbm/sklearn.py:736: UserWarning: 'verbose' argument is deprecated and will be removed in a future release of LightGBM. Pass 'log_evaluation()' callback via 'callbacks' argument instead.\n",
      "  _log_warning(\"'verbose' argument is deprecated and will be removed in a future release of LightGBM. \"\n"
     ]
    },
    {
     "name": "stdout",
     "output_type": "stream",
     "text": [
      "[100]\tvalid_0's auc: 0.999743\n",
      "[200]\tvalid_0's auc: 0.999742\n"
     ]
    }
   ],
   "source": [
    "n_splits = 5\n",
    "K_fold = model_selection.KFold(n_splits=n_splits,shuffle =True, random_state=97)\n",
    "test_preds_array = np.zeros(len(y_test))\n",
    "valid_preds_array = np.zeros(len(y))\n",
    "scores_valid = []\n",
    "scores_train = []\n",
    "\n",
    "for fold, (train_idx, valid_idx) in enumerate(K_fold.split(valids)):\n",
    "    X_train , y_train = valids[train_idx, :], y[train_idx]\n",
    "    X_valid, y_valid = valids[valid_idx, :], y[valid_idx]\n",
    "\n",
    "\n",
    "    clf = LGBMClassifier(num_leaves=25,\n",
    "                        objective=\"binary\",\n",
    "                        metric='auc',\n",
    "                        subsample=0.7,\n",
    "                        learning_rate=0.03,\n",
    "                        n_estimators=10000,\n",
    "                        n_jobs=-1,\n",
    "                        min_child_weight=188.1467186720194)\n",
    "    clf.fit(X_train,y_train,\n",
    "            eval_set=[(X_valid,y_valid)],\n",
    "            verbose = 100,\n",
    "            early_stopping_rounds=100)\n",
    "\n",
    "    valid_preds = clf.predict_proba(X_valid)[:, -1]\n",
    "    train_preds = clf.predict_proba(X_train)[:, -1]\n",
    "    test_preds = clf.predict_proba(tests)[:, -1]\n",
    "    test_preds_array += test_preds / n_splits\n",
    "    valid_preds_array[valid_idx] = valid_preds\n",
    "    \n",
    "    score_valid = metrics.roc_auc_score(y_valid, valid_preds)\n",
    "    score_train = metrics.roc_auc_score(y_train, train_preds)\n",
    "    \n",
    "    scores_valid.append(score_valid)\n",
    "    scores_train.append(score_train)"
   ]
  },
  {
   "cell_type": "code",
   "execution_count": 14,
   "id": "a9752b56",
   "metadata": {
    "execution": {
     "iopub.execute_input": "2022-10-19T14:39:32.912316Z",
     "iopub.status.busy": "2022-10-19T14:39:32.911422Z",
     "iopub.status.idle": "2022-10-19T14:39:32.950773Z",
     "shell.execute_reply": "2022-10-19T14:39:32.949596Z"
    },
    "papermill": {
     "duration": 0.048563,
     "end_time": "2022-10-19T14:39:32.953550",
     "exception": false,
     "start_time": "2022-10-19T14:39:32.904987",
     "status": "completed"
    },
    "tags": []
   },
   "outputs": [],
   "source": [
    "submit(test_preds_array)\n"
   ]
  }
 ],
 "metadata": {
  "kernelspec": {
   "display_name": "Python 3",
   "language": "python",
   "name": "python3"
  },
  "language_info": {
   "codemirror_mode": {
    "name": "ipython",
    "version": 3
   },
   "file_extension": ".py",
   "mimetype": "text/x-python",
   "name": "python",
   "nbconvert_exporter": "python",
   "pygments_lexer": "ipython3",
   "version": "3.7.12"
  },
  "papermill": {
   "default_parameters": {},
   "duration": 15.053399,
   "end_time": "2022-10-19T14:39:33.782604",
   "environment_variables": {},
   "exception": null,
   "input_path": "__notebook__.ipynb",
   "output_path": "__notebook__.ipynb",
   "parameters": {},
   "start_time": "2022-10-19T14:39:18.729205",
   "version": "2.3.4"
  }
 },
 "nbformat": 4,
 "nbformat_minor": 5
}
