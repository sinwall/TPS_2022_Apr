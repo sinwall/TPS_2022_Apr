{
 "cells": [
  {
   "cell_type": "markdown",
   "metadata": {
    "papermill": {
     "duration": 0.004886,
     "end_time": "2022-10-05T02:06:56.269166",
     "exception": false,
     "start_time": "2022-10-05T02:06:56.264280",
     "status": "completed"
    },
    "tags": []
   },
   "source": [
    "# Non-NN models"
   ]
  },
  {
   "cell_type": "code",
   "execution_count": 1,
   "metadata": {
    "_cell_guid": "b1076dfc-b9ad-4769-8c92-a6c4dae69d19",
    "_uuid": "8f2839f25d086af736a60e9eeb907d3b93b6e0e5",
    "execution": {
     "iopub.execute_input": "2022-10-19T13:15:39.812125Z",
     "iopub.status.busy": "2022-10-19T13:15:39.810922Z",
     "iopub.status.idle": "2022-10-19T13:15:39.955434Z",
     "shell.execute_reply": "2022-10-19T13:15:39.956294Z"
    },
    "papermill": {
     "duration": 0.01694,
     "end_time": "2022-10-05T02:06:56.296897",
     "exception": false,
     "start_time": "2022-10-05T02:06:56.279957",
     "status": "completed"
    },
    "tags": []
   },
   "outputs": [],
   "source": [
    "input_path = './input/'\n",
    "output_path = './output/pure_non_nn_results/'"
   ]
  },
  {
   "cell_type": "code",
   "execution_count": 2,
   "metadata": {
    "execution": {
     "iopub.execute_input": "2022-10-19T13:15:39.969176Z",
     "iopub.status.busy": "2022-10-19T13:15:39.968081Z",
     "iopub.status.idle": "2022-10-19T13:15:40.975534Z",
     "shell.execute_reply": "2022-10-19T13:15:40.975014Z"
    },
    "papermill": {
     "duration": 1.079456,
     "end_time": "2022-10-05T02:06:57.380107",
     "exception": false,
     "start_time": "2022-10-05T02:06:56.300651",
     "status": "completed"
    },
    "tags": []
   },
   "outputs": [],
   "source": [
    "import pandas as pd\n",
    "import numpy as np\n",
    "from sklearn.metrics import roc_auc_score\n",
    "\n",
    "def load_raw_data(train_or_test='train'):\n",
    "    file_name = f'{input_path}/{train_or_test}.csv'\n",
    "    df = pd.read_csv(file_name)\n",
    "    return df\n",
    "\n",
    "def load_label(train_or_test='train'):\n",
    "    file_name = input_path + ('train_labels.csv' if train_or_test=='train' else 'sample_submission.csv')\n",
    "    df = pd.read_csv(file_name)\n",
    "    return df['state'].values\n",
    "\n",
    "def competition_metric(y_true, y_score):\n",
    "    return roc_auc_score(y_true, y_score)\n",
    "\n",
    "def evaluate(model, X, y):\n",
    "    return competition_metric(y, model.predict_proba(X)[:, 1])\n",
    "\n",
    "def to_csv(arr,train_or_test='train',name=None):\n",
    "    df = pd.DataFrame(arr)\n",
    "    if type(name)==str:\n",
    "        df.to_csv(f'{output_path}/{name}_{train_or_test}_v0.csv', index = False )\n",
    "    else:\n",
    "        df.to_csv(f'{output_path}/{train_or_test}_v0.csv', index = False )\n",
    "\n",
    "def ans_to_csv(arr,train_or_test='train',name=None):\n",
    "    file_name = input_path + ('train_labels.csv' if train_or_test=='train' else 'sample_submission.csv')\n",
    "    df = pd.read_csv(file_name)\n",
    "    df['state'] = arr\n",
    "    if type(name)==str:\n",
    "        df.to_csv(f'{output_path}/{name}_{train_or_test}.csv', index = False )\n",
    "    else:\n",
    "        df.to_csv(f'{output_path}/{train_or_test}.csv', index = False )\n",
    "\n",
    "def submit(arr):\n",
    "    df = pd.read_csv(f'{input_path}/sample_submission.csv')\n",
    "    df['state'] = arr\n",
    "    df.to_csv(f'{output_path}/submission.csv', index=False)"
   ]
  },
  {
   "cell_type": "code",
   "execution_count": 3,
   "metadata": {
    "execution": {
     "iopub.execute_input": "2022-10-19T13:15:40.987099Z",
     "iopub.status.busy": "2022-10-19T13:15:40.985645Z",
     "iopub.status.idle": "2022-10-19T13:15:40.988709Z",
     "shell.execute_reply": "2022-10-19T13:15:40.989505Z"
    },
    "papermill": {
     "duration": 2.135341,
     "end_time": "2022-10-05T02:06:59.519371",
     "exception": false,
     "start_time": "2022-10-05T02:06:57.384030",
     "status": "completed"
    },
    "tags": []
   },
   "outputs": [],
   "source": [
    "\n",
    "\n",
    "def group_splitter(df, nfold=5, random_state=None):\n",
    "    subject_nums = df['subject'].unique()\n",
    "    rng = np.random.default_rng(random_state)\n",
    "    subject_to_setnum = rng.integers(0, nfold, subject_nums.shape[0])\n",
    "    for i in range(nfold):\n",
    "        val_subjects = subject_nums[subject_to_setnum == i]\n",
    "        mask_df_val = df['subject'].isin(val_subjects)\n",
    "        mask_y_val = mask_df_val.iloc[::60]\n",
    "        yield mask_df_val, mask_y_val"
   ]
  },
  {
   "cell_type": "code",
   "execution_count": 4,
   "metadata": {
    "execution": {
     "iopub.execute_input": "2022-10-19T13:15:40.997524Z",
     "iopub.status.busy": "2022-10-19T13:15:40.996502Z",
     "iopub.status.idle": "2022-10-19T13:15:45.274640Z",
     "shell.execute_reply": "2022-10-19T13:15:45.275986Z"
    }
   },
   "outputs": [],
   "source": [
    "from tbr_apr_mds import CorrExtractor ,ElementaryExtractor, TsfreshExtractor,MBOP"
   ]
  },
  {
   "cell_type": "code",
   "execution_count": 5,
   "metadata": {
    "execution": {
     "iopub.execute_input": "2022-10-19T13:15:45.286915Z",
     "iopub.status.busy": "2022-10-19T13:15:45.285700Z",
     "iopub.status.idle": "2022-10-19T13:15:45.287991Z",
     "shell.execute_reply": "2022-10-19T13:15:45.288600Z"
    }
   },
   "outputs": [],
   "source": [
    "def short_test(x,y,n):\n",
    "    return df.loc[df.sequence<n] ,y[:n]"
   ]
  },
  {
   "cell_type": "code",
   "execution_count": 6,
   "metadata": {
    "execution": {
     "iopub.execute_input": "2022-10-19T13:15:45.297875Z",
     "iopub.status.busy": "2022-10-19T13:15:45.296979Z",
     "iopub.status.idle": "2022-10-19T13:15:57.277853Z",
     "shell.execute_reply": "2022-10-19T13:15:57.278799Z"
    },
    "papermill": {
     "duration": 9.282681,
     "end_time": "2022-10-05T02:07:22.396695",
     "exception": false,
     "start_time": "2022-10-05T02:07:13.114014",
     "status": "completed"
    },
    "tags": []
   },
   "outputs": [],
   "source": [
    "df = load_raw_data('train')\n",
    "y = load_label('train')\n",
    "df_test = load_raw_data(\"test\")\n",
    "y_test = load_label(\"test\")"
   ]
  },
  {
   "cell_type": "code",
   "execution_count": 7,
   "metadata": {
    "execution": {
     "iopub.execute_input": "2022-10-19T13:15:57.299004Z",
     "iopub.status.busy": "2022-10-19T13:15:57.298285Z",
     "iopub.status.idle": "2022-10-19T18:18:32.356955Z",
     "shell.execute_reply": "2022-10-19T18:18:32.355199Z"
    },
    "papermill": {
     "duration": null,
     "end_time": null,
     "exception": false,
     "start_time": "2022-10-05T02:07:22.401499",
     "status": "running"
    },
    "tags": []
   },
   "outputs": [
    {
     "name": "stderr",
     "output_type": "stream",
     "text": [
      "/home/klosterle97/siwon_kaggle/tbr_apr_mds.py:540: RuntimeWarning: invalid value encountered in true_divide\n",
      "  features[f'sm_{i:0>2}'] = np.nan_to_num(features[f'std_{i:0>2}'] / np.abs(np.mean(channel, axis=1))).clip(-1e30, 1e30)\n",
      "/home/klosterle97/siwon_kaggle/tbr_apr_mds.py:540: RuntimeWarning: divide by zero encountered in true_divide\n",
      "  features[f'sm_{i:0>2}'] = np.nan_to_num(features[f'std_{i:0>2}'] / np.abs(np.mean(channel, axis=1))).clip(-1e30, 1e30)\n",
      "/home/klosterle97/siwon_kaggle/tbr_apr_mds.py:555: RuntimeWarning: invalid value encountered in true_divide\n",
      "  features[f'down_mean_02'] = np.nan_to_num(features[f'down_min_02'] / features[f'down_count_02'], neginf=-40)\n",
      "/home/klosterle97/siwon_kaggle/tbr_apr_mds.py:540: RuntimeWarning: invalid value encountered in true_divide\n",
      "  features[f'sm_{i:0>2}'] = np.nan_to_num(features[f'std_{i:0>2}'] / np.abs(np.mean(channel, axis=1))).clip(-1e30, 1e30)\n",
      "/home/klosterle97/siwon_kaggle/tbr_apr_mds.py:540: RuntimeWarning: divide by zero encountered in true_divide\n",
      "  features[f'sm_{i:0>2}'] = np.nan_to_num(features[f'std_{i:0>2}'] / np.abs(np.mean(channel, axis=1))).clip(-1e30, 1e30)\n",
      "/home/klosterle97/siwon_kaggle/tbr_apr_mds.py:555: RuntimeWarning: invalid value encountered in true_divide\n",
      "  features[f'down_mean_02'] = np.nan_to_num(features[f'down_min_02'] / features[f'down_count_02'], neginf=-40)\n"
     ]
    },
    {
     "name": "stdout",
     "output_type": "stream",
     "text": [
      "(21201, 738) (4767, 738)\n"
     ]
    },
    {
     "name": "stderr",
     "output_type": "stream",
     "text": [
      "/home/klosterle97/.local/lib/python3.8/site-packages/lightgbm/sklearn.py:736: UserWarning: 'verbose' argument is deprecated and will be removed in a future release of LightGBM. Pass 'log_evaluation()' callback via 'callbacks' argument instead.\n",
      "  _log_warning(\"'verbose' argument is deprecated and will be removed in a future release of LightGBM. \"\n"
     ]
    },
    {
     "name": "stdout",
     "output_type": "stream",
     "text": [
      "[100]\tvalid_0's auc: 0.959125\n",
      "[200]\tvalid_0's auc: 0.963063\n"
     ]
    },
    {
     "name": "stderr",
     "output_type": "stream",
     "text": [
      "/home/klosterle97/siwon_kaggle/tbr_apr_mds.py:540: RuntimeWarning: invalid value encountered in true_divide\n",
      "  features[f'sm_{i:0>2}'] = np.nan_to_num(features[f'std_{i:0>2}'] / np.abs(np.mean(channel, axis=1))).clip(-1e30, 1e30)\n",
      "/home/klosterle97/siwon_kaggle/tbr_apr_mds.py:540: RuntimeWarning: divide by zero encountered in true_divide\n",
      "  features[f'sm_{i:0>2}'] = np.nan_to_num(features[f'std_{i:0>2}'] / np.abs(np.mean(channel, axis=1))).clip(-1e30, 1e30)\n",
      "/home/klosterle97/siwon_kaggle/tbr_apr_mds.py:555: RuntimeWarning: invalid value encountered in true_divide\n",
      "  features[f'down_mean_02'] = np.nan_to_num(features[f'down_min_02'] / features[f'down_count_02'], neginf=-40)\n",
      "/home/klosterle97/siwon_kaggle/tbr_apr_mds.py:540: RuntimeWarning: invalid value encountered in true_divide\n",
      "  features[f'sm_{i:0>2}'] = np.nan_to_num(features[f'std_{i:0>2}'] / np.abs(np.mean(channel, axis=1))).clip(-1e30, 1e30)\n",
      "/home/klosterle97/siwon_kaggle/tbr_apr_mds.py:540: RuntimeWarning: divide by zero encountered in true_divide\n",
      "  features[f'sm_{i:0>2}'] = np.nan_to_num(features[f'std_{i:0>2}'] / np.abs(np.mean(channel, axis=1))).clip(-1e30, 1e30)\n",
      "/home/klosterle97/siwon_kaggle/tbr_apr_mds.py:555: RuntimeWarning: invalid value encountered in true_divide\n",
      "  features[f'down_mean_02'] = np.nan_to_num(features[f'down_min_02'] / features[f'down_count_02'], neginf=-40)\n"
     ]
    },
    {
     "name": "stdout",
     "output_type": "stream",
     "text": [
      "LGBMClassifier(boosting_type='dart', max_depth=10, metric='auc',\n",
      "               n_estimators=200, random_state=55)\n",
      "0.99522983892498\n",
      "0.9630627620778018\n",
      "              precision    recall  f1-score   support\n",
      "\n",
      "           0     0.9247    0.8785    0.9010      2378\n",
      "           1     0.8848    0.9288    0.9063      2389\n",
      "\n",
      "    accuracy                         0.9037      4767\n",
      "   macro avg     0.9048    0.9037    0.9036      4767\n",
      "weighted avg     0.9047    0.9037    0.9036      4767\n",
      "\n"
     ]
    },
    {
     "name": "stderr",
     "output_type": "stream",
     "text": [
      "/home/klosterle97/.local/lib/python3.8/site-packages/lightgbm/sklearn.py:736: UserWarning: 'verbose' argument is deprecated and will be removed in a future release of LightGBM. Pass 'log_evaluation()' callback via 'callbacks' argument instead.\n",
      "  _log_warning(\"'verbose' argument is deprecated and will be removed in a future release of LightGBM. \"\n"
     ]
    },
    {
     "name": "stdout",
     "output_type": "stream",
     "text": [
      "[100]\tvalid_0's auc: 0.955988\n",
      "[200]\tvalid_0's auc: 0.961855\n"
     ]
    },
    {
     "name": "stderr",
     "output_type": "stream",
     "text": [
      "/home/klosterle97/siwon_kaggle/tbr_apr_mds.py:540: RuntimeWarning: invalid value encountered in true_divide\n",
      "  features[f'sm_{i:0>2}'] = np.nan_to_num(features[f'std_{i:0>2}'] / np.abs(np.mean(channel, axis=1))).clip(-1e30, 1e30)\n",
      "/home/klosterle97/siwon_kaggle/tbr_apr_mds.py:540: RuntimeWarning: divide by zero encountered in true_divide\n",
      "  features[f'sm_{i:0>2}'] = np.nan_to_num(features[f'std_{i:0>2}'] / np.abs(np.mean(channel, axis=1))).clip(-1e30, 1e30)\n",
      "/home/klosterle97/siwon_kaggle/tbr_apr_mds.py:555: RuntimeWarning: invalid value encountered in true_divide\n",
      "  features[f'down_mean_02'] = np.nan_to_num(features[f'down_min_02'] / features[f'down_count_02'], neginf=-40)\n",
      "/home/klosterle97/siwon_kaggle/tbr_apr_mds.py:540: RuntimeWarning: invalid value encountered in true_divide\n",
      "  features[f'sm_{i:0>2}'] = np.nan_to_num(features[f'std_{i:0>2}'] / np.abs(np.mean(channel, axis=1))).clip(-1e30, 1e30)\n",
      "/home/klosterle97/siwon_kaggle/tbr_apr_mds.py:540: RuntimeWarning: divide by zero encountered in true_divide\n",
      "  features[f'sm_{i:0>2}'] = np.nan_to_num(features[f'std_{i:0>2}'] / np.abs(np.mean(channel, axis=1))).clip(-1e30, 1e30)\n",
      "/home/klosterle97/siwon_kaggle/tbr_apr_mds.py:555: RuntimeWarning: invalid value encountered in true_divide\n",
      "  features[f'down_mean_02'] = np.nan_to_num(features[f'down_min_02'] / features[f'down_count_02'], neginf=-40)\n"
     ]
    },
    {
     "name": "stdout",
     "output_type": "stream",
     "text": [
      "LGBMClassifier(boosting_type='dart', max_depth=10, metric='auc',\n",
      "               n_estimators=200, random_state=62)\n",
      "0.9930998576132419\n",
      "0.9618547090480936\n",
      "              precision    recall  f1-score   support\n",
      "\n",
      "           0     0.9267    0.8772    0.9013      2378\n",
      "           1     0.8839    0.9309    0.9068      2389\n",
      "\n",
      "    accuracy                         0.9041      4767\n",
      "   macro avg     0.9053    0.9041    0.9041      4767\n",
      "weighted avg     0.9053    0.9041    0.9041      4767\n",
      "\n"
     ]
    },
    {
     "name": "stderr",
     "output_type": "stream",
     "text": [
      "/home/klosterle97/.local/lib/python3.8/site-packages/lightgbm/sklearn.py:736: UserWarning: 'verbose' argument is deprecated and will be removed in a future release of LightGBM. Pass 'log_evaluation()' callback via 'callbacks' argument instead.\n",
      "  _log_warning(\"'verbose' argument is deprecated and will be removed in a future release of LightGBM. \"\n"
     ]
    },
    {
     "name": "stdout",
     "output_type": "stream",
     "text": [
      "[100]\tvalid_0's auc: 0.956171\n",
      "[200]\tvalid_0's auc: 0.961604\n"
     ]
    },
    {
     "name": "stderr",
     "output_type": "stream",
     "text": [
      "/home/klosterle97/siwon_kaggle/tbr_apr_mds.py:540: RuntimeWarning: invalid value encountered in true_divide\n",
      "  features[f'sm_{i:0>2}'] = np.nan_to_num(features[f'std_{i:0>2}'] / np.abs(np.mean(channel, axis=1))).clip(-1e30, 1e30)\n",
      "/home/klosterle97/siwon_kaggle/tbr_apr_mds.py:540: RuntimeWarning: divide by zero encountered in true_divide\n",
      "  features[f'sm_{i:0>2}'] = np.nan_to_num(features[f'std_{i:0>2}'] / np.abs(np.mean(channel, axis=1))).clip(-1e30, 1e30)\n",
      "/home/klosterle97/siwon_kaggle/tbr_apr_mds.py:555: RuntimeWarning: invalid value encountered in true_divide\n",
      "  features[f'down_mean_02'] = np.nan_to_num(features[f'down_min_02'] / features[f'down_count_02'], neginf=-40)\n",
      "/home/klosterle97/siwon_kaggle/tbr_apr_mds.py:540: RuntimeWarning: invalid value encountered in true_divide\n",
      "  features[f'sm_{i:0>2}'] = np.nan_to_num(features[f'std_{i:0>2}'] / np.abs(np.mean(channel, axis=1))).clip(-1e30, 1e30)\n",
      "/home/klosterle97/siwon_kaggle/tbr_apr_mds.py:540: RuntimeWarning: divide by zero encountered in true_divide\n",
      "  features[f'sm_{i:0>2}'] = np.nan_to_num(features[f'std_{i:0>2}'] / np.abs(np.mean(channel, axis=1))).clip(-1e30, 1e30)\n",
      "/home/klosterle97/siwon_kaggle/tbr_apr_mds.py:555: RuntimeWarning: invalid value encountered in true_divide\n",
      "  features[f'down_mean_02'] = np.nan_to_num(features[f'down_min_02'] / features[f'down_count_02'], neginf=-40)\n"
     ]
    },
    {
     "name": "stdout",
     "output_type": "stream",
     "text": [
      "LGBMClassifier(boosting_type='dart', metric='auc', n_estimators=200,\n",
      "               random_state=1)\n",
      "0.9915446382486429\n",
      "0.9616042268302188\n",
      "              precision    recall  f1-score   support\n",
      "\n",
      "           0     0.9224    0.8747    0.8979      2378\n",
      "           1     0.8814    0.9267    0.9035      2389\n",
      "\n",
      "    accuracy                         0.9008      4767\n",
      "   macro avg     0.9019    0.9007    0.9007      4767\n",
      "weighted avg     0.9018    0.9008    0.9007      4767\n",
      "\n"
     ]
    },
    {
     "name": "stderr",
     "output_type": "stream",
     "text": [
      "/home/klosterle97/.local/lib/python3.8/site-packages/lightgbm/sklearn.py:736: UserWarning: 'verbose' argument is deprecated and will be removed in a future release of LightGBM. Pass 'log_evaluation()' callback via 'callbacks' argument instead.\n",
      "  _log_warning(\"'verbose' argument is deprecated and will be removed in a future release of LightGBM. \"\n"
     ]
    },
    {
     "name": "stdout",
     "output_type": "stream",
     "text": [
      "[100]\tvalid_0's auc: 0.953933\n",
      "[200]\tvalid_0's auc: 0.958852\n"
     ]
    },
    {
     "name": "stderr",
     "output_type": "stream",
     "text": [
      "/home/klosterle97/siwon_kaggle/tbr_apr_mds.py:540: RuntimeWarning: invalid value encountered in true_divide\n",
      "  features[f'sm_{i:0>2}'] = np.nan_to_num(features[f'std_{i:0>2}'] / np.abs(np.mean(channel, axis=1))).clip(-1e30, 1e30)\n",
      "/home/klosterle97/siwon_kaggle/tbr_apr_mds.py:540: RuntimeWarning: divide by zero encountered in true_divide\n",
      "  features[f'sm_{i:0>2}'] = np.nan_to_num(features[f'std_{i:0>2}'] / np.abs(np.mean(channel, axis=1))).clip(-1e30, 1e30)\n",
      "/home/klosterle97/siwon_kaggle/tbr_apr_mds.py:555: RuntimeWarning: invalid value encountered in true_divide\n",
      "  features[f'down_mean_02'] = np.nan_to_num(features[f'down_min_02'] / features[f'down_count_02'], neginf=-40)\n",
      "/home/klosterle97/siwon_kaggle/tbr_apr_mds.py:540: RuntimeWarning: invalid value encountered in true_divide\n",
      "  features[f'sm_{i:0>2}'] = np.nan_to_num(features[f'std_{i:0>2}'] / np.abs(np.mean(channel, axis=1))).clip(-1e30, 1e30)\n",
      "/home/klosterle97/siwon_kaggle/tbr_apr_mds.py:540: RuntimeWarning: divide by zero encountered in true_divide\n",
      "  features[f'sm_{i:0>2}'] = np.nan_to_num(features[f'std_{i:0>2}'] / np.abs(np.mean(channel, axis=1))).clip(-1e30, 1e30)\n",
      "/home/klosterle97/siwon_kaggle/tbr_apr_mds.py:555: RuntimeWarning: invalid value encountered in true_divide\n",
      "  features[f'down_mean_02'] = np.nan_to_num(features[f'down_min_02'] / features[f'down_count_02'], neginf=-40)\n"
     ]
    },
    {
     "name": "stdout",
     "output_type": "stream",
     "text": [
      "LGBMClassifier(boosting_type='dart', metric='auc', n_estimators=200,\n",
      "               random_state=42)\n",
      "0.9869028032392988\n",
      "0.9588520908664291\n",
      "              precision    recall  f1-score   support\n",
      "\n",
      "           0     0.9209    0.8667    0.8930      2378\n",
      "           1     0.8747    0.9259    0.8996      2389\n",
      "\n",
      "    accuracy                         0.8964      4767\n",
      "   macro avg     0.8978    0.8963    0.8963      4767\n",
      "weighted avg     0.8977    0.8964    0.8963      4767\n",
      "\n"
     ]
    },
    {
     "name": "stderr",
     "output_type": "stream",
     "text": [
      "/home/klosterle97/.local/lib/python3.8/site-packages/lightgbm/sklearn.py:736: UserWarning: 'verbose' argument is deprecated and will be removed in a future release of LightGBM. Pass 'log_evaluation()' callback via 'callbacks' argument instead.\n",
      "  _log_warning(\"'verbose' argument is deprecated and will be removed in a future release of LightGBM. \"\n"
     ]
    },
    {
     "name": "stdout",
     "output_type": "stream",
     "text": [
      "[100]\tvalid_0's auc: 0.964879\n",
      "[200]\tvalid_0's auc: 0.968095\n"
     ]
    },
    {
     "name": "stderr",
     "output_type": "stream",
     "text": [
      "/home/klosterle97/siwon_kaggle/tbr_apr_mds.py:540: RuntimeWarning: invalid value encountered in true_divide\n",
      "  features[f'sm_{i:0>2}'] = np.nan_to_num(features[f'std_{i:0>2}'] / np.abs(np.mean(channel, axis=1))).clip(-1e30, 1e30)\n",
      "/home/klosterle97/siwon_kaggle/tbr_apr_mds.py:540: RuntimeWarning: divide by zero encountered in true_divide\n",
      "  features[f'sm_{i:0>2}'] = np.nan_to_num(features[f'std_{i:0>2}'] / np.abs(np.mean(channel, axis=1))).clip(-1e30, 1e30)\n",
      "/home/klosterle97/siwon_kaggle/tbr_apr_mds.py:555: RuntimeWarning: invalid value encountered in true_divide\n",
      "  features[f'down_mean_02'] = np.nan_to_num(features[f'down_min_02'] / features[f'down_count_02'], neginf=-40)\n",
      "/home/klosterle97/siwon_kaggle/tbr_apr_mds.py:540: RuntimeWarning: invalid value encountered in true_divide\n",
      "  features[f'sm_{i:0>2}'] = np.nan_to_num(features[f'std_{i:0>2}'] / np.abs(np.mean(channel, axis=1))).clip(-1e30, 1e30)\n",
      "/home/klosterle97/siwon_kaggle/tbr_apr_mds.py:540: RuntimeWarning: divide by zero encountered in true_divide\n",
      "  features[f'sm_{i:0>2}'] = np.nan_to_num(features[f'std_{i:0>2}'] / np.abs(np.mean(channel, axis=1))).clip(-1e30, 1e30)\n",
      "/home/klosterle97/siwon_kaggle/tbr_apr_mds.py:555: RuntimeWarning: invalid value encountered in true_divide\n",
      "  features[f'down_mean_02'] = np.nan_to_num(features[f'down_min_02'] / features[f'down_count_02'], neginf=-40)\n"
     ]
    },
    {
     "name": "stdout",
     "output_type": "stream",
     "text": [
      "LGBMClassifier(boosting_type='goss', metric='auc', n_estimators=200,\n",
      "               random_state=42)\n",
      "0.9999716828334965\n",
      "0.9680949375132237\n",
      "              precision    recall  f1-score   support\n",
      "\n",
      "           0     0.9199    0.8982    0.9089      2378\n",
      "           1     0.9010    0.9221    0.9115      2389\n",
      "\n",
      "    accuracy                         0.9102      4767\n",
      "   macro avg     0.9105    0.9102    0.9102      4767\n",
      "weighted avg     0.9104    0.9102    0.9102      4767\n",
      "\n"
     ]
    }
   ],
   "source": [
    "from lightgbm import LGBMClassifier\n",
    "from sklearn.pipeline import make_union\n",
    "from sklearn.metrics import classification_report\n",
    "clfs = [\n",
    "            LGBMClassifier(n_estimators=200, random_state=55,max_depth=10,boosting_type=\"dart\",metric=\"auc\"),\n",
    "            LGBMClassifier(n_estimators=200, random_state=62,max_depth=10,boosting_type=\"dart\",metric=\"auc\"),\n",
    "            LGBMClassifier(n_estimators=200, random_state=1,max_depth=-1,boosting_type=\"dart\",metric=\"auc\"),\n",
    "            LGBMClassifier(n_estimators=200, random_state=42,max_depth=-1,boosting_type=\"dart\",metric=\"auc\"),\n",
    "            LGBMClassifier(n_estimators=200, random_state=42,max_depth=-1,boosting_type=\"goss\",metric=\"auc\"),\n",
    "]\n",
    "\n",
    "extractors = [ ElementaryExtractor(), TsfreshExtractor(), MBOP(window_size=4,word_size=4,n_bins=10,m_occur=0.006)]\n",
    "extractor = make_union(*extractors)\n",
    "train_preds_array = np.zeros(len(clfs)*len(y)).reshape(-1,len(clfs))\n",
    "test_preds_array = np.zeros(len(clfs)*len(y_test)).reshape(-1,len(clfs))\n",
    "p=0\n",
    "for mask_df_val, mask_y_val in group_splitter(df, nfold=5, random_state=21):\n",
    "    if p==0:\n",
    "        p+=1\n",
    "        df_train, y_train = df[~mask_df_val], y[~mask_y_val]\n",
    "        df_val, y_val = df[mask_df_val], y[mask_y_val]\n",
    "        X_train = extractor.fit_transform(df_train)\n",
    "        X_val = extractor.transform(df_val)\n",
    "        print(X_train.shape, X_val.shape)\n",
    "        for clf,i in zip(clfs,range(len(clfs))):\n",
    "            clf.fit(X_train, y_train,eval_set=[(X_val,y_val)],verbose=100)\n",
    "            X_train_F = extractor.transform(df)\n",
    "            X_test_F = extractor.transform(df_test)\n",
    "            train_preds_array[:,i] += clf.predict_proba(X_train_F)[:,1]\n",
    "            test_preds_array[:,i] += clf.predict_proba(X_test_F)[:,1]\n",
    "            print(clf)\n",
    "            print(evaluate(clf, X_train, y_train))\n",
    "            print(evaluate(clf, X_val, y_val))\n",
    "            print(classification_report(y_val, (clf.predict(X_val) >= 0.5).astype(int), digits=4 ))\n",
    "    else:\n",
    "        p+=1\n",
    "to_csv(train_preds_array,\"train\")\n",
    "to_csv(test_preds_array,\"test\")"
   ]
  },
  {
   "cell_type": "code",
   "execution_count": 8,
   "metadata": {
    "execution": {
     "iopub.execute_input": "2022-10-19T18:18:32.368134Z",
     "iopub.status.busy": "2022-10-19T18:18:32.366974Z",
     "iopub.status.idle": "2022-10-19T18:18:32.373056Z",
     "shell.execute_reply": "2022-10-19T18:18:32.371223Z"
    },
    "papermill": {
     "duration": null,
     "end_time": null,
     "exception": null,
     "start_time": null,
     "status": "pending"
    },
    "tags": []
   },
   "outputs": [],
   "source": [
    "# clf = LGBMClassifier(num_leaves=31, max_depth=4, n_estimators=100)\n",
    "\n",
    "# df_train_final = df\n",
    "# y_train_final = y\n",
    "# X_train_final = extractor.fit_transform(df_train_final)\n",
    "# clf.fit(X_train_final, y_train_final)\n",
    "\n",
    "# df_test_final = load_raw_data('test')\n",
    "# X_test_final = extractor.transform(df_test_final)\n",
    "# y_pred = clf.predict_proba(X_test_final)[:, 1]\n",
    "# submit(y_pred)"
   ]
  }
 ],
 "metadata": {
  "kernelspec": {
   "display_name": "Python 3 (ipykernel)",
   "language": "python",
   "name": "python3"
  },
  "language_info": {
   "codemirror_mode": {
    "name": "ipython",
    "version": 3
   },
   "file_extension": ".py",
   "mimetype": "text/x-python",
   "name": "python",
   "nbconvert_exporter": "python",
   "pygments_lexer": "ipython3",
   "version": "3.8.10"
  },
  "vscode": {
   "interpreter": {
    "hash": "2684a7f0d802170d85c632738c0cde4596fc61c431d1dcda6b979c60ccca6dcc"
   }
  }
 },
 "nbformat": 4,
 "nbformat_minor": 4
}
