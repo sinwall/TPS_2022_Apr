{
 "cells": [
  {
   "cell_type": "markdown",
   "id": "8752a613",
   "metadata": {
    "papermill": {
     "duration": 0.006903,
     "end_time": "2022-10-19T23:31:36.613838",
     "exception": false,
     "start_time": "2022-10-19T23:31:36.606935",
     "status": "completed"
    },
    "tags": []
   },
   "source": [
    "#BLENDING"
   ]
  },
  {
   "cell_type": "code",
   "execution_count": 1,
   "id": "f03c028d",
   "metadata": {
    "execution": {
     "iopub.execute_input": "2022-10-19T23:31:36.626639Z",
     "iopub.status.busy": "2022-10-19T23:31:36.625890Z",
     "iopub.status.idle": "2022-10-19T23:31:36.635712Z",
     "shell.execute_reply": "2022-10-19T23:31:36.634482Z"
    },
    "papermill": {
     "duration": 0.01877,
     "end_time": "2022-10-19T23:31:36.637964",
     "exception": false,
     "start_time": "2022-10-19T23:31:36.619194",
     "status": "completed"
    },
    "tags": []
   },
   "outputs": [],
   "source": [
    "input_path = '../input/'\n",
    "output_path = './'"
   ]
  },
  {
   "cell_type": "code",
   "execution_count": 2,
   "id": "ca8436bf",
   "metadata": {
    "execution": {
     "iopub.execute_input": "2022-10-19T23:31:36.650060Z",
     "iopub.status.busy": "2022-10-19T23:31:36.649400Z",
     "iopub.status.idle": "2022-10-19T23:31:37.751146Z",
     "shell.execute_reply": "2022-10-19T23:31:37.750083Z"
    },
    "papermill": {
     "duration": 1.110749,
     "end_time": "2022-10-19T23:31:37.754014",
     "exception": false,
     "start_time": "2022-10-19T23:31:36.643265",
     "status": "completed"
    },
    "tags": []
   },
   "outputs": [],
   "source": [
    "import pandas as pd\n",
    "import numpy as np\n",
    "from sklearn.metrics import roc_auc_score\n",
    "from sklearn import model_selection\n",
    "\n",
    "def load_raw_data(folder_name,train_or_test=\"train\"):\n",
    "    file_name = f'{input_path}/tbr_apr_2022_{folder_name}/{train_or_test}.csv'\n",
    "    df = pd.read_csv(file_name)\n",
    "    return df\n",
    "\n",
    "def load_label(train_or_test='train'):\n",
    "    file_name = input_path +\"/tabular-playground-series-apr-2022/\"+ ('train_labels.csv' if train_or_test=='train' else 'sample_submission.csv')\n",
    "    df = pd.read_csv(file_name)\n",
    "    return df['state'].values\n",
    "\n",
    "def competition_metric(y_true, y_score):\n",
    "    return roc_auc_score(y_true, y_score)\n",
    "\n",
    "def evaluate(model, X, y):\n",
    "    return competition_metric(y, model.predict_proba(X)[:, 1])\n",
    "\n",
    "\n",
    "def submit(arr):\n",
    "    df = pd.read_csv(f'{input_path}/tabular-playground-series-apr-2022/sample_submission.csv')\n",
    "    df['state'] = arr\n",
    "    df.to_csv(f'{output_path}/submission.csv', index=False)\n",
    "\n",
    "\n",
    "def to_csv(arr,train_or_test='train',name=None):\n",
    "    df = pd.DataFrame(arr)\n",
    "    if type(name)==str:\n",
    "        df.to_csv(f'{output_path}/{name}_{train_or_test}.csv', index = False )\n",
    "    else:\n",
    "        df.to_csv(f'{output_path}/{train_or_test}.csv', index = False )\n",
    "\n"
   ]
  },
  {
   "cell_type": "code",
   "execution_count": 3,
   "id": "6e258c39",
   "metadata": {
    "execution": {
     "iopub.execute_input": "2022-10-19T23:31:37.766569Z",
     "iopub.status.busy": "2022-10-19T23:31:37.765785Z",
     "iopub.status.idle": "2022-10-19T23:31:37.771177Z",
     "shell.execute_reply": "2022-10-19T23:31:37.770094Z"
    },
    "papermill": {
     "duration": 0.014291,
     "end_time": "2022-10-19T23:31:37.773444",
     "exception": false,
     "start_time": "2022-10-19T23:31:37.759153",
     "status": "completed"
    },
    "tags": []
   },
   "outputs": [],
   "source": [
    "def short_test(x,y,n):\n",
    "    return x.loc[x.sequence<n] ,y[:n]"
   ]
  },
  {
   "cell_type": "code",
   "execution_count": 4,
   "id": "830bc441",
   "metadata": {
    "execution": {
     "iopub.execute_input": "2022-10-19T23:31:37.784952Z",
     "iopub.status.busy": "2022-10-19T23:31:37.784532Z",
     "iopub.status.idle": "2022-10-19T23:31:37.953260Z",
     "shell.execute_reply": "2022-10-19T23:31:37.952122Z"
    },
    "papermill": {
     "duration": 0.177566,
     "end_time": "2022-10-19T23:31:37.955937",
     "exception": false,
     "start_time": "2022-10-19T23:31:37.778371",
     "status": "completed"
    },
    "tags": []
   },
   "outputs": [],
   "source": [
    "df_NN_pure = pd.read_csv(\"../input/tbr-apr-22-nn-pure/train.csv\").to_numpy()\n",
    "            \n"
   ]
  },
  {
   "cell_type": "code",
   "execution_count": 5,
   "id": "dda7556d",
   "metadata": {
    "execution": {
     "iopub.execute_input": "2022-10-19T23:31:37.967312Z",
     "iopub.status.busy": "2022-10-19T23:31:37.966906Z",
     "iopub.status.idle": "2022-10-19T23:31:38.533493Z",
     "shell.execute_reply": "2022-10-19T23:31:38.532226Z"
    },
    "papermill": {
     "duration": 0.575347,
     "end_time": "2022-10-19T23:31:38.536211",
     "exception": false,
     "start_time": "2022-10-19T23:31:37.960864",
     "status": "completed"
    },
    "tags": []
   },
   "outputs": [],
   "source": [
    "L_df_F_dart_v = []\n",
    "for i in range(5):\n",
    "    L_df_F_dart_v.append(pd.read_csv(f\"../input/tbr-apr-2022-dart-non-nn/tbr_apr_2022_dart_non_nn/train_v{i}.csv\").to_numpy()/5)\n",
    "df_F_dart_v = np.zeros(L_df_F_dart_v[0].shape)\n",
    "for j in L_df_F_dart_v:\n",
    "    df_F_dart_v+=j\n",
    "\n",
    "df_test_NN_pure = pd.read_csv(\"../input/tbr-apr-22-nn-pure/test.csv\").to_numpy()\n",
    "\n",
    "L_df_test_F_dart_v = []\n",
    "for i in range(5):\n",
    "    L_df_test_F_dart_v.append(pd.read_csv(f\"../input/tbr-apr-2022-dart-non-nn/tbr_apr_2022_dart_non_nn/test_v{i}.csv\").to_numpy()/5)\n",
    "df_test_F_dart_v = np.zeros(L_df_test_F_dart_v[0].shape)\n",
    "for j in L_df_test_F_dart_v:\n",
    "    df_test_F_dart_v+=j"
   ]
  },
  {
   "cell_type": "code",
   "execution_count": 6,
   "id": "8671f072",
   "metadata": {
    "execution": {
     "iopub.execute_input": "2022-10-19T23:31:38.548930Z",
     "iopub.status.busy": "2022-10-19T23:31:38.547776Z",
     "iopub.status.idle": "2022-10-19T23:31:38.586135Z",
     "shell.execute_reply": "2022-10-19T23:31:38.585038Z"
    },
    "papermill": {
     "duration": 0.04737,
     "end_time": "2022-10-19T23:31:38.588864",
     "exception": false,
     "start_time": "2022-10-19T23:31:38.541494",
     "status": "completed"
    },
    "tags": []
   },
   "outputs": [],
   "source": [
    "\n",
    "y = load_label(\"train\")\n",
    "y_test = load_label('test')\n",
    "yy = np.concatenate([y,y], axis=0)"
   ]
  },
  {
   "cell_type": "code",
   "execution_count": 7,
   "id": "0950fbba",
   "metadata": {
    "execution": {
     "iopub.execute_input": "2022-10-19T23:31:38.601009Z",
     "iopub.status.busy": "2022-10-19T23:31:38.600206Z",
     "iopub.status.idle": "2022-10-19T23:31:38.608628Z",
     "shell.execute_reply": "2022-10-19T23:31:38.607329Z"
    },
    "papermill": {
     "duration": 0.01781,
     "end_time": "2022-10-19T23:31:38.611725",
     "exception": false,
     "start_time": "2022-10-19T23:31:38.593915",
     "status": "completed"
    },
    "tags": []
   },
   "outputs": [],
   "source": [
    "valids = np.concatenate([\n",
    "                          df_NN_pure,\n",
    "                          df_F_dart_v\n",
    "                            ], axis=1)"
   ]
  },
  {
   "cell_type": "code",
   "execution_count": 8,
   "id": "5738091c",
   "metadata": {
    "execution": {
     "iopub.execute_input": "2022-10-19T23:31:38.623587Z",
     "iopub.status.busy": "2022-10-19T23:31:38.623177Z",
     "iopub.status.idle": "2022-10-19T23:31:38.628720Z",
     "shell.execute_reply": "2022-10-19T23:31:38.627605Z"
    },
    "papermill": {
     "duration": 0.014519,
     "end_time": "2022-10-19T23:31:38.631339",
     "exception": false,
     "start_time": "2022-10-19T23:31:38.616820",
     "status": "completed"
    },
    "tags": []
   },
   "outputs": [],
   "source": [
    "valids =valids[:,:-1]"
   ]
  },
  {
   "cell_type": "code",
   "execution_count": 9,
   "id": "c0b73222",
   "metadata": {
    "execution": {
     "iopub.execute_input": "2022-10-19T23:31:38.643712Z",
     "iopub.status.busy": "2022-10-19T23:31:38.643124Z",
     "iopub.status.idle": "2022-10-19T23:31:38.649329Z",
     "shell.execute_reply": "2022-10-19T23:31:38.648108Z"
    },
    "papermill": {
     "duration": 0.015526,
     "end_time": "2022-10-19T23:31:38.651941",
     "exception": false,
     "start_time": "2022-10-19T23:31:38.636415",
     "status": "completed"
    },
    "tags": []
   },
   "outputs": [],
   "source": [
    "tests= np.concatenate([\n",
    "                          df_test_NN_pure,\n",
    "                          df_test_F_dart_v\n",
    "                            ], axis=1)"
   ]
  },
  {
   "cell_type": "code",
   "execution_count": 10,
   "id": "a057f701",
   "metadata": {
    "execution": {
     "iopub.execute_input": "2022-10-19T23:31:38.664012Z",
     "iopub.status.busy": "2022-10-19T23:31:38.663611Z",
     "iopub.status.idle": "2022-10-19T23:31:38.668883Z",
     "shell.execute_reply": "2022-10-19T23:31:38.667657Z"
    },
    "papermill": {
     "duration": 0.014391,
     "end_time": "2022-10-19T23:31:38.671707",
     "exception": false,
     "start_time": "2022-10-19T23:31:38.657316",
     "status": "completed"
    },
    "tags": []
   },
   "outputs": [],
   "source": [
    "tests=tests[:,:-1]"
   ]
  },
  {
   "cell_type": "code",
   "execution_count": 11,
   "id": "138a314c",
   "metadata": {
    "execution": {
     "iopub.execute_input": "2022-10-19T23:31:38.683647Z",
     "iopub.status.busy": "2022-10-19T23:31:38.683246Z",
     "iopub.status.idle": "2022-10-19T23:31:39.561187Z",
     "shell.execute_reply": "2022-10-19T23:31:39.560222Z"
    },
    "papermill": {
     "duration": 0.887194,
     "end_time": "2022-10-19T23:31:39.564078",
     "exception": false,
     "start_time": "2022-10-19T23:31:38.676884",
     "status": "completed"
    },
    "tags": []
   },
   "outputs": [
    {
     "data": {
      "text/html": [
       "<style type='text/css'>\n",
       ".datatable table.frame { margin-bottom: 0; }\n",
       ".datatable table.frame thead { border-bottom: none; }\n",
       ".datatable table.frame tr.coltypes td {  color: #FFFFFF;  line-height: 6px;  padding: 0 0.5em;}\n",
       ".datatable .bool    { background: #DDDD99; }\n",
       ".datatable .object  { background: #565656; }\n",
       ".datatable .int     { background: #5D9E5D; }\n",
       ".datatable .float   { background: #4040CC; }\n",
       ".datatable .str     { background: #CC4040; }\n",
       ".datatable .time    { background: #40CC40; }\n",
       ".datatable .row_index {  background: var(--jp-border-color3);  border-right: 1px solid var(--jp-border-color0);  color: var(--jp-ui-font-color3);  font-size: 9px;}\n",
       ".datatable .frame tbody td { text-align: left; }\n",
       ".datatable .frame tr.coltypes .row_index {  background: var(--jp-border-color0);}\n",
       ".datatable th:nth-child(2) { padding-left: 12px; }\n",
       ".datatable .hellipsis {  color: var(--jp-cell-editor-border-color);}\n",
       ".datatable .vellipsis {  background: var(--jp-layout-color0);  color: var(--jp-cell-editor-border-color);}\n",
       ".datatable .na {  color: var(--jp-cell-editor-border-color);  font-size: 80%;}\n",
       ".datatable .sp {  opacity: 0.25;}\n",
       ".datatable .footer { font-size: 9px; }\n",
       ".datatable .frame_dimensions {  background: var(--jp-border-color3);  border-top: 1px solid var(--jp-border-color0);  color: var(--jp-ui-font-color3);  display: inline-block;  opacity: 0.6;  padding: 1px 10px 1px 5px;}\n",
       "</style>\n"
      ],
      "text/plain": [
       "<IPython.core.display.HTML object>"
      ]
     },
     "metadata": {},
     "output_type": "display_data"
    }
   ],
   "source": [
    "from lightgbm import LGBMClassifier\n"
   ]
  },
  {
   "cell_type": "code",
   "execution_count": 12,
   "id": "65ea492b",
   "metadata": {
    "execution": {
     "iopub.execute_input": "2022-10-19T23:31:39.576004Z",
     "iopub.status.busy": "2022-10-19T23:31:39.575626Z",
     "iopub.status.idle": "2022-10-19T23:31:39.580576Z",
     "shell.execute_reply": "2022-10-19T23:31:39.579569Z"
    },
    "papermill": {
     "duration": 0.01362,
     "end_time": "2022-10-19T23:31:39.582952",
     "exception": false,
     "start_time": "2022-10-19T23:31:39.569332",
     "status": "completed"
    },
    "tags": []
   },
   "outputs": [],
   "source": [
    "import sklearn.metrics as metrics"
   ]
  },
  {
   "cell_type": "code",
   "execution_count": 13,
   "id": "923129c6",
   "metadata": {
    "execution": {
     "iopub.execute_input": "2022-10-19T23:31:39.595553Z",
     "iopub.status.busy": "2022-10-19T23:31:39.594792Z",
     "iopub.status.idle": "2022-10-19T23:31:39.781431Z",
     "shell.execute_reply": "2022-10-19T23:31:39.780478Z"
    },
    "papermill": {
     "duration": 0.19607,
     "end_time": "2022-10-19T23:31:39.784417",
     "exception": false,
     "start_time": "2022-10-19T23:31:39.588347",
     "status": "completed"
    },
    "tags": []
   },
   "outputs": [
    {
     "name": "stdout",
     "output_type": "stream",
     "text": [
      "0.9777898181122935\n",
      "0.980460950723985\n",
      "0.9613977609984228\n",
      "0.9790575589205852\n",
      "0.9791202875330113\n",
      "0.9786032020859757\n",
      "0.977540991650445\n",
      "0.9669728457653909\n",
      "0.9763716947241221\n",
      "0.964018921298494\n",
      "0.9660085601807571\n",
      "0.9806624445179511\n",
      "0.9933647245698443\n",
      "0.9909257174830474\n",
      "0.9893312421660414\n",
      "0.9846474227265947\n"
     ]
    }
   ],
   "source": [
    "for i in range(len(valids[0])):\n",
    "    print(metrics.roc_auc_score(y,valids[:,i]))\n"
   ]
  },
  {
   "cell_type": "code",
   "execution_count": null,
   "id": "d6977a16",
   "metadata": {
    "papermill": {
     "duration": 0.00612,
     "end_time": "2022-10-19T23:31:39.797440",
     "exception": false,
     "start_time": "2022-10-19T23:31:39.791320",
     "status": "completed"
    },
    "tags": []
   },
   "outputs": [],
   "source": []
  },
  {
   "cell_type": "code",
   "execution_count": 14,
   "id": "13617312",
   "metadata": {
    "execution": {
     "iopub.execute_input": "2022-10-19T23:31:39.810246Z",
     "iopub.status.busy": "2022-10-19T23:31:39.809140Z",
     "iopub.status.idle": "2022-10-19T23:31:39.815251Z",
     "shell.execute_reply": "2022-10-19T23:31:39.814322Z"
    },
    "papermill": {
     "duration": 0.014811,
     "end_time": "2022-10-19T23:31:39.817431",
     "exception": false,
     "start_time": "2022-10-19T23:31:39.802620",
     "status": "completed"
    },
    "tags": []
   },
   "outputs": [
    {
     "data": {
      "text/plain": [
       "(12218,)"
      ]
     },
     "execution_count": 14,
     "metadata": {},
     "output_type": "execute_result"
    }
   ],
   "source": [
    "y_test.shape"
   ]
  },
  {
   "cell_type": "code",
   "execution_count": 15,
   "id": "aa252483",
   "metadata": {
    "execution": {
     "iopub.execute_input": "2022-10-19T23:31:39.830125Z",
     "iopub.status.busy": "2022-10-19T23:31:39.829108Z",
     "iopub.status.idle": "2022-10-19T23:31:49.414838Z",
     "shell.execute_reply": "2022-10-19T23:31:49.413906Z"
    },
    "papermill": {
     "duration": 9.5948,
     "end_time": "2022-10-19T23:31:49.417513",
     "exception": false,
     "start_time": "2022-10-19T23:31:39.822713",
     "status": "completed"
    },
    "tags": []
   },
   "outputs": [
    {
     "name": "stderr",
     "output_type": "stream",
     "text": [
      "/opt/conda/lib/python3.7/site-packages/lightgbm/sklearn.py:726: UserWarning: 'early_stopping_rounds' argument is deprecated and will be removed in a future release of LightGBM. Pass 'early_stopping()' callback via 'callbacks' argument instead.\n",
      "  _log_warning(\"'early_stopping_rounds' argument is deprecated and will be removed in a future release of LightGBM. \"\n",
      "/opt/conda/lib/python3.7/site-packages/lightgbm/sklearn.py:736: UserWarning: 'verbose' argument is deprecated and will be removed in a future release of LightGBM. Pass 'log_evaluation()' callback via 'callbacks' argument instead.\n",
      "  _log_warning(\"'verbose' argument is deprecated and will be removed in a future release of LightGBM. \"\n"
     ]
    },
    {
     "name": "stdout",
     "output_type": "stream",
     "text": [
      "[100]\tvalid_0's auc: 0.99752\n",
      "[200]\tvalid_0's auc: 0.998095\n",
      "[300]\tvalid_0's auc: 0.998148\n",
      "[400]\tvalid_0's auc: 0.998187\n",
      "[500]\tvalid_0's auc: 0.998191\n",
      "[600]\tvalid_0's auc: 0.998202\n"
     ]
    },
    {
     "name": "stderr",
     "output_type": "stream",
     "text": [
      "/opt/conda/lib/python3.7/site-packages/lightgbm/sklearn.py:726: UserWarning: 'early_stopping_rounds' argument is deprecated and will be removed in a future release of LightGBM. Pass 'early_stopping()' callback via 'callbacks' argument instead.\n",
      "  _log_warning(\"'early_stopping_rounds' argument is deprecated and will be removed in a future release of LightGBM. \"\n",
      "/opt/conda/lib/python3.7/site-packages/lightgbm/sklearn.py:736: UserWarning: 'verbose' argument is deprecated and will be removed in a future release of LightGBM. Pass 'log_evaluation()' callback via 'callbacks' argument instead.\n",
      "  _log_warning(\"'verbose' argument is deprecated and will be removed in a future release of LightGBM. \"\n"
     ]
    },
    {
     "name": "stdout",
     "output_type": "stream",
     "text": [
      "[100]\tvalid_0's auc: 0.997123\n",
      "[200]\tvalid_0's auc: 0.998207\n",
      "[300]\tvalid_0's auc: 0.998329\n",
      "[400]\tvalid_0's auc: 0.998376\n"
     ]
    },
    {
     "name": "stderr",
     "output_type": "stream",
     "text": [
      "/opt/conda/lib/python3.7/site-packages/lightgbm/sklearn.py:726: UserWarning: 'early_stopping_rounds' argument is deprecated and will be removed in a future release of LightGBM. Pass 'early_stopping()' callback via 'callbacks' argument instead.\n",
      "  _log_warning(\"'early_stopping_rounds' argument is deprecated and will be removed in a future release of LightGBM. \"\n",
      "/opt/conda/lib/python3.7/site-packages/lightgbm/sklearn.py:736: UserWarning: 'verbose' argument is deprecated and will be removed in a future release of LightGBM. Pass 'log_evaluation()' callback via 'callbacks' argument instead.\n",
      "  _log_warning(\"'verbose' argument is deprecated and will be removed in a future release of LightGBM. \"\n"
     ]
    },
    {
     "name": "stdout",
     "output_type": "stream",
     "text": [
      "[100]\tvalid_0's auc: 0.997439\n",
      "[200]\tvalid_0's auc: 0.998654\n"
     ]
    },
    {
     "name": "stderr",
     "output_type": "stream",
     "text": [
      "/opt/conda/lib/python3.7/site-packages/lightgbm/sklearn.py:726: UserWarning: 'early_stopping_rounds' argument is deprecated and will be removed in a future release of LightGBM. Pass 'early_stopping()' callback via 'callbacks' argument instead.\n",
      "  _log_warning(\"'early_stopping_rounds' argument is deprecated and will be removed in a future release of LightGBM. \"\n",
      "/opt/conda/lib/python3.7/site-packages/lightgbm/sklearn.py:736: UserWarning: 'verbose' argument is deprecated and will be removed in a future release of LightGBM. Pass 'log_evaluation()' callback via 'callbacks' argument instead.\n",
      "  _log_warning(\"'verbose' argument is deprecated and will be removed in a future release of LightGBM. \"\n"
     ]
    },
    {
     "name": "stdout",
     "output_type": "stream",
     "text": [
      "[100]\tvalid_0's auc: 0.99854\n",
      "[200]\tvalid_0's auc: 0.99901\n",
      "[300]\tvalid_0's auc: 0.999012\n"
     ]
    },
    {
     "name": "stderr",
     "output_type": "stream",
     "text": [
      "/opt/conda/lib/python3.7/site-packages/lightgbm/sklearn.py:726: UserWarning: 'early_stopping_rounds' argument is deprecated and will be removed in a future release of LightGBM. Pass 'early_stopping()' callback via 'callbacks' argument instead.\n",
      "  _log_warning(\"'early_stopping_rounds' argument is deprecated and will be removed in a future release of LightGBM. \"\n",
      "/opt/conda/lib/python3.7/site-packages/lightgbm/sklearn.py:736: UserWarning: 'verbose' argument is deprecated and will be removed in a future release of LightGBM. Pass 'log_evaluation()' callback via 'callbacks' argument instead.\n",
      "  _log_warning(\"'verbose' argument is deprecated and will be removed in a future release of LightGBM. \"\n"
     ]
    },
    {
     "name": "stdout",
     "output_type": "stream",
     "text": [
      "[100]\tvalid_0's auc: 0.998267\n",
      "[200]\tvalid_0's auc: 0.998763\n",
      "[300]\tvalid_0's auc: 0.998905\n",
      "[400]\tvalid_0's auc: 0.998976\n",
      "[500]\tvalid_0's auc: 0.999012\n",
      "[600]\tvalid_0's auc: 0.99903\n",
      "[700]\tvalid_0's auc: 0.999024\n"
     ]
    }
   ],
   "source": [
    "n_splits = 5\n",
    "K_fold = model_selection.KFold(n_splits=n_splits,shuffle =True, random_state=97)\n",
    "test_preds_array = np.zeros(len(y_test))\n",
    "valid_preds_array = np.zeros(len(y))\n",
    "scores_valid = []\n",
    "scores_train = []\n",
    "\n",
    "for fold, (train_idx, valid_idx) in enumerate(K_fold.split(valids)):\n",
    "    X_train , y_train = valids[train_idx, :], y[train_idx]\n",
    "    X_valid, y_valid = valids[valid_idx, :], y[valid_idx]\n",
    "\n",
    "\n",
    "    clf = LGBMClassifier(num_leaves=25,\n",
    "                        objective=\"binary\",\n",
    "                        metric='auc',\n",
    "                        subsample=0.7,\n",
    "                        learning_rate=0.03,\n",
    "                        n_estimators=10000,\n",
    "                        n_jobs=-1)\n",
    "    clf.fit(X_train,y_train,\n",
    "            eval_set=[(X_valid,y_valid)],\n",
    "            verbose = 100,\n",
    "            early_stopping_rounds=100)\n",
    "\n",
    "    valid_preds = clf.predict_proba(X_valid)[:, -1]\n",
    "    train_preds = clf.predict_proba(X_train)[:, -1]\n",
    "    test_preds = clf.predict_proba(tests)[:, -1]\n",
    "    test_preds_array += test_preds / n_splits\n",
    "    valid_preds_array[valid_idx] = valid_preds\n",
    "    \n",
    "    score_valid = metrics.roc_auc_score(y_valid, valid_preds)\n",
    "    score_train = metrics.roc_auc_score(y_train, train_preds)\n",
    "    \n",
    "    scores_valid.append(score_valid)\n",
    "    scores_train.append(score_train)"
   ]
  },
  {
   "cell_type": "code",
   "execution_count": 16,
   "id": "2f105bb5",
   "metadata": {
    "execution": {
     "iopub.execute_input": "2022-10-19T23:31:49.433522Z",
     "iopub.status.busy": "2022-10-19T23:31:49.432739Z",
     "iopub.status.idle": "2022-10-19T23:31:49.476809Z",
     "shell.execute_reply": "2022-10-19T23:31:49.475615Z"
    },
    "papermill": {
     "duration": 0.055245,
     "end_time": "2022-10-19T23:31:49.479893",
     "exception": false,
     "start_time": "2022-10-19T23:31:49.424648",
     "status": "completed"
    },
    "tags": []
   },
   "outputs": [],
   "source": [
    "submit(test_preds_array)\n"
   ]
  }
 ],
 "metadata": {
  "kernelspec": {
   "display_name": "Python 3",
   "language": "python",
   "name": "python3"
  },
  "language_info": {
   "codemirror_mode": {
    "name": "ipython",
    "version": 3
   },
   "file_extension": ".py",
   "mimetype": "text/x-python",
   "name": "python",
   "nbconvert_exporter": "python",
   "pygments_lexer": "ipython3",
   "version": "3.7.12"
  },
  "papermill": {
   "default_parameters": {},
   "duration": 22.711459,
   "end_time": "2022-10-19T23:31:50.309398",
   "environment_variables": {},
   "exception": null,
   "input_path": "__notebook__.ipynb",
   "output_path": "__notebook__.ipynb",
   "parameters": {},
   "start_time": "2022-10-19T23:31:27.597939",
   "version": "2.3.4"
  }
 },
 "nbformat": 4,
 "nbformat_minor": 5
}
