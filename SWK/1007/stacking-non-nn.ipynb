{
 "cells": [
  {
   "cell_type": "markdown",
   "id": "9cb964fd",
   "metadata": {
    "papermill": {
     "duration": 0.004402,
     "end_time": "2022-10-06T01:04:04.332446",
     "exception": false,
     "start_time": "2022-10-06T01:04:04.328044",
     "status": "completed"
    },
    "tags": []
   },
   "source": [
    "# Non-NN models"
   ]
  },
  {
   "cell_type": "markdown",
   "id": "6e07dd8a",
   "metadata": {
    "papermill": {
     "duration": 0.003381,
     "end_time": "2022-10-06T01:04:04.340177",
     "exception": false,
     "start_time": "2022-10-06T01:04:04.336796",
     "status": "completed"
    },
    "tags": []
   },
   "source": [
    "We should study these notebooks:\n",
    "\n",
    "https://www.kaggle.com/code/jeroenvdd/tpsapr22-best-non-dl-model-tsflex-powershap?scriptVersionId=94240450\n",
    "\n",
    "https://www.kaggle.com/code/ambrosm/tpsapr22-best-model-without-nn"
   ]
  },
  {
   "cell_type": "code",
   "execution_count": 1,
   "id": "fced2f9b",
   "metadata": {
    "_cell_guid": "b1076dfc-b9ad-4769-8c92-a6c4dae69d19",
    "_uuid": "8f2839f25d086af736a60e9eeb907d3b93b6e0e5",
    "execution": {
     "iopub.execute_input": "2022-10-06T01:04:04.349801Z",
     "iopub.status.busy": "2022-10-06T01:04:04.348721Z",
     "iopub.status.idle": "2022-10-06T01:04:04.362200Z",
     "shell.execute_reply": "2022-10-06T01:04:04.360914Z"
    },
    "papermill": {
     "duration": 0.021565,
     "end_time": "2022-10-06T01:04:04.365127",
     "exception": false,
     "start_time": "2022-10-06T01:04:04.343562",
     "status": "completed"
    },
    "tags": []
   },
   "outputs": [],
   "source": [
    "input_path = '../input/tabular-playground-series-apr-2022/'\n",
    "output_path = './'"
   ]
  },
  {
   "cell_type": "code",
   "execution_count": 2,
   "id": "89b4e011",
   "metadata": {
    "execution": {
     "iopub.execute_input": "2022-10-06T01:04:04.374301Z",
     "iopub.status.busy": "2022-10-06T01:04:04.373555Z",
     "iopub.status.idle": "2022-10-06T01:04:05.476611Z",
     "shell.execute_reply": "2022-10-06T01:04:05.475218Z"
    },
    "papermill": {
     "duration": 1.110815,
     "end_time": "2022-10-06T01:04:05.479343",
     "exception": false,
     "start_time": "2022-10-06T01:04:04.368528",
     "status": "completed"
    },
    "tags": []
   },
   "outputs": [],
   "source": [
    "import pandas as pd\n",
    "import numpy as np\n",
    "from sklearn.metrics import roc_auc_score\n",
    "\n",
    "def load_raw_data(train_or_test='train'):\n",
    "    file_name = f'{input_path}/{train_or_test}.csv'\n",
    "    df = pd.read_csv(file_name)\n",
    "    return df\n",
    "\n",
    "def load_label(train_or_test='train'):\n",
    "    file_name = input_path + ('train_labels.csv' if train_or_test=='train' else 'sample_submission.csv')\n",
    "    df = pd.read_csv(file_name)\n",
    "    return df['state'].values\n",
    "\n",
    "def competition_metric(y_true, y_score):\n",
    "    return roc_auc_score(y_true, y_score)\n",
    "\n",
    "def evaluate(model, X, y):\n",
    "    return competition_metric(y, model.predict_proba(X)[:, 1])\n",
    "\n",
    "def submit(arr):\n",
    "    df = pd.read_csv(f'{input_path}/sample_submission.csv')\n",
    "    df['state'] = arr\n",
    "    df.to_csv(f'{output_path}/submission.csv', index=False)"
   ]
  },
  {
   "cell_type": "code",
   "execution_count": 3,
   "id": "5bcede98",
   "metadata": {
    "execution": {
     "iopub.execute_input": "2022-10-06T01:04:05.487774Z",
     "iopub.status.busy": "2022-10-06T01:04:05.487383Z",
     "iopub.status.idle": "2022-10-06T01:04:07.359564Z",
     "shell.execute_reply": "2022-10-06T01:04:07.358531Z"
    },
    "papermill": {
     "duration": 1.879401,
     "end_time": "2022-10-06T01:04:07.362172",
     "exception": false,
     "start_time": "2022-10-06T01:04:05.482771",
     "status": "completed"
    },
    "tags": []
   },
   "outputs": [],
   "source": [
    "from sklearn.base import TransformerMixin, BaseEstimator\n",
    "from scipy.stats import kurtosis\n",
    "from tsfresh.feature_extraction.extraction import extract_features\n",
    "\n",
    "def group_splitter(df, nfold=5, random_state=None):\n",
    "    subject_nums = df['subject'].unique()\n",
    "    rng = np.random.default_rng(random_state)\n",
    "    subject_to_setnum = rng.integers(0, nfold, subject_nums.shape[0])\n",
    "    for i in range(nfold):\n",
    "        val_subjects = subject_nums[subject_to_setnum == i]\n",
    "        mask_df_val = df['subject'].isin(val_subjects)\n",
    "        mask_y_val = mask_df_val.iloc[::60]\n",
    "        yield mask_df_val, mask_y_val"
   ]
  },
  {
   "cell_type": "code",
   "execution_count": 4,
   "id": "637ec2f8",
   "metadata": {
    "execution": {
     "iopub.execute_input": "2022-10-06T01:04:07.370785Z",
     "iopub.status.busy": "2022-10-06T01:04:07.370120Z",
     "iopub.status.idle": "2022-10-06T01:04:21.044097Z",
     "shell.execute_reply": "2022-10-06T01:04:21.042486Z"
    },
    "papermill": {
     "duration": 13.6813,
     "end_time": "2022-10-06T01:04:21.047032",
     "exception": false,
     "start_time": "2022-10-06T01:04:07.365732",
     "status": "completed"
    },
    "tags": []
   },
   "outputs": [
    {
     "name": "stdout",
     "output_type": "stream",
     "text": [
      "Collecting pyts\r\n",
      "  Downloading pyts-0.12.0-py3-none-any.whl (2.5 MB)\r\n",
      "\u001b[2K     \u001b[90m━━━━━━━━━━━━━━━━━━━━━━━━━━━━━━━━━━━━━━━━\u001b[0m \u001b[32m2.5/2.5 MB\u001b[0m \u001b[31m24.7 MB/s\u001b[0m eta \u001b[36m0:00:00\u001b[0m\r\n",
      "\u001b[?25hRequirement already satisfied: scikit-learn>=0.22.1 in /opt/conda/lib/python3.7/site-packages (from pyts) (1.0.2)\r\n",
      "Requirement already satisfied: scipy>=1.3.0 in /opt/conda/lib/python3.7/site-packages (from pyts) (1.7.3)\r\n",
      "Requirement already satisfied: numba>=0.48.0 in /opt/conda/lib/python3.7/site-packages (from pyts) (0.55.2)\r\n",
      "Requirement already satisfied: numpy>=1.17.5 in /opt/conda/lib/python3.7/site-packages (from pyts) (1.21.6)\r\n",
      "Requirement already satisfied: joblib>=0.12 in /opt/conda/lib/python3.7/site-packages (from pyts) (1.0.1)\r\n",
      "Requirement already satisfied: setuptools in /opt/conda/lib/python3.7/site-packages (from numba>=0.48.0->pyts) (59.8.0)\r\n",
      "Requirement already satisfied: llvmlite<0.39,>=0.38.0rc1 in /opt/conda/lib/python3.7/site-packages (from numba>=0.48.0->pyts) (0.38.1)\r\n",
      "Requirement already satisfied: threadpoolctl>=2.0.0 in /opt/conda/lib/python3.7/site-packages (from scikit-learn>=0.22.1->pyts) (3.1.0)\r\n",
      "Installing collected packages: pyts\r\n",
      "Successfully installed pyts-0.12.0\r\n",
      "\u001b[33mWARNING: Running pip as the 'root' user can result in broken permissions and conflicting behaviour with the system package manager. It is recommended to use a virtual environment instead: https://pip.pypa.io/warnings/venv\u001b[0m\u001b[33m\r\n",
      "\u001b[0m"
     ]
    }
   ],
   "source": [
    "from sklearn.base import TransformerMixin, BaseEstimator\n",
    "\n",
    "! pip install pyts"
   ]
  },
  {
   "cell_type": "code",
   "execution_count": 5,
   "id": "3b1c3559",
   "metadata": {
    "execution": {
     "iopub.execute_input": "2022-10-06T01:04:21.057747Z",
     "iopub.status.busy": "2022-10-06T01:04:21.057309Z",
     "iopub.status.idle": "2022-10-06T01:04:21.824069Z",
     "shell.execute_reply": "2022-10-06T01:04:21.822899Z"
    },
    "papermill": {
     "duration": 0.775591,
     "end_time": "2022-10-06T01:04:21.827096",
     "exception": false,
     "start_time": "2022-10-06T01:04:21.051505",
     "status": "completed"
    },
    "tags": []
   },
   "outputs": [
    {
     "data": {
      "text/html": [
       "<style type='text/css'>\n",
       ".datatable table.frame { margin-bottom: 0; }\n",
       ".datatable table.frame thead { border-bottom: none; }\n",
       ".datatable table.frame tr.coltypes td {  color: #FFFFFF;  line-height: 6px;  padding: 0 0.5em;}\n",
       ".datatable .bool    { background: #DDDD99; }\n",
       ".datatable .object  { background: #565656; }\n",
       ".datatable .int     { background: #5D9E5D; }\n",
       ".datatable .float   { background: #4040CC; }\n",
       ".datatable .str     { background: #CC4040; }\n",
       ".datatable .time    { background: #40CC40; }\n",
       ".datatable .row_index {  background: var(--jp-border-color3);  border-right: 1px solid var(--jp-border-color0);  color: var(--jp-ui-font-color3);  font-size: 9px;}\n",
       ".datatable .frame tbody td { text-align: left; }\n",
       ".datatable .frame tr.coltypes .row_index {  background: var(--jp-border-color0);}\n",
       ".datatable th:nth-child(2) { padding-left: 12px; }\n",
       ".datatable .hellipsis {  color: var(--jp-cell-editor-border-color);}\n",
       ".datatable .vellipsis {  background: var(--jp-layout-color0);  color: var(--jp-cell-editor-border-color);}\n",
       ".datatable .na {  color: var(--jp-cell-editor-border-color);  font-size: 80%;}\n",
       ".datatable .sp {  opacity: 0.25;}\n",
       ".datatable .footer { font-size: 9px; }\n",
       ".datatable .frame_dimensions {  background: var(--jp-border-color3);  border-top: 1px solid var(--jp-border-color0);  color: var(--jp-ui-font-color3);  display: inline-block;  opacity: 0.6;  padding: 1px 10px 1px 5px;}\n",
       "</style>\n"
      ],
      "text/plain": [
       "<IPython.core.display.HTML object>"
      ]
     },
     "metadata": {},
     "output_type": "display_data"
    }
   ],
   "source": [
    "from tbr_apr_mds import ElementaryExtractor ,  TsfreshExtractor, MBOP, PartialClassifier "
   ]
  },
  {
   "cell_type": "code",
   "execution_count": 6,
   "id": "538b2ac2",
   "metadata": {
    "execution": {
     "iopub.execute_input": "2022-10-06T01:04:21.836946Z",
     "iopub.status.busy": "2022-10-06T01:04:21.836563Z",
     "iopub.status.idle": "2022-10-06T01:04:31.631771Z",
     "shell.execute_reply": "2022-10-06T01:04:31.629259Z"
    },
    "papermill": {
     "duration": 9.803263,
     "end_time": "2022-10-06T01:04:31.634524",
     "exception": false,
     "start_time": "2022-10-06T01:04:21.831261",
     "status": "completed"
    },
    "tags": []
   },
   "outputs": [
    {
     "name": "stdout",
     "output_type": "stream",
     "text": [
      "   sequence  subject  step  sensor_00  sensor_01  sensor_02  sensor_03  \\\n",
      "0         0       47     0          0          0          0          0   \n",
      "1         0       47     1          0          0          0          0   \n",
      "2         0       47     2          0          0          0          0   \n",
      "3         0       47     3          0          0          0          0   \n",
      "4         0       47     4          0          0          0          0   \n",
      "\n",
      "   sensor_04  sensor_05  sensor_06  sensor_07  sensor_08  sensor_09  \\\n",
      "0          0          0          0          0          0          0   \n",
      "1          0          0          0          0          0          0   \n",
      "2          0          0          0          0          0          0   \n",
      "3          0          0          0          0          0          0   \n",
      "4          0          0          0          0          0          0   \n",
      "\n",
      "   sensor_10  sensor_11  sensor_12  \n",
      "0          0          0          0  \n",
      "1          0          0          0  \n",
      "2          0          0          0  \n",
      "3          0          0          0  \n",
      "4          0          0          0  \n"
     ]
    }
   ],
   "source": [
    "df = load_raw_data('train')\n",
    "y = load_label('train')\n",
    "# df = df.loc[df.sequence<5000]\n",
    "# y = y[:5000]\n",
    "zf = df.copy()\n",
    "zf.iloc[:,3:]=(df.iloc[:,3:]==None).astype(int)\n",
    "print(zf.head())"
   ]
  },
  {
   "cell_type": "code",
   "execution_count": 7,
   "id": "30f36396",
   "metadata": {
    "execution": {
     "iopub.execute_input": "2022-10-06T01:04:31.644971Z",
     "iopub.status.busy": "2022-10-06T01:04:31.644576Z",
     "iopub.status.idle": "2022-10-06T06:11:20.378720Z",
     "shell.execute_reply": "2022-10-06T06:11:20.377448Z"
    },
    "papermill": {
     "duration": 18408.743501,
     "end_time": "2022-10-06T06:11:20.382366",
     "exception": false,
     "start_time": "2022-10-06T01:04:31.638865",
     "status": "completed"
    },
    "tags": []
   },
   "outputs": [
    {
     "name": "stdout",
     "output_type": "stream",
     "text": [
      "0\n",
      "1\n"
     ]
    },
    {
     "name": "stderr",
     "output_type": "stream",
     "text": [
      "/kaggle/usr/lib/tbr_apr_mds/tbr_apr_mds.py:521: RuntimeWarning: invalid value encountered in true_divide\n",
      "  features[f'sm_{i:0>2}'] = np.nan_to_num(features[f'std_{i:0>2}'] / np.abs(np.mean(channel, axis=1))).clip(-1e30, 1e30)\n"
     ]
    },
    {
     "name": "stdout",
     "output_type": "stream",
     "text": [
      "2\n",
      "3\n",
      "4\n",
      "5\n",
      "6\n",
      "7\n",
      "8\n"
     ]
    },
    {
     "name": "stderr",
     "output_type": "stream",
     "text": [
      "/kaggle/usr/lib/tbr_apr_mds/tbr_apr_mds.py:521: RuntimeWarning: divide by zero encountered in true_divide\n",
      "  features[f'sm_{i:0>2}'] = np.nan_to_num(features[f'std_{i:0>2}'] / np.abs(np.mean(channel, axis=1))).clip(-1e30, 1e30)\n"
     ]
    },
    {
     "name": "stdout",
     "output_type": "stream",
     "text": [
      "9\n",
      "10\n",
      "11\n",
      "12\n",
      "El. finished\n"
     ]
    },
    {
     "name": "stderr",
     "output_type": "stream",
     "text": [
      "/kaggle/usr/lib/tbr_apr_mds/tbr_apr_mds.py:536: RuntimeWarning: invalid value encountered in true_divide\n",
      "  features[f'down_mean_02'] = np.nan_to_num(features[f'down_min_02'] / features[f'down_count_02'], neginf=-40)\n"
     ]
    },
    {
     "name": "stdout",
     "output_type": "stream",
     "text": [
      "0 feature extracted\n",
      "1 feature extracted\n",
      "2 feature extracted\n",
      "3 feature extracted\n",
      "4 feature extracted\n",
      "5 feature extracted\n",
      "6 feature extracted\n",
      "7 feature extracted\n",
      "8 feature extracted\n",
      "9 feature extracted\n",
      "10 feature extracted\n",
      "11 feature extracted\n",
      "12 feature extracted\n",
      "ts finished\n",
      "0-th machine fitted\n",
      "1-th machine fitted\n",
      "2-th machine fitted\n",
      "3-th machine fitted\n",
      "4-th machine fitted\n",
      "5-th machine fitted\n",
      "6-th machine fitted\n",
      "7-th machine fitted\n",
      "8-th machine fitted\n",
      "9-th machine fitted\n",
      "10-th machine fitted\n",
      "11-th machine fitted\n",
      "12-th machine fitted\n",
      "reducing\n",
      "0-th channel finished\n",
      "Amount of reduction for 0 is: 79 to 24\n",
      "1-th channel finished\n",
      "Amount of reduction for 1 is: 84 to 24\n",
      "2-th channel finished\n",
      "Amount of reduction for 2 is: 170 to 73\n",
      "3-th channel finished\n",
      "Amount of reduction for 3 is: 80 to 24\n",
      "4-th channel finished\n",
      "Amount of reduction for 4 is: 1988 to 24\n",
      "5-th channel finished\n",
      "Amount of reduction for 5 is: 435 to 24\n",
      "6-th channel finished\n",
      "Amount of reduction for 6 is: 85 to 24\n",
      "7-th channel finished\n",
      "Amount of reduction for 7 is: 79 to 24\n",
      "8-th channel finished\n",
      "Amount of reduction for 8 is: 82 to 74\n",
      "9-th channel finished\n",
      "Amount of reduction for 9 is: 84 to 24\n",
      "10-th channel finished\n",
      "Amount of reduction for 10 is: 2709 to 24\n",
      "11-th channel finished\n",
      "Amount of reduction for 11 is: 76 to 24\n",
      "12-th channel finished\n",
      "Amount of reduction for 12 is: 7250 to 24\n",
      "fit_transform result has been saved as instance variable ft_X\n",
      "all fitted\n",
      "0\n",
      "1\n"
     ]
    },
    {
     "name": "stderr",
     "output_type": "stream",
     "text": [
      "/kaggle/usr/lib/tbr_apr_mds/tbr_apr_mds.py:521: RuntimeWarning: invalid value encountered in true_divide\n",
      "  features[f'sm_{i:0>2}'] = np.nan_to_num(features[f'std_{i:0>2}'] / np.abs(np.mean(channel, axis=1))).clip(-1e30, 1e30)\n"
     ]
    },
    {
     "name": "stdout",
     "output_type": "stream",
     "text": [
      "2\n",
      "3\n",
      "4\n",
      "5\n",
      "6\n",
      "7\n",
      "8\n",
      "9\n",
      "10\n",
      "11\n",
      "12\n",
      "El. finished\n"
     ]
    },
    {
     "name": "stderr",
     "output_type": "stream",
     "text": [
      "/kaggle/usr/lib/tbr_apr_mds/tbr_apr_mds.py:536: RuntimeWarning: invalid value encountered in true_divide\n",
      "  features[f'down_mean_02'] = np.nan_to_num(features[f'down_min_02'] / features[f'down_count_02'], neginf=-40)\n"
     ]
    },
    {
     "name": "stdout",
     "output_type": "stream",
     "text": [
      "0 feature extracted\n",
      "1 feature extracted\n",
      "2 feature extracted\n",
      "3 feature extracted\n",
      "4 feature extracted\n",
      "5 feature extracted\n",
      "6 feature extracted\n",
      "7 feature extracted\n",
      "8 feature extracted\n",
      "9 feature extracted\n",
      "10 feature extracted\n",
      "11 feature extracted\n",
      "12 feature extracted\n",
      "ts finished\n",
      "shape=(20817, 411)\n",
      "0\n",
      "1\n",
      "2\n"
     ]
    },
    {
     "name": "stderr",
     "output_type": "stream",
     "text": [
      "/kaggle/usr/lib/tbr_apr_mds/tbr_apr_mds.py:521: RuntimeWarning: invalid value encountered in true_divide\n",
      "  features[f'sm_{i:0>2}'] = np.nan_to_num(features[f'std_{i:0>2}'] / np.abs(np.mean(channel, axis=1))).clip(-1e30, 1e30)\n"
     ]
    },
    {
     "name": "stdout",
     "output_type": "stream",
     "text": [
      "3\n",
      "4\n",
      "5\n",
      "6\n"
     ]
    },
    {
     "name": "stderr",
     "output_type": "stream",
     "text": [
      "/kaggle/usr/lib/tbr_apr_mds/tbr_apr_mds.py:521: RuntimeWarning: divide by zero encountered in true_divide\n",
      "  features[f'sm_{i:0>2}'] = np.nan_to_num(features[f'std_{i:0>2}'] / np.abs(np.mean(channel, axis=1))).clip(-1e30, 1e30)\n"
     ]
    },
    {
     "name": "stdout",
     "output_type": "stream",
     "text": [
      "7\n",
      "8\n",
      "9\n",
      "10\n",
      "11\n",
      "12\n",
      "El. finished\n"
     ]
    },
    {
     "name": "stderr",
     "output_type": "stream",
     "text": [
      "/kaggle/usr/lib/tbr_apr_mds/tbr_apr_mds.py:536: RuntimeWarning: invalid value encountered in true_divide\n",
      "  features[f'down_mean_02'] = np.nan_to_num(features[f'down_min_02'] / features[f'down_count_02'], neginf=-40)\n"
     ]
    },
    {
     "name": "stdout",
     "output_type": "stream",
     "text": [
      "0 feature extracted\n",
      "1 feature extracted\n",
      "2 feature extracted\n",
      "3 feature extracted\n",
      "4 feature extracted\n",
      "5 feature extracted\n",
      "6 feature extracted\n",
      "7 feature extracted\n",
      "8 feature extracted\n",
      "9 feature extracted\n",
      "10 feature extracted\n",
      "11 feature extracted\n",
      "12 feature extracted\n",
      "ts finished\n",
      "shape=(5151, 411)\n",
      "[(0, 107), (108, 320), (321, 731)]\n",
      "(20817, 732) (5151, 732)\n",
      "model fitting on feature 0 to 107\n",
      "model fitting on feature 108 to 320\n",
      "model fitting on feature 321 to 731\n",
      "model fitting on feature 0 to 107\n",
      "model fitting on feature 108 to 320\n",
      "model fitting on feature 321 to 731\n",
      "model fitting on feature 0 to 107\n",
      "[LightGBM] [Warning] Unknown parameter: indices\n",
      "model fitting on feature 108 to 320\n",
      "model fitting on feature 321 to 731\n",
      "model fitting on feature 0 to 107\n",
      "model fitting on feature 108 to 320\n",
      "model fitting on feature 321 to 731\n",
      "model fitting on feature 0 to 107\n",
      "model fitting on feature 0 to 107\n",
      "model fitting on feature 0 to 107\n",
      "[LightGBM] [Warning] Unknown parameter: indices\n",
      "model fitting on feature 0 to 107\n",
      "[LightGBM] [Warning] Unknown parameter: indices\n",
      "model fitting on feature 0 to 107\n",
      "[LightGBM] [Warning] Unknown parameter: indices\n",
      "model fitting on feature 0 to 107\n",
      "[LightGBM] [Warning] Unknown parameter: indices\n",
      "model fitting on feature 108 to 320\n",
      "model fitting on feature 108 to 320\n",
      "[LightGBM] [Warning] Unknown parameter: indices\n",
      "model fitting on feature 108 to 320\n",
      "[LightGBM] [Warning] Unknown parameter: indices\n",
      "model fitting on feature 108 to 320\n",
      "[LightGBM] [Warning] Unknown parameter: indices\n",
      "model fitting on feature 108 to 320\n",
      "[LightGBM] [Warning] Unknown parameter: indices\n",
      "model fitting on feature 108 to 320\n",
      "[LightGBM] [Warning] Unknown parameter: indices\n",
      "model fitting on feature 321 to 731\n",
      "model fitting on feature 321 to 731\n",
      "[LightGBM] [Warning] Unknown parameter: indices\n",
      "model fitting on feature 321 to 731\n",
      "[LightGBM] [Warning] Unknown parameter: indices\n",
      "model fitting on feature 321 to 731\n",
      "[LightGBM] [Warning] Unknown parameter: indices\n",
      "model fitting on feature 321 to 731\n",
      "[LightGBM] [Warning] Unknown parameter: indices\n",
      "model fitting on feature 321 to 731\n",
      "[LightGBM] [Warning] Unknown parameter: indices\n",
      "model fitting on feature 0 to 107\n",
      "model fitting on feature 0 to 107\n",
      "[LightGBM] [Warning] Unknown parameter: indices\n",
      "model fitting on feature 0 to 107\n",
      "[LightGBM] [Warning] Unknown parameter: indices\n",
      "model fitting on feature 0 to 107\n",
      "[LightGBM] [Warning] Unknown parameter: indices\n",
      "model fitting on feature 0 to 107\n",
      "[LightGBM] [Warning] Unknown parameter: indices\n",
      "model fitting on feature 0 to 107\n",
      "[LightGBM] [Warning] Unknown parameter: indices\n",
      "model fitting on feature 108 to 320\n",
      "model fitting on feature 108 to 320\n",
      "[LightGBM] [Warning] Unknown parameter: indices\n",
      "model fitting on feature 108 to 320\n",
      "[LightGBM] [Warning] Unknown parameter: indices\n",
      "model fitting on feature 108 to 320\n",
      "[LightGBM] [Warning] Unknown parameter: indices\n",
      "model fitting on feature 108 to 320\n",
      "[LightGBM] [Warning] Unknown parameter: indices\n",
      "model fitting on feature 108 to 320\n",
      "[LightGBM] [Warning] Unknown parameter: indices\n",
      "model fitting on feature 321 to 731\n",
      "model fitting on feature 321 to 731\n",
      "[LightGBM] [Warning] Unknown parameter: indices\n",
      "model fitting on feature 321 to 731\n",
      "[LightGBM] [Warning] Unknown parameter: indices\n",
      "model fitting on feature 321 to 731\n",
      "[LightGBM] [Warning] Unknown parameter: indices\n",
      "model fitting on feature 321 to 731\n",
      "[LightGBM] [Warning] Unknown parameter: indices\n",
      "model fitting on feature 321 to 731\n",
      "[LightGBM] [Warning] Unknown parameter: indices\n",
      "0.999573746955154\n",
      "0.9665171248655194\n",
      "              precision    recall  f1-score   support\n",
      "\n",
      "           0     0.9183    0.8893    0.9036      2592\n",
      "           1     0.8913    0.9199    0.9054      2559\n",
      "\n",
      "    accuracy                         0.9045      5151\n",
      "   macro avg     0.9048    0.9046    0.9045      5151\n",
      "weighted avg     0.9049    0.9045    0.9045      5151\n",
      "\n",
      "5-fold CV score: 0.9665\n",
      "0\n",
      "1\n"
     ]
    },
    {
     "name": "stderr",
     "output_type": "stream",
     "text": [
      "/kaggle/usr/lib/tbr_apr_mds/tbr_apr_mds.py:521: RuntimeWarning: invalid value encountered in true_divide\n",
      "  features[f'sm_{i:0>2}'] = np.nan_to_num(features[f'std_{i:0>2}'] / np.abs(np.mean(channel, axis=1))).clip(-1e30, 1e30)\n"
     ]
    },
    {
     "name": "stdout",
     "output_type": "stream",
     "text": [
      "2\n",
      "3\n",
      "4\n",
      "5\n",
      "6\n"
     ]
    },
    {
     "name": "stderr",
     "output_type": "stream",
     "text": [
      "/kaggle/usr/lib/tbr_apr_mds/tbr_apr_mds.py:521: RuntimeWarning: divide by zero encountered in true_divide\n",
      "  features[f'sm_{i:0>2}'] = np.nan_to_num(features[f'std_{i:0>2}'] / np.abs(np.mean(channel, axis=1))).clip(-1e30, 1e30)\n"
     ]
    },
    {
     "name": "stdout",
     "output_type": "stream",
     "text": [
      "7\n",
      "8\n",
      "9\n",
      "10\n",
      "11\n",
      "12\n",
      "El. finished\n"
     ]
    },
    {
     "name": "stderr",
     "output_type": "stream",
     "text": [
      "/kaggle/usr/lib/tbr_apr_mds/tbr_apr_mds.py:536: RuntimeWarning: invalid value encountered in true_divide\n",
      "  features[f'down_mean_02'] = np.nan_to_num(features[f'down_min_02'] / features[f'down_count_02'], neginf=-40)\n"
     ]
    },
    {
     "name": "stdout",
     "output_type": "stream",
     "text": [
      "0 feature extracted\n",
      "1 feature extracted\n",
      "2 feature extracted\n",
      "3 feature extracted\n",
      "4 feature extracted\n",
      "5 feature extracted\n",
      "6 feature extracted\n",
      "7 feature extracted\n",
      "8 feature extracted\n",
      "9 feature extracted\n",
      "10 feature extracted\n",
      "11 feature extracted\n",
      "12 feature extracted\n",
      "ts finished\n",
      "0-th machine fitted\n",
      "1-th machine fitted\n",
      "2-th machine fitted\n",
      "3-th machine fitted\n",
      "4-th machine fitted\n",
      "5-th machine fitted\n",
      "6-th machine fitted\n",
      "7-th machine fitted\n",
      "8-th machine fitted\n",
      "9-th machine fitted\n",
      "10-th machine fitted\n",
      "11-th machine fitted\n",
      "12-th machine fitted\n",
      "reducing\n",
      "0-th channel finished\n",
      "Amount of reduction for 0 is: 80 to 24\n",
      "1-th channel finished\n",
      "Amount of reduction for 1 is: 90 to 24\n",
      "2-th channel finished\n",
      "Amount of reduction for 2 is: 174 to 73\n",
      "3-th channel finished\n",
      "Amount of reduction for 3 is: 90 to 24\n",
      "4-th channel finished\n",
      "Amount of reduction for 4 is: 1254 to 24\n",
      "5-th channel finished\n",
      "Amount of reduction for 5 is: 245 to 24\n",
      "6-th channel finished\n",
      "Amount of reduction for 6 is: 83 to 24\n",
      "7-th channel finished\n",
      "Amount of reduction for 7 is: 86 to 24\n",
      "8-th channel finished\n",
      "Amount of reduction for 8 is: 82 to 74\n",
      "9-th channel finished\n",
      "Amount of reduction for 9 is: 87 to 24\n",
      "10-th channel finished\n",
      "Amount of reduction for 10 is: 2464 to 24\n",
      "11-th channel finished\n",
      "Amount of reduction for 11 is: 78 to 24\n",
      "12-th channel finished\n",
      "Amount of reduction for 12 is: 7786 to 24\n",
      "fit_transform result has been saved as instance variable ft_X\n",
      "all fitted\n",
      "0\n"
     ]
    },
    {
     "name": "stderr",
     "output_type": "stream",
     "text": [
      "/kaggle/usr/lib/tbr_apr_mds/tbr_apr_mds.py:521: RuntimeWarning: invalid value encountered in true_divide\n",
      "  features[f'sm_{i:0>2}'] = np.nan_to_num(features[f'std_{i:0>2}'] / np.abs(np.mean(channel, axis=1))).clip(-1e30, 1e30)\n"
     ]
    },
    {
     "name": "stdout",
     "output_type": "stream",
     "text": [
      "1\n",
      "2\n",
      "3\n",
      "4\n",
      "5\n",
      "6\n",
      "7\n",
      "8\n",
      "9\n",
      "10\n",
      "11\n",
      "12\n",
      "El. finished\n"
     ]
    },
    {
     "name": "stderr",
     "output_type": "stream",
     "text": [
      "/kaggle/usr/lib/tbr_apr_mds/tbr_apr_mds.py:536: RuntimeWarning: invalid value encountered in true_divide\n",
      "  features[f'down_mean_02'] = np.nan_to_num(features[f'down_min_02'] / features[f'down_count_02'], neginf=-40)\n"
     ]
    },
    {
     "name": "stdout",
     "output_type": "stream",
     "text": [
      "0 feature extracted\n",
      "1 feature extracted\n",
      "2 feature extracted\n",
      "3 feature extracted\n",
      "4 feature extracted\n",
      "5 feature extracted\n",
      "6 feature extracted\n",
      "7 feature extracted\n",
      "8 feature extracted\n",
      "9 feature extracted\n",
      "10 feature extracted\n",
      "11 feature extracted\n",
      "12 feature extracted\n",
      "ts finished\n",
      "shape=(21369, 411)\n",
      "0\n",
      "1\n",
      "2\n",
      "3\n"
     ]
    },
    {
     "name": "stderr",
     "output_type": "stream",
     "text": [
      "/kaggle/usr/lib/tbr_apr_mds/tbr_apr_mds.py:521: RuntimeWarning: invalid value encountered in true_divide\n",
      "  features[f'sm_{i:0>2}'] = np.nan_to_num(features[f'std_{i:0>2}'] / np.abs(np.mean(channel, axis=1))).clip(-1e30, 1e30)\n"
     ]
    },
    {
     "name": "stdout",
     "output_type": "stream",
     "text": [
      "4\n",
      "5\n",
      "6\n",
      "7\n",
      "8\n",
      "9\n",
      "10\n",
      "11\n"
     ]
    },
    {
     "name": "stderr",
     "output_type": "stream",
     "text": [
      "/kaggle/usr/lib/tbr_apr_mds/tbr_apr_mds.py:521: RuntimeWarning: divide by zero encountered in true_divide\n",
      "  features[f'sm_{i:0>2}'] = np.nan_to_num(features[f'std_{i:0>2}'] / np.abs(np.mean(channel, axis=1))).clip(-1e30, 1e30)\n"
     ]
    },
    {
     "name": "stdout",
     "output_type": "stream",
     "text": [
      "12\n",
      "El. finished\n"
     ]
    },
    {
     "name": "stderr",
     "output_type": "stream",
     "text": [
      "/kaggle/usr/lib/tbr_apr_mds/tbr_apr_mds.py:536: RuntimeWarning: invalid value encountered in true_divide\n",
      "  features[f'down_mean_02'] = np.nan_to_num(features[f'down_min_02'] / features[f'down_count_02'], neginf=-40)\n"
     ]
    },
    {
     "name": "stdout",
     "output_type": "stream",
     "text": [
      "0 feature extracted\n",
      "1 feature extracted\n",
      "2 feature extracted\n",
      "3 feature extracted\n",
      "4 feature extracted\n",
      "5 feature extracted\n",
      "6 feature extracted\n",
      "7 feature extracted\n",
      "8 feature extracted\n",
      "9 feature extracted\n",
      "10 feature extracted\n",
      "11 feature extracted\n",
      "12 feature extracted\n",
      "ts finished\n",
      "shape=(4599, 411)\n",
      "[(0, 107), (108, 320), (321, 731)]\n",
      "(21369, 732) (4599, 732)\n",
      "model fitting on feature 0 to 107\n",
      "model fitting on feature 108 to 320\n",
      "model fitting on feature 321 to 731\n",
      "model fitting on feature 0 to 107\n",
      "model fitting on feature 108 to 320\n",
      "model fitting on feature 321 to 731\n",
      "model fitting on feature 0 to 107\n",
      "[LightGBM] [Warning] Unknown parameter: indices\n",
      "model fitting on feature 108 to 320\n",
      "model fitting on feature 321 to 731\n",
      "model fitting on feature 0 to 107\n",
      "model fitting on feature 108 to 320\n",
      "model fitting on feature 321 to 731\n",
      "model fitting on feature 0 to 107\n",
      "model fitting on feature 0 to 107\n",
      "model fitting on feature 0 to 107\n",
      "[LightGBM] [Warning] Unknown parameter: indices\n",
      "model fitting on feature 0 to 107\n",
      "[LightGBM] [Warning] Unknown parameter: indices\n",
      "model fitting on feature 0 to 107\n",
      "[LightGBM] [Warning] Unknown parameter: indices\n",
      "model fitting on feature 0 to 107\n",
      "[LightGBM] [Warning] Unknown parameter: indices\n",
      "model fitting on feature 108 to 320\n",
      "model fitting on feature 108 to 320\n",
      "[LightGBM] [Warning] Unknown parameter: indices\n",
      "model fitting on feature 108 to 320\n",
      "[LightGBM] [Warning] Unknown parameter: indices\n",
      "model fitting on feature 108 to 320\n",
      "[LightGBM] [Warning] Unknown parameter: indices\n",
      "model fitting on feature 108 to 320\n",
      "[LightGBM] [Warning] Unknown parameter: indices\n",
      "model fitting on feature 108 to 320\n",
      "[LightGBM] [Warning] Unknown parameter: indices\n",
      "model fitting on feature 321 to 731\n",
      "model fitting on feature 321 to 731\n",
      "[LightGBM] [Warning] Unknown parameter: indices\n",
      "model fitting on feature 321 to 731\n",
      "[LightGBM] [Warning] Unknown parameter: indices\n",
      "model fitting on feature 321 to 731\n",
      "[LightGBM] [Warning] Unknown parameter: indices\n",
      "model fitting on feature 321 to 731\n",
      "[LightGBM] [Warning] Unknown parameter: indices\n",
      "model fitting on feature 321 to 731\n",
      "[LightGBM] [Warning] Unknown parameter: indices\n",
      "model fitting on feature 0 to 107\n",
      "model fitting on feature 0 to 107\n",
      "[LightGBM] [Warning] Unknown parameter: indices\n",
      "model fitting on feature 0 to 107\n",
      "[LightGBM] [Warning] Unknown parameter: indices\n",
      "model fitting on feature 0 to 107\n",
      "[LightGBM] [Warning] Unknown parameter: indices\n",
      "model fitting on feature 0 to 107\n",
      "[LightGBM] [Warning] Unknown parameter: indices\n",
      "model fitting on feature 0 to 107\n",
      "[LightGBM] [Warning] Unknown parameter: indices\n",
      "model fitting on feature 108 to 320\n",
      "model fitting on feature 108 to 320\n",
      "[LightGBM] [Warning] Unknown parameter: indices\n",
      "model fitting on feature 108 to 320\n",
      "[LightGBM] [Warning] Unknown parameter: indices\n",
      "model fitting on feature 108 to 320\n",
      "[LightGBM] [Warning] Unknown parameter: indices\n",
      "model fitting on feature 108 to 320\n",
      "[LightGBM] [Warning] Unknown parameter: indices\n",
      "model fitting on feature 108 to 320\n",
      "[LightGBM] [Warning] Unknown parameter: indices\n",
      "model fitting on feature 321 to 731\n",
      "model fitting on feature 321 to 731\n",
      "[LightGBM] [Warning] Unknown parameter: indices\n",
      "model fitting on feature 321 to 731\n",
      "[LightGBM] [Warning] Unknown parameter: indices\n",
      "model fitting on feature 321 to 731\n",
      "[LightGBM] [Warning] Unknown parameter: indices\n",
      "model fitting on feature 321 to 731\n",
      "[LightGBM] [Warning] Unknown parameter: indices\n",
      "model fitting on feature 321 to 731\n",
      "[LightGBM] [Warning] Unknown parameter: indices\n",
      "0.9993470373827582\n",
      "0.9657898588144478\n",
      "              precision    recall  f1-score   support\n",
      "\n",
      "           0     0.9329    0.8881    0.9099      2412\n",
      "           1     0.8828    0.9296    0.9056      2187\n",
      "\n",
      "    accuracy                         0.9078      4599\n",
      "   macro avg     0.9078    0.9088    0.9078      4599\n",
      "weighted avg     0.9091    0.9078    0.9079      4599\n",
      "\n",
      "5-fold CV score: 0.9662\n",
      "0\n",
      "1\n"
     ]
    },
    {
     "name": "stderr",
     "output_type": "stream",
     "text": [
      "/kaggle/usr/lib/tbr_apr_mds/tbr_apr_mds.py:521: RuntimeWarning: invalid value encountered in true_divide\n",
      "  features[f'sm_{i:0>2}'] = np.nan_to_num(features[f'std_{i:0>2}'] / np.abs(np.mean(channel, axis=1))).clip(-1e30, 1e30)\n"
     ]
    },
    {
     "name": "stdout",
     "output_type": "stream",
     "text": [
      "2\n",
      "3\n",
      "4\n",
      "5\n",
      "6\n"
     ]
    },
    {
     "name": "stderr",
     "output_type": "stream",
     "text": [
      "/kaggle/usr/lib/tbr_apr_mds/tbr_apr_mds.py:521: RuntimeWarning: divide by zero encountered in true_divide\n",
      "  features[f'sm_{i:0>2}'] = np.nan_to_num(features[f'std_{i:0>2}'] / np.abs(np.mean(channel, axis=1))).clip(-1e30, 1e30)\n"
     ]
    },
    {
     "name": "stdout",
     "output_type": "stream",
     "text": [
      "7\n",
      "8\n",
      "9\n",
      "10\n",
      "11\n",
      "12\n",
      "El. finished\n"
     ]
    },
    {
     "name": "stderr",
     "output_type": "stream",
     "text": [
      "/kaggle/usr/lib/tbr_apr_mds/tbr_apr_mds.py:536: RuntimeWarning: invalid value encountered in true_divide\n",
      "  features[f'down_mean_02'] = np.nan_to_num(features[f'down_min_02'] / features[f'down_count_02'], neginf=-40)\n"
     ]
    },
    {
     "name": "stdout",
     "output_type": "stream",
     "text": [
      "0 feature extracted\n",
      "1 feature extracted\n",
      "2 feature extracted\n",
      "3 feature extracted\n",
      "4 feature extracted\n",
      "5 feature extracted\n",
      "6 feature extracted\n",
      "7 feature extracted\n",
      "8 feature extracted\n",
      "9 feature extracted\n",
      "10 feature extracted\n",
      "11 feature extracted\n",
      "12 feature extracted\n",
      "ts finished\n",
      "0-th machine fitted\n",
      "1-th machine fitted\n",
      "2-th machine fitted\n",
      "3-th machine fitted\n",
      "4-th machine fitted\n",
      "5-th machine fitted\n",
      "6-th machine fitted\n",
      "7-th machine fitted\n",
      "8-th machine fitted\n",
      "9-th machine fitted\n",
      "10-th machine fitted\n",
      "11-th machine fitted\n",
      "12-th machine fitted\n",
      "reducing\n",
      "0-th channel finished\n",
      "Amount of reduction for 0 is: 78 to 24\n",
      "1-th channel finished\n",
      "Amount of reduction for 1 is: 90 to 24\n",
      "2-th channel finished\n",
      "Amount of reduction for 2 is: 172 to 73\n",
      "3-th channel finished\n",
      "Amount of reduction for 3 is: 89 to 24\n",
      "4-th channel finished\n",
      "Amount of reduction for 4 is: 2019 to 24\n",
      "5-th channel finished\n",
      "Amount of reduction for 5 is: 457 to 24\n",
      "6-th channel finished\n",
      "Amount of reduction for 6 is: 84 to 24\n",
      "7-th channel finished\n",
      "Amount of reduction for 7 is: 86 to 24\n",
      "8-th channel finished\n",
      "Amount of reduction for 8 is: 82 to 74\n",
      "9-th channel finished\n",
      "Amount of reduction for 9 is: 89 to 24\n",
      "10-th channel finished\n",
      "Amount of reduction for 10 is: 2759 to 24\n",
      "11-th channel finished\n",
      "Amount of reduction for 11 is: 76 to 24\n",
      "12-th channel finished\n",
      "Amount of reduction for 12 is: 7269 to 24\n",
      "fit_transform result has been saved as instance variable ft_X\n",
      "all fitted\n",
      "0\n"
     ]
    },
    {
     "name": "stderr",
     "output_type": "stream",
     "text": [
      "/kaggle/usr/lib/tbr_apr_mds/tbr_apr_mds.py:521: RuntimeWarning: invalid value encountered in true_divide\n",
      "  features[f'sm_{i:0>2}'] = np.nan_to_num(features[f'std_{i:0>2}'] / np.abs(np.mean(channel, axis=1))).clip(-1e30, 1e30)\n"
     ]
    },
    {
     "name": "stdout",
     "output_type": "stream",
     "text": [
      "1\n",
      "2\n",
      "3\n",
      "4\n",
      "5\n",
      "6\n",
      "7\n",
      "8\n",
      "9\n",
      "10\n",
      "11\n",
      "12\n",
      "El. finished\n"
     ]
    },
    {
     "name": "stderr",
     "output_type": "stream",
     "text": [
      "/kaggle/usr/lib/tbr_apr_mds/tbr_apr_mds.py:536: RuntimeWarning: invalid value encountered in true_divide\n",
      "  features[f'down_mean_02'] = np.nan_to_num(features[f'down_min_02'] / features[f'down_count_02'], neginf=-40)\n"
     ]
    },
    {
     "name": "stdout",
     "output_type": "stream",
     "text": [
      "0 feature extracted\n",
      "1 feature extracted\n",
      "2 feature extracted\n",
      "3 feature extracted\n",
      "4 feature extracted\n",
      "5 feature extracted\n",
      "6 feature extracted\n",
      "7 feature extracted\n",
      "8 feature extracted\n",
      "9 feature extracted\n",
      "10 feature extracted\n",
      "11 feature extracted\n",
      "12 feature extracted\n",
      "ts finished\n",
      "shape=(19964, 411)\n",
      "0\n",
      "1\n",
      "2\n"
     ]
    },
    {
     "name": "stderr",
     "output_type": "stream",
     "text": [
      "/kaggle/usr/lib/tbr_apr_mds/tbr_apr_mds.py:521: RuntimeWarning: invalid value encountered in true_divide\n",
      "  features[f'sm_{i:0>2}'] = np.nan_to_num(features[f'std_{i:0>2}'] / np.abs(np.mean(channel, axis=1))).clip(-1e30, 1e30)\n"
     ]
    },
    {
     "name": "stdout",
     "output_type": "stream",
     "text": [
      "3\n",
      "4\n",
      "5\n",
      "6\n",
      "7\n",
      "8\n"
     ]
    },
    {
     "name": "stderr",
     "output_type": "stream",
     "text": [
      "/kaggle/usr/lib/tbr_apr_mds/tbr_apr_mds.py:521: RuntimeWarning: divide by zero encountered in true_divide\n",
      "  features[f'sm_{i:0>2}'] = np.nan_to_num(features[f'std_{i:0>2}'] / np.abs(np.mean(channel, axis=1))).clip(-1e30, 1e30)\n"
     ]
    },
    {
     "name": "stdout",
     "output_type": "stream",
     "text": [
      "9\n",
      "10\n",
      "11\n",
      "12\n",
      "El. finished\n"
     ]
    },
    {
     "name": "stderr",
     "output_type": "stream",
     "text": [
      "/kaggle/usr/lib/tbr_apr_mds/tbr_apr_mds.py:536: RuntimeWarning: invalid value encountered in true_divide\n",
      "  features[f'down_mean_02'] = np.nan_to_num(features[f'down_min_02'] / features[f'down_count_02'], neginf=-40)\n"
     ]
    },
    {
     "name": "stdout",
     "output_type": "stream",
     "text": [
      "0 feature extracted\n",
      "1 feature extracted\n",
      "2 feature extracted\n",
      "3 feature extracted\n",
      "4 feature extracted\n",
      "5 feature extracted\n",
      "6 feature extracted\n",
      "7 feature extracted\n",
      "8 feature extracted\n",
      "9 feature extracted\n",
      "10 feature extracted\n",
      "11 feature extracted\n",
      "12 feature extracted\n",
      "ts finished\n",
      "shape=(6004, 411)\n",
      "[(0, 107), (108, 320), (321, 731)]\n",
      "(19964, 732) (6004, 732)\n",
      "model fitting on feature 0 to 107\n",
      "model fitting on feature 108 to 320\n",
      "model fitting on feature 321 to 731\n",
      "model fitting on feature 0 to 107\n",
      "model fitting on feature 108 to 320\n",
      "model fitting on feature 321 to 731\n",
      "model fitting on feature 0 to 107\n",
      "[LightGBM] [Warning] Unknown parameter: indices\n",
      "model fitting on feature 108 to 320\n",
      "model fitting on feature 321 to 731\n",
      "model fitting on feature 0 to 107\n",
      "model fitting on feature 108 to 320\n",
      "model fitting on feature 321 to 731\n",
      "model fitting on feature 0 to 107\n",
      "model fitting on feature 0 to 107\n",
      "model fitting on feature 0 to 107\n",
      "[LightGBM] [Warning] Unknown parameter: indices\n",
      "model fitting on feature 0 to 107\n",
      "[LightGBM] [Warning] Unknown parameter: indices\n",
      "model fitting on feature 0 to 107\n",
      "[LightGBM] [Warning] Unknown parameter: indices\n",
      "model fitting on feature 0 to 107\n",
      "[LightGBM] [Warning] Unknown parameter: indices\n",
      "model fitting on feature 108 to 320\n",
      "model fitting on feature 108 to 320\n",
      "[LightGBM] [Warning] Unknown parameter: indices\n",
      "model fitting on feature 108 to 320\n",
      "[LightGBM] [Warning] Unknown parameter: indices\n",
      "model fitting on feature 108 to 320\n",
      "[LightGBM] [Warning] Unknown parameter: indices\n",
      "model fitting on feature 108 to 320\n",
      "[LightGBM] [Warning] Unknown parameter: indices\n",
      "model fitting on feature 108 to 320\n",
      "[LightGBM] [Warning] Unknown parameter: indices\n",
      "model fitting on feature 321 to 731\n",
      "model fitting on feature 321 to 731\n",
      "[LightGBM] [Warning] Unknown parameter: indices\n",
      "model fitting on feature 321 to 731\n",
      "[LightGBM] [Warning] Unknown parameter: indices\n",
      "model fitting on feature 321 to 731\n",
      "[LightGBM] [Warning] Unknown parameter: indices\n",
      "model fitting on feature 321 to 731\n",
      "[LightGBM] [Warning] Unknown parameter: indices\n",
      "model fitting on feature 321 to 731\n",
      "[LightGBM] [Warning] Unknown parameter: indices\n",
      "model fitting on feature 0 to 107\n",
      "model fitting on feature 0 to 107\n",
      "[LightGBM] [Warning] Unknown parameter: indices\n",
      "model fitting on feature 0 to 107\n",
      "[LightGBM] [Warning] Unknown parameter: indices\n",
      "model fitting on feature 0 to 107\n",
      "[LightGBM] [Warning] Unknown parameter: indices\n",
      "model fitting on feature 0 to 107\n",
      "[LightGBM] [Warning] Unknown parameter: indices\n",
      "model fitting on feature 0 to 107\n",
      "[LightGBM] [Warning] Unknown parameter: indices\n",
      "model fitting on feature 108 to 320\n",
      "model fitting on feature 108 to 320\n",
      "[LightGBM] [Warning] Unknown parameter: indices\n",
      "model fitting on feature 108 to 320\n",
      "[LightGBM] [Warning] Unknown parameter: indices\n",
      "model fitting on feature 108 to 320\n",
      "[LightGBM] [Warning] Unknown parameter: indices\n",
      "model fitting on feature 108 to 320\n",
      "[LightGBM] [Warning] Unknown parameter: indices\n",
      "model fitting on feature 108 to 320\n",
      "[LightGBM] [Warning] Unknown parameter: indices\n",
      "model fitting on feature 321 to 731\n",
      "model fitting on feature 321 to 731\n",
      "[LightGBM] [Warning] Unknown parameter: indices\n",
      "model fitting on feature 321 to 731\n",
      "[LightGBM] [Warning] Unknown parameter: indices\n",
      "model fitting on feature 321 to 731\n",
      "[LightGBM] [Warning] Unknown parameter: indices\n",
      "model fitting on feature 321 to 731\n",
      "[LightGBM] [Warning] Unknown parameter: indices\n",
      "model fitting on feature 321 to 731\n",
      "[LightGBM] [Warning] Unknown parameter: indices\n",
      "0.9995941342780342\n",
      "0.9531674368366728\n",
      "              precision    recall  f1-score   support\n",
      "\n",
      "           0     0.8821    0.8802    0.8812      2789\n",
      "           1     0.8963    0.8980    0.8971      3215\n",
      "\n",
      "    accuracy                         0.8897      6004\n",
      "   macro avg     0.8892    0.8891    0.8892      6004\n",
      "weighted avg     0.8897    0.8897    0.8897      6004\n",
      "\n",
      "5-fold CV score: 0.9618\n",
      "0\n",
      "1\n"
     ]
    },
    {
     "name": "stderr",
     "output_type": "stream",
     "text": [
      "/kaggle/usr/lib/tbr_apr_mds/tbr_apr_mds.py:521: RuntimeWarning: invalid value encountered in true_divide\n",
      "  features[f'sm_{i:0>2}'] = np.nan_to_num(features[f'std_{i:0>2}'] / np.abs(np.mean(channel, axis=1))).clip(-1e30, 1e30)\n"
     ]
    },
    {
     "name": "stdout",
     "output_type": "stream",
     "text": [
      "2\n",
      "3\n",
      "4\n",
      "5\n",
      "6\n"
     ]
    },
    {
     "name": "stderr",
     "output_type": "stream",
     "text": [
      "/kaggle/usr/lib/tbr_apr_mds/tbr_apr_mds.py:521: RuntimeWarning: divide by zero encountered in true_divide\n",
      "  features[f'sm_{i:0>2}'] = np.nan_to_num(features[f'std_{i:0>2}'] / np.abs(np.mean(channel, axis=1))).clip(-1e30, 1e30)\n"
     ]
    },
    {
     "name": "stdout",
     "output_type": "stream",
     "text": [
      "7\n",
      "8\n",
      "9\n",
      "10\n",
      "11\n",
      "12\n",
      "El. finished\n"
     ]
    },
    {
     "name": "stderr",
     "output_type": "stream",
     "text": [
      "/kaggle/usr/lib/tbr_apr_mds/tbr_apr_mds.py:536: RuntimeWarning: invalid value encountered in true_divide\n",
      "  features[f'down_mean_02'] = np.nan_to_num(features[f'down_min_02'] / features[f'down_count_02'], neginf=-40)\n"
     ]
    },
    {
     "name": "stdout",
     "output_type": "stream",
     "text": [
      "0 feature extracted\n",
      "1 feature extracted\n",
      "2 feature extracted\n",
      "3 feature extracted\n",
      "4 feature extracted\n",
      "5 feature extracted\n",
      "6 feature extracted\n",
      "7 feature extracted\n",
      "8 feature extracted\n",
      "9 feature extracted\n",
      "10 feature extracted\n",
      "11 feature extracted\n",
      "12 feature extracted\n",
      "ts finished\n",
      "0-th machine fitted\n",
      "1-th machine fitted\n",
      "2-th machine fitted\n",
      "3-th machine fitted\n",
      "4-th machine fitted\n",
      "5-th machine fitted\n",
      "6-th machine fitted\n",
      "7-th machine fitted\n",
      "8-th machine fitted\n",
      "9-th machine fitted\n",
      "10-th machine fitted\n",
      "11-th machine fitted\n",
      "12-th machine fitted\n",
      "reducing\n",
      "0-th channel finished\n",
      "Amount of reduction for 0 is: 82 to 24\n",
      "1-th channel finished\n",
      "Amount of reduction for 1 is: 84 to 24\n",
      "2-th channel finished\n",
      "Amount of reduction for 2 is: 172 to 73\n",
      "3-th channel finished\n",
      "Amount of reduction for 3 is: 89 to 24\n",
      "4-th channel finished\n",
      "Amount of reduction for 4 is: 2205 to 24\n",
      "5-th channel finished\n",
      "Amount of reduction for 5 is: 469 to 24\n",
      "6-th channel finished\n",
      "Amount of reduction for 6 is: 85 to 24\n",
      "7-th channel finished\n",
      "Amount of reduction for 7 is: 88 to 24\n",
      "8-th channel finished\n",
      "Amount of reduction for 8 is: 82 to 74\n",
      "9-th channel finished\n",
      "Amount of reduction for 9 is: 86 to 24\n",
      "10-th channel finished\n",
      "Amount of reduction for 10 is: 1576 to 24\n",
      "11-th channel finished\n",
      "Amount of reduction for 11 is: 78 to 24\n",
      "12-th channel finished\n",
      "Amount of reduction for 12 is: 7432 to 24\n",
      "fit_transform result has been saved as instance variable ft_X\n",
      "all fitted\n",
      "0\n"
     ]
    },
    {
     "name": "stderr",
     "output_type": "stream",
     "text": [
      "/kaggle/usr/lib/tbr_apr_mds/tbr_apr_mds.py:521: RuntimeWarning: invalid value encountered in true_divide\n",
      "  features[f'sm_{i:0>2}'] = np.nan_to_num(features[f'std_{i:0>2}'] / np.abs(np.mean(channel, axis=1))).clip(-1e30, 1e30)\n"
     ]
    },
    {
     "name": "stdout",
     "output_type": "stream",
     "text": [
      "1\n",
      "2\n",
      "3\n",
      "4\n",
      "5\n",
      "6\n",
      "7\n",
      "8\n",
      "9\n",
      "10\n",
      "11\n",
      "12\n",
      "El. finished\n"
     ]
    },
    {
     "name": "stderr",
     "output_type": "stream",
     "text": [
      "/kaggle/usr/lib/tbr_apr_mds/tbr_apr_mds.py:536: RuntimeWarning: invalid value encountered in true_divide\n",
      "  features[f'down_mean_02'] = np.nan_to_num(features[f'down_min_02'] / features[f'down_count_02'], neginf=-40)\n"
     ]
    },
    {
     "name": "stdout",
     "output_type": "stream",
     "text": [
      "0 feature extracted\n",
      "1 feature extracted\n",
      "2 feature extracted\n",
      "3 feature extracted\n",
      "4 feature extracted\n",
      "5 feature extracted\n",
      "6 feature extracted\n",
      "7 feature extracted\n",
      "8 feature extracted\n",
      "9 feature extracted\n",
      "10 feature extracted\n",
      "11 feature extracted\n",
      "12 feature extracted\n",
      "ts finished\n",
      "shape=(20714, 411)\n",
      "0\n",
      "1\n",
      "2\n",
      "3\n"
     ]
    },
    {
     "name": "stderr",
     "output_type": "stream",
     "text": [
      "/kaggle/usr/lib/tbr_apr_mds/tbr_apr_mds.py:521: RuntimeWarning: invalid value encountered in true_divide\n",
      "  features[f'sm_{i:0>2}'] = np.nan_to_num(features[f'std_{i:0>2}'] / np.abs(np.mean(channel, axis=1))).clip(-1e30, 1e30)\n"
     ]
    },
    {
     "name": "stdout",
     "output_type": "stream",
     "text": [
      "4\n",
      "5\n",
      "6\n",
      "7\n",
      "8\n",
      "9\n",
      "10\n",
      "11\n"
     ]
    },
    {
     "name": "stderr",
     "output_type": "stream",
     "text": [
      "/kaggle/usr/lib/tbr_apr_mds/tbr_apr_mds.py:521: RuntimeWarning: divide by zero encountered in true_divide\n",
      "  features[f'sm_{i:0>2}'] = np.nan_to_num(features[f'std_{i:0>2}'] / np.abs(np.mean(channel, axis=1))).clip(-1e30, 1e30)\n"
     ]
    },
    {
     "name": "stdout",
     "output_type": "stream",
     "text": [
      "12\n",
      "El. finished\n"
     ]
    },
    {
     "name": "stderr",
     "output_type": "stream",
     "text": [
      "/kaggle/usr/lib/tbr_apr_mds/tbr_apr_mds.py:536: RuntimeWarning: invalid value encountered in true_divide\n",
      "  features[f'down_mean_02'] = np.nan_to_num(features[f'down_min_02'] / features[f'down_count_02'], neginf=-40)\n"
     ]
    },
    {
     "name": "stdout",
     "output_type": "stream",
     "text": [
      "0 feature extracted\n",
      "1 feature extracted\n",
      "2 feature extracted\n",
      "3 feature extracted\n",
      "4 feature extracted\n",
      "5 feature extracted\n",
      "6 feature extracted\n",
      "7 feature extracted\n",
      "8 feature extracted\n",
      "9 feature extracted\n",
      "10 feature extracted\n",
      "11 feature extracted\n",
      "12 feature extracted\n",
      "ts finished\n",
      "shape=(5254, 411)\n",
      "[(0, 107), (108, 320), (321, 731)]\n",
      "(20714, 732) (5254, 732)\n",
      "model fitting on feature 0 to 107\n",
      "model fitting on feature 108 to 320\n",
      "model fitting on feature 321 to 731\n",
      "model fitting on feature 0 to 107\n",
      "model fitting on feature 108 to 320\n",
      "model fitting on feature 321 to 731\n",
      "model fitting on feature 0 to 107\n",
      "[LightGBM] [Warning] Unknown parameter: indices\n",
      "model fitting on feature 108 to 320\n",
      "model fitting on feature 321 to 731\n",
      "model fitting on feature 0 to 107\n",
      "model fitting on feature 108 to 320\n",
      "model fitting on feature 321 to 731\n",
      "model fitting on feature 0 to 107\n",
      "model fitting on feature 0 to 107\n",
      "model fitting on feature 0 to 107\n",
      "[LightGBM] [Warning] Unknown parameter: indices\n",
      "model fitting on feature 0 to 107\n",
      "[LightGBM] [Warning] Unknown parameter: indices\n",
      "model fitting on feature 0 to 107\n",
      "[LightGBM] [Warning] Unknown parameter: indices\n",
      "model fitting on feature 0 to 107\n",
      "[LightGBM] [Warning] Unknown parameter: indices\n",
      "model fitting on feature 108 to 320\n",
      "model fitting on feature 108 to 320\n",
      "[LightGBM] [Warning] Unknown parameter: indices\n",
      "model fitting on feature 108 to 320\n",
      "[LightGBM] [Warning] Unknown parameter: indices\n",
      "model fitting on feature 108 to 320\n",
      "[LightGBM] [Warning] Unknown parameter: indices\n",
      "model fitting on feature 108 to 320\n",
      "[LightGBM] [Warning] Unknown parameter: indices\n",
      "model fitting on feature 108 to 320\n",
      "[LightGBM] [Warning] Unknown parameter: indices\n",
      "model fitting on feature 321 to 731\n",
      "model fitting on feature 321 to 731\n",
      "[LightGBM] [Warning] Unknown parameter: indices\n",
      "model fitting on feature 321 to 731\n",
      "[LightGBM] [Warning] Unknown parameter: indices\n",
      "model fitting on feature 321 to 731\n",
      "[LightGBM] [Warning] Unknown parameter: indices\n",
      "model fitting on feature 321 to 731\n",
      "[LightGBM] [Warning] Unknown parameter: indices\n",
      "model fitting on feature 321 to 731\n",
      "[LightGBM] [Warning] Unknown parameter: indices\n",
      "model fitting on feature 0 to 107\n",
      "model fitting on feature 0 to 107\n",
      "[LightGBM] [Warning] Unknown parameter: indices\n",
      "model fitting on feature 0 to 107\n",
      "[LightGBM] [Warning] Unknown parameter: indices\n",
      "model fitting on feature 0 to 107\n",
      "[LightGBM] [Warning] Unknown parameter: indices\n",
      "model fitting on feature 0 to 107\n",
      "[LightGBM] [Warning] Unknown parameter: indices\n",
      "model fitting on feature 0 to 107\n",
      "[LightGBM] [Warning] Unknown parameter: indices\n",
      "model fitting on feature 108 to 320\n",
      "model fitting on feature 108 to 320\n",
      "[LightGBM] [Warning] Unknown parameter: indices\n",
      "model fitting on feature 108 to 320\n",
      "[LightGBM] [Warning] Unknown parameter: indices\n",
      "model fitting on feature 108 to 320\n",
      "[LightGBM] [Warning] Unknown parameter: indices\n",
      "model fitting on feature 108 to 320\n",
      "[LightGBM] [Warning] Unknown parameter: indices\n",
      "model fitting on feature 108 to 320\n",
      "[LightGBM] [Warning] Unknown parameter: indices\n",
      "model fitting on feature 321 to 731\n",
      "model fitting on feature 321 to 731\n",
      "[LightGBM] [Warning] Unknown parameter: indices\n",
      "model fitting on feature 321 to 731\n",
      "[LightGBM] [Warning] Unknown parameter: indices\n",
      "model fitting on feature 321 to 731\n",
      "[LightGBM] [Warning] Unknown parameter: indices\n",
      "model fitting on feature 321 to 731\n",
      "[LightGBM] [Warning] Unknown parameter: indices\n",
      "model fitting on feature 321 to 731\n",
      "[LightGBM] [Warning] Unknown parameter: indices\n",
      "0.9991328222566701\n",
      "0.965508629638866\n",
      "              precision    recall  f1-score   support\n",
      "\n",
      "           0     0.9152    0.8885    0.9016      2564\n",
      "           1     0.8966    0.9216    0.9089      2690\n",
      "\n",
      "    accuracy                         0.9054      5254\n",
      "   macro avg     0.9059    0.9050    0.9053      5254\n",
      "weighted avg     0.9057    0.9054    0.9054      5254\n",
      "\n",
      "5-fold CV score: 0.9627\n",
      "0\n",
      "1\n"
     ]
    },
    {
     "name": "stderr",
     "output_type": "stream",
     "text": [
      "/kaggle/usr/lib/tbr_apr_mds/tbr_apr_mds.py:521: RuntimeWarning: invalid value encountered in true_divide\n",
      "  features[f'sm_{i:0>2}'] = np.nan_to_num(features[f'std_{i:0>2}'] / np.abs(np.mean(channel, axis=1))).clip(-1e30, 1e30)\n"
     ]
    },
    {
     "name": "stdout",
     "output_type": "stream",
     "text": [
      "2\n",
      "3\n",
      "4\n",
      "5\n",
      "6\n"
     ]
    },
    {
     "name": "stderr",
     "output_type": "stream",
     "text": [
      "/kaggle/usr/lib/tbr_apr_mds/tbr_apr_mds.py:521: RuntimeWarning: divide by zero encountered in true_divide\n",
      "  features[f'sm_{i:0>2}'] = np.nan_to_num(features[f'std_{i:0>2}'] / np.abs(np.mean(channel, axis=1))).clip(-1e30, 1e30)\n"
     ]
    },
    {
     "name": "stdout",
     "output_type": "stream",
     "text": [
      "7\n",
      "8\n",
      "9\n",
      "10\n",
      "11\n",
      "12\n",
      "El. finished\n"
     ]
    },
    {
     "name": "stderr",
     "output_type": "stream",
     "text": [
      "/kaggle/usr/lib/tbr_apr_mds/tbr_apr_mds.py:536: RuntimeWarning: invalid value encountered in true_divide\n",
      "  features[f'down_mean_02'] = np.nan_to_num(features[f'down_min_02'] / features[f'down_count_02'], neginf=-40)\n"
     ]
    },
    {
     "name": "stdout",
     "output_type": "stream",
     "text": [
      "0 feature extracted\n",
      "1 feature extracted\n",
      "2 feature extracted\n",
      "3 feature extracted\n",
      "4 feature extracted\n",
      "5 feature extracted\n",
      "6 feature extracted\n",
      "7 feature extracted\n",
      "8 feature extracted\n",
      "9 feature extracted\n",
      "10 feature extracted\n",
      "11 feature extracted\n",
      "12 feature extracted\n",
      "ts finished\n",
      "0-th machine fitted\n",
      "1-th machine fitted\n",
      "2-th machine fitted\n",
      "3-th machine fitted\n",
      "4-th machine fitted\n",
      "5-th machine fitted\n",
      "6-th machine fitted\n",
      "7-th machine fitted\n",
      "8-th machine fitted\n",
      "9-th machine fitted\n",
      "10-th machine fitted\n",
      "11-th machine fitted\n",
      "12-th machine fitted\n",
      "reducing\n",
      "0-th channel finished\n",
      "Amount of reduction for 0 is: 80 to 24\n",
      "1-th channel finished\n",
      "Amount of reduction for 1 is: 90 to 24\n",
      "2-th channel finished\n",
      "Amount of reduction for 2 is: 173 to 73\n",
      "3-th channel finished\n",
      "Amount of reduction for 3 is: 91 to 24\n",
      "4-th channel finished\n",
      "Amount of reduction for 4 is: 2096 to 24\n",
      "5-th channel finished\n",
      "Amount of reduction for 5 is: 465 to 24\n",
      "6-th channel finished\n",
      "Amount of reduction for 6 is: 77 to 24\n",
      "7-th channel finished\n",
      "Amount of reduction for 7 is: 85 to 24\n",
      "8-th channel finished\n",
      "Amount of reduction for 8 is: 82 to 74\n",
      "9-th channel finished\n",
      "Amount of reduction for 9 is: 86 to 24\n",
      "10-th channel finished\n",
      "Amount of reduction for 10 is: 2272 to 24\n",
      "11-th channel finished\n",
      "Amount of reduction for 11 is: 80 to 24\n",
      "12-th channel finished\n",
      "Amount of reduction for 12 is: 7536 to 24\n",
      "fit_transform result has been saved as instance variable ft_X\n",
      "all fitted\n",
      "0\n",
      "1\n"
     ]
    },
    {
     "name": "stderr",
     "output_type": "stream",
     "text": [
      "/kaggle/usr/lib/tbr_apr_mds/tbr_apr_mds.py:521: RuntimeWarning: invalid value encountered in true_divide\n",
      "  features[f'sm_{i:0>2}'] = np.nan_to_num(features[f'std_{i:0>2}'] / np.abs(np.mean(channel, axis=1))).clip(-1e30, 1e30)\n"
     ]
    },
    {
     "name": "stdout",
     "output_type": "stream",
     "text": [
      "2\n",
      "3\n",
      "4\n",
      "5\n",
      "6\n",
      "7\n",
      "8\n",
      "9\n",
      "10\n",
      "11\n",
      "12\n",
      "El. finished\n"
     ]
    },
    {
     "name": "stderr",
     "output_type": "stream",
     "text": [
      "/kaggle/usr/lib/tbr_apr_mds/tbr_apr_mds.py:536: RuntimeWarning: invalid value encountered in true_divide\n",
      "  features[f'down_mean_02'] = np.nan_to_num(features[f'down_min_02'] / features[f'down_count_02'], neginf=-40)\n"
     ]
    },
    {
     "name": "stdout",
     "output_type": "stream",
     "text": [
      "0 feature extracted\n",
      "1 feature extracted\n",
      "2 feature extracted\n",
      "3 feature extracted\n",
      "4 feature extracted\n",
      "5 feature extracted\n",
      "6 feature extracted\n",
      "7 feature extracted\n",
      "8 feature extracted\n",
      "9 feature extracted\n",
      "10 feature extracted\n",
      "11 feature extracted\n",
      "12 feature extracted\n",
      "ts finished\n",
      "shape=(21008, 411)\n",
      "0\n",
      "1\n",
      "2\n",
      "3\n"
     ]
    },
    {
     "name": "stderr",
     "output_type": "stream",
     "text": [
      "/kaggle/usr/lib/tbr_apr_mds/tbr_apr_mds.py:521: RuntimeWarning: invalid value encountered in true_divide\n",
      "  features[f'sm_{i:0>2}'] = np.nan_to_num(features[f'std_{i:0>2}'] / np.abs(np.mean(channel, axis=1))).clip(-1e30, 1e30)\n"
     ]
    },
    {
     "name": "stdout",
     "output_type": "stream",
     "text": [
      "4\n",
      "5\n",
      "6\n",
      "7\n",
      "8\n",
      "9\n",
      "10\n",
      "11\n"
     ]
    },
    {
     "name": "stderr",
     "output_type": "stream",
     "text": [
      "/kaggle/usr/lib/tbr_apr_mds/tbr_apr_mds.py:521: RuntimeWarning: divide by zero encountered in true_divide\n",
      "  features[f'sm_{i:0>2}'] = np.nan_to_num(features[f'std_{i:0>2}'] / np.abs(np.mean(channel, axis=1))).clip(-1e30, 1e30)\n"
     ]
    },
    {
     "name": "stdout",
     "output_type": "stream",
     "text": [
      "12\n",
      "El. finished\n"
     ]
    },
    {
     "name": "stderr",
     "output_type": "stream",
     "text": [
      "/kaggle/usr/lib/tbr_apr_mds/tbr_apr_mds.py:536: RuntimeWarning: invalid value encountered in true_divide\n",
      "  features[f'down_mean_02'] = np.nan_to_num(features[f'down_min_02'] / features[f'down_count_02'], neginf=-40)\n"
     ]
    },
    {
     "name": "stdout",
     "output_type": "stream",
     "text": [
      "0 feature extracted\n",
      "1 feature extracted\n",
      "2 feature extracted\n",
      "3 feature extracted\n",
      "4 feature extracted\n",
      "5 feature extracted\n",
      "6 feature extracted\n",
      "7 feature extracted\n",
      "8 feature extracted\n",
      "9 feature extracted\n",
      "10 feature extracted\n",
      "11 feature extracted\n",
      "12 feature extracted\n",
      "ts finished\n",
      "shape=(4960, 411)\n",
      "[(0, 107), (108, 320), (321, 731)]\n",
      "(21008, 732) (4960, 732)\n",
      "model fitting on feature 0 to 107\n",
      "model fitting on feature 108 to 320\n",
      "model fitting on feature 321 to 731\n",
      "model fitting on feature 0 to 107\n",
      "model fitting on feature 108 to 320\n",
      "model fitting on feature 321 to 731\n",
      "model fitting on feature 0 to 107\n",
      "[LightGBM] [Warning] Unknown parameter: indices\n",
      "model fitting on feature 108 to 320\n",
      "model fitting on feature 321 to 731\n",
      "model fitting on feature 0 to 107\n",
      "model fitting on feature 108 to 320\n",
      "model fitting on feature 321 to 731\n",
      "model fitting on feature 0 to 107\n",
      "model fitting on feature 0 to 107\n",
      "model fitting on feature 0 to 107\n",
      "[LightGBM] [Warning] Unknown parameter: indices\n",
      "model fitting on feature 0 to 107\n",
      "[LightGBM] [Warning] Unknown parameter: indices\n",
      "model fitting on feature 0 to 107\n",
      "[LightGBM] [Warning] Unknown parameter: indices\n",
      "model fitting on feature 0 to 107\n",
      "[LightGBM] [Warning] Unknown parameter: indices\n",
      "model fitting on feature 108 to 320\n",
      "model fitting on feature 108 to 320\n",
      "[LightGBM] [Warning] Unknown parameter: indices\n",
      "model fitting on feature 108 to 320\n",
      "[LightGBM] [Warning] Unknown parameter: indices\n",
      "model fitting on feature 108 to 320\n",
      "[LightGBM] [Warning] Unknown parameter: indices\n",
      "model fitting on feature 108 to 320\n",
      "[LightGBM] [Warning] Unknown parameter: indices\n",
      "model fitting on feature 108 to 320\n",
      "[LightGBM] [Warning] Unknown parameter: indices\n",
      "model fitting on feature 321 to 731\n",
      "model fitting on feature 321 to 731\n",
      "[LightGBM] [Warning] Unknown parameter: indices\n",
      "model fitting on feature 321 to 731\n",
      "[LightGBM] [Warning] Unknown parameter: indices\n",
      "model fitting on feature 321 to 731\n",
      "[LightGBM] [Warning] Unknown parameter: indices\n",
      "model fitting on feature 321 to 731\n",
      "[LightGBM] [Warning] Unknown parameter: indices\n",
      "model fitting on feature 321 to 731\n",
      "[LightGBM] [Warning] Unknown parameter: indices\n",
      "model fitting on feature 0 to 107\n",
      "model fitting on feature 0 to 107\n",
      "[LightGBM] [Warning] Unknown parameter: indices\n",
      "model fitting on feature 0 to 107\n",
      "[LightGBM] [Warning] Unknown parameter: indices\n",
      "model fitting on feature 0 to 107\n",
      "[LightGBM] [Warning] Unknown parameter: indices\n",
      "model fitting on feature 0 to 107\n",
      "[LightGBM] [Warning] Unknown parameter: indices\n",
      "model fitting on feature 0 to 107\n",
      "[LightGBM] [Warning] Unknown parameter: indices\n",
      "model fitting on feature 108 to 320\n",
      "model fitting on feature 108 to 320\n",
      "[LightGBM] [Warning] Unknown parameter: indices\n",
      "model fitting on feature 108 to 320\n",
      "[LightGBM] [Warning] Unknown parameter: indices\n",
      "model fitting on feature 108 to 320\n",
      "[LightGBM] [Warning] Unknown parameter: indices\n",
      "model fitting on feature 108 to 320\n",
      "[LightGBM] [Warning] Unknown parameter: indices\n",
      "model fitting on feature 108 to 320\n",
      "[LightGBM] [Warning] Unknown parameter: indices\n",
      "model fitting on feature 321 to 731\n",
      "model fitting on feature 321 to 731\n",
      "[LightGBM] [Warning] Unknown parameter: indices\n",
      "model fitting on feature 321 to 731\n",
      "[LightGBM] [Warning] Unknown parameter: indices\n",
      "model fitting on feature 321 to 731\n",
      "[LightGBM] [Warning] Unknown parameter: indices\n",
      "model fitting on feature 321 to 731\n",
      "[LightGBM] [Warning] Unknown parameter: indices\n",
      "model fitting on feature 321 to 731\n",
      "[LightGBM] [Warning] Unknown parameter: indices\n",
      "0.9993930963721968\n",
      "0.9652083990919567\n",
      "              precision    recall  f1-score   support\n",
      "\n",
      "           0     0.9245    0.8964    0.9103      2597\n",
      "           1     0.8898    0.9196    0.9045      2363\n",
      "\n",
      "    accuracy                         0.9075      4960\n",
      "   macro avg     0.9072    0.9080    0.9074      4960\n",
      "weighted avg     0.9080    0.9075    0.9075      4960\n",
      "\n",
      "5-fold CV score: 0.9632\n"
     ]
    }
   ],
   "source": [
    "\n",
    "from lightgbm import LGBMClassifier\n",
    "from sklearn.ensemble import StackingClassifier\n",
    "from sklearn.pipeline import make_union\n",
    "from sklearn.metrics import classification_report\n",
    "cv_scores = []\n",
    "\n",
    "extractors = [ElementaryExtractor(), TsfreshExtractor(), MBOP(window_size=4,word_size=4,n_bins=10)]\n",
    "extractor = make_union(*extractors)\n",
    "\n",
    "for mask_df_val, mask_y_val in group_splitter(df, nfold=5, random_state=42):\n",
    "    df_train, y_train = df[~mask_df_val], y[~mask_y_val]\n",
    "    df_val, y_val = df[mask_df_val], y[mask_y_val]\n",
    "    X_train = extractor.fit_transform(df_train)\n",
    "    partition=[]\n",
    "    k=0\n",
    "    for t_name,transformer in extractor.transformer_list: #producing partition of indices\n",
    "        zt = transformer.transform(zf[~mask_df_val])\n",
    "        partition.append((k,k+zt.shape[1]-1))\n",
    "        k+=zt.shape[1]\n",
    "    X_val = extractor.transform(df_val)\n",
    "    print(partition)\n",
    "    print(X_train.shape, X_val.shape)\n",
    "    clfs = []\n",
    "    for tp in partition:\n",
    "        clfs.append(PartialClassifier(n_estimators=200, random_state=42,max_depth=10,indices=tp))\n",
    "    for tp in partition:\n",
    "        clfs.append(PartialClassifier(n_estimators=200, random_state=42,max_depth=-1,boosting_type=\"dart\",indices=tp))\n",
    "    clfs.append(LGBMClassifier(n_estimators=200,random_state=42,max_depth=-1))\n",
    "    estimators = []\n",
    "    for i in range(len(clfs)):#Stacking Classifier needs name for each estimators \n",
    "        estimators.append((str(i),clfs[i]))\n",
    "\n",
    "    clf = StackingClassifier(\n",
    "        estimators=estimators, final_estimator=LGBMClassifier(n_estimators=300,random_state=42,max_depth=-1))\n",
    "    clf.fit(X_train, y_train)\n",
    "    print(evaluate(clf, X_train, y_train))\n",
    "    print(evaluate(clf, X_val, y_val))\n",
    "    print(classification_report(y_val, (clf.predict(X_val) >= 0.5).astype(int), digits=4 ))\n",
    "    cv_scores.append(evaluate(clf, X_val, y_val))\n",
    "    print(f'5-fold CV score: {np.mean(cv_scores):.4f}')"
   ]
  },
  {
   "cell_type": "code",
   "execution_count": 8,
   "id": "2d411b7d",
   "metadata": {
    "execution": {
     "iopub.execute_input": "2022-10-06T06:11:20.481922Z",
     "iopub.status.busy": "2022-10-06T06:11:20.480898Z",
     "iopub.status.idle": "2022-10-06T06:11:20.487067Z",
     "shell.execute_reply": "2022-10-06T06:11:20.486098Z"
    },
    "papermill": {
     "duration": 0.059168,
     "end_time": "2022-10-06T06:11:20.489190",
     "exception": false,
     "start_time": "2022-10-06T06:11:20.430022",
     "status": "completed"
    },
    "tags": []
   },
   "outputs": [],
   "source": [
    "# clf = LGBMClassifier(num_leaves=31, max_depth=4, n_estimators=100)\n",
    "\n",
    "# df_train_final = df\n",
    "# y_train_final = y\n",
    "# X_train_final = extractor.fit_transform(df_train_final)\n",
    "# clf.fit(X_train_final, y_train_final)\n",
    "\n",
    "# df_test_final = load_raw_data('test')\n",
    "# X_test_final = extractor.transform(df_test_final)\n",
    "# y_pred = clf.predict_proba(X_test_final)[:, 1]\n",
    "# submit(y_pred)"
   ]
  }
 ],
 "metadata": {
  "kernelspec": {
   "display_name": "Python 3",
   "language": "python",
   "name": "python3"
  },
  "language_info": {
   "codemirror_mode": {
    "name": "ipython",
    "version": 3
   },
   "file_extension": ".py",
   "mimetype": "text/x-python",
   "name": "python",
   "nbconvert_exporter": "python",
   "pygments_lexer": "ipython3",
   "version": "3.7.12"
  },
  "papermill": {
   "default_parameters": {},
   "duration": 18446.889612,
   "end_time": "2022-10-06T06:11:22.226760",
   "environment_variables": {},
   "exception": null,
   "input_path": "__notebook__.ipynb",
   "output_path": "__notebook__.ipynb",
   "parameters": {},
   "start_time": "2022-10-06T01:03:55.337148",
   "version": "2.3.4"
  }
 },
 "nbformat": 4,
 "nbformat_minor": 5
}
